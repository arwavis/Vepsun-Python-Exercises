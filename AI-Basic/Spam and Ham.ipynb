{
 "cells": [
  {
   "cell_type": "markdown",
   "metadata": {},
   "source": [
    "# import all libraries"
   ]
  },
  {
   "cell_type": "code",
   "execution_count": 35,
   "metadata": {},
   "outputs": [],
   "source": [
    "import numpy as np\n",
    "import pandas as pd\n",
    "import matplotlib.pyplot as plt\n",
    "import seaborn as sns\n",
    "import pandas as pd\n",
    "import re\n",
    "import numpy as np\n",
    "import string\n",
    "import math\n",
    "from warnings import simplefilter\n",
    "simplefilter(action='ignore', category=FutureWarning)"
   ]
  },
  {
   "cell_type": "markdown",
   "metadata": {},
   "source": [
    "# Loading the data in dataset"
   ]
  },
  {
   "cell_type": "code",
   "execution_count": 36,
   "metadata": {},
   "outputs": [],
   "source": [
    "dataset1 = pd.read_csv('completeSpamAssassin.csv', usecols=['Body','Label'])"
   ]
  },
  {
   "cell_type": "code",
   "execution_count": 37,
   "metadata": {},
   "outputs": [
    {
     "data": {
      "text/html": [
       "<div>\n",
       "<style scoped>\n",
       "    .dataframe tbody tr th:only-of-type {\n",
       "        vertical-align: middle;\n",
       "    }\n",
       "\n",
       "    .dataframe tbody tr th {\n",
       "        vertical-align: top;\n",
       "    }\n",
       "\n",
       "    .dataframe thead th {\n",
       "        text-align: right;\n",
       "    }\n",
       "</style>\n",
       "<table border=\"1\" class=\"dataframe\">\n",
       "  <thead>\n",
       "    <tr style=\"text-align: right;\">\n",
       "      <th></th>\n",
       "      <th>Body</th>\n",
       "      <th>Label</th>\n",
       "    </tr>\n",
       "  </thead>\n",
       "  <tbody>\n",
       "    <tr>\n",
       "      <th>0</th>\n",
       "      <td>\\nSave up to 70% on Life Insurance.\\nWhy Spend...</td>\n",
       "      <td>1</td>\n",
       "    </tr>\n",
       "    <tr>\n",
       "      <th>1</th>\n",
       "      <td>1) Fight The Risk of Cancer!\\nhttp://www.adcli...</td>\n",
       "      <td>1</td>\n",
       "    </tr>\n",
       "    <tr>\n",
       "      <th>2</th>\n",
       "      <td>1) Fight The Risk of Cancer!\\nhttp://www.adcli...</td>\n",
       "      <td>1</td>\n",
       "    </tr>\n",
       "    <tr>\n",
       "      <th>3</th>\n",
       "      <td>##############################################...</td>\n",
       "      <td>1</td>\n",
       "    </tr>\n",
       "    <tr>\n",
       "      <th>4</th>\n",
       "      <td>I thought you might like these:\\n1) Slim Down ...</td>\n",
       "      <td>1</td>\n",
       "    </tr>\n",
       "    <tr>\n",
       "      <th>...</th>\n",
       "      <td>...</td>\n",
       "      <td>...</td>\n",
       "    </tr>\n",
       "    <tr>\n",
       "      <th>6041</th>\n",
       "      <td>empty</td>\n",
       "      <td>0</td>\n",
       "    </tr>\n",
       "    <tr>\n",
       "      <th>6042</th>\n",
       "      <td>___           ___           ...</td>\n",
       "      <td>0</td>\n",
       "    </tr>\n",
       "    <tr>\n",
       "      <th>6043</th>\n",
       "      <td>IN THIS ISSUE:01. Readers write\\n02. Extension...</td>\n",
       "      <td>0</td>\n",
       "    </tr>\n",
       "    <tr>\n",
       "      <th>6044</th>\n",
       "      <td>empty</td>\n",
       "      <td>0</td>\n",
       "    </tr>\n",
       "    <tr>\n",
       "      <th>6045</th>\n",
       "      <td>empty</td>\n",
       "      <td>0</td>\n",
       "    </tr>\n",
       "  </tbody>\n",
       "</table>\n",
       "<p>6046 rows × 2 columns</p>\n",
       "</div>"
      ],
      "text/plain": [
       "                                                   Body  Label\n",
       "0     \\nSave up to 70% on Life Insurance.\\nWhy Spend...      1\n",
       "1     1) Fight The Risk of Cancer!\\nhttp://www.adcli...      1\n",
       "2     1) Fight The Risk of Cancer!\\nhttp://www.adcli...      1\n",
       "3     ##############################################...      1\n",
       "4     I thought you might like these:\\n1) Slim Down ...      1\n",
       "...                                                 ...    ...\n",
       "6041                                              empty      0\n",
       "6042                    ___           ___           ...      0\n",
       "6043  IN THIS ISSUE:01. Readers write\\n02. Extension...      0\n",
       "6044                                              empty      0\n",
       "6045                                              empty      0\n",
       "\n",
       "[6046 rows x 2 columns]"
      ]
     },
     "execution_count": 37,
     "metadata": {},
     "output_type": "execute_result"
    }
   ],
   "source": [
    "dataset1"
   ]
  },
  {
   "cell_type": "code",
   "execution_count": 38,
   "metadata": {},
   "outputs": [],
   "source": [
    "dataset2 = pd.read_csv('enronSpamSubset.csv')"
   ]
  },
  {
   "cell_type": "code",
   "execution_count": 39,
   "metadata": {},
   "outputs": [
    {
     "data": {
      "text/html": [
       "<div>\n",
       "<style scoped>\n",
       "    .dataframe tbody tr th:only-of-type {\n",
       "        vertical-align: middle;\n",
       "    }\n",
       "\n",
       "    .dataframe tbody tr th {\n",
       "        vertical-align: top;\n",
       "    }\n",
       "\n",
       "    .dataframe thead th {\n",
       "        text-align: right;\n",
       "    }\n",
       "</style>\n",
       "<table border=\"1\" class=\"dataframe\">\n",
       "  <thead>\n",
       "    <tr style=\"text-align: right;\">\n",
       "      <th></th>\n",
       "      <th>Unnamed: 0</th>\n",
       "      <th>Unnamed: 0.1</th>\n",
       "      <th>Body</th>\n",
       "      <th>Label</th>\n",
       "    </tr>\n",
       "  </thead>\n",
       "  <tbody>\n",
       "    <tr>\n",
       "      <th>0</th>\n",
       "      <td>2469</td>\n",
       "      <td>2469</td>\n",
       "      <td>Subject: stock promo mover : cwtd\\n * * * urge...</td>\n",
       "      <td>1</td>\n",
       "    </tr>\n",
       "    <tr>\n",
       "      <th>1</th>\n",
       "      <td>5063</td>\n",
       "      <td>5063</td>\n",
       "      <td>Subject: are you listed in major search engine...</td>\n",
       "      <td>1</td>\n",
       "    </tr>\n",
       "    <tr>\n",
       "      <th>2</th>\n",
       "      <td>12564</td>\n",
       "      <td>12564</td>\n",
       "      <td>Subject: important information thu , 30 jun 20...</td>\n",
       "      <td>1</td>\n",
       "    </tr>\n",
       "    <tr>\n",
       "      <th>3</th>\n",
       "      <td>2796</td>\n",
       "      <td>2796</td>\n",
       "      <td>Subject: = ? utf - 8 ? q ? bask your life with...</td>\n",
       "      <td>1</td>\n",
       "    </tr>\n",
       "    <tr>\n",
       "      <th>4</th>\n",
       "      <td>1468</td>\n",
       "      <td>1468</td>\n",
       "      <td>Subject: \" bidstogo \" is places to go , things...</td>\n",
       "      <td>1</td>\n",
       "    </tr>\n",
       "    <tr>\n",
       "      <th>...</th>\n",
       "      <td>...</td>\n",
       "      <td>...</td>\n",
       "      <td>...</td>\n",
       "      <td>...</td>\n",
       "    </tr>\n",
       "    <tr>\n",
       "      <th>9995</th>\n",
       "      <td>26222</td>\n",
       "      <td>26222</td>\n",
       "      <td>Subject: monday 22 nd oct\\n louise ,\\n do you ...</td>\n",
       "      <td>0</td>\n",
       "    </tr>\n",
       "    <tr>\n",
       "      <th>9996</th>\n",
       "      <td>18630</td>\n",
       "      <td>18630</td>\n",
       "      <td>Subject: missing bloomberg deals\\n stephanie -...</td>\n",
       "      <td>0</td>\n",
       "    </tr>\n",
       "    <tr>\n",
       "      <th>9997</th>\n",
       "      <td>18451</td>\n",
       "      <td>18451</td>\n",
       "      <td>Subject: eops salary survey questionnaire\\n we...</td>\n",
       "      <td>0</td>\n",
       "    </tr>\n",
       "    <tr>\n",
       "      <th>9998</th>\n",
       "      <td>21955</td>\n",
       "      <td>21955</td>\n",
       "      <td>Subject: q 3 comparison\\n hi louise ,\\n i have...</td>\n",
       "      <td>0</td>\n",
       "    </tr>\n",
       "    <tr>\n",
       "      <th>9999</th>\n",
       "      <td>32062</td>\n",
       "      <td>32062</td>\n",
       "      <td>Subject: confidential folder to safely pass in...</td>\n",
       "      <td>0</td>\n",
       "    </tr>\n",
       "  </tbody>\n",
       "</table>\n",
       "<p>10000 rows × 4 columns</p>\n",
       "</div>"
      ],
      "text/plain": [
       "      Unnamed: 0  Unnamed: 0.1  \\\n",
       "0           2469          2469   \n",
       "1           5063          5063   \n",
       "2          12564         12564   \n",
       "3           2796          2796   \n",
       "4           1468          1468   \n",
       "...          ...           ...   \n",
       "9995       26222         26222   \n",
       "9996       18630         18630   \n",
       "9997       18451         18451   \n",
       "9998       21955         21955   \n",
       "9999       32062         32062   \n",
       "\n",
       "                                                   Body  Label  \n",
       "0     Subject: stock promo mover : cwtd\\n * * * urge...      1  \n",
       "1     Subject: are you listed in major search engine...      1  \n",
       "2     Subject: important information thu , 30 jun 20...      1  \n",
       "3     Subject: = ? utf - 8 ? q ? bask your life with...      1  \n",
       "4     Subject: \" bidstogo \" is places to go , things...      1  \n",
       "...                                                 ...    ...  \n",
       "9995  Subject: monday 22 nd oct\\n louise ,\\n do you ...      0  \n",
       "9996  Subject: missing bloomberg deals\\n stephanie -...      0  \n",
       "9997  Subject: eops salary survey questionnaire\\n we...      0  \n",
       "9998  Subject: q 3 comparison\\n hi louise ,\\n i have...      0  \n",
       "9999  Subject: confidential folder to safely pass in...      0  \n",
       "\n",
       "[10000 rows x 4 columns]"
      ]
     },
     "execution_count": 39,
     "metadata": {},
     "output_type": "execute_result"
    }
   ],
   "source": [
    "dataset2"
   ]
  },
  {
   "cell_type": "code",
   "execution_count": 40,
   "metadata": {},
   "outputs": [],
   "source": [
    "dataset3 = pd.read_csv('lingSpam.csv', usecols=['Body','Label'])"
   ]
  },
  {
   "cell_type": "code",
   "execution_count": 41,
   "metadata": {},
   "outputs": [
    {
     "data": {
      "text/html": [
       "<div>\n",
       "<style scoped>\n",
       "    .dataframe tbody tr th:only-of-type {\n",
       "        vertical-align: middle;\n",
       "    }\n",
       "\n",
       "    .dataframe tbody tr th {\n",
       "        vertical-align: top;\n",
       "    }\n",
       "\n",
       "    .dataframe thead th {\n",
       "        text-align: right;\n",
       "    }\n",
       "</style>\n",
       "<table border=\"1\" class=\"dataframe\">\n",
       "  <thead>\n",
       "    <tr style=\"text-align: right;\">\n",
       "      <th></th>\n",
       "      <th>Body</th>\n",
       "      <th>Label</th>\n",
       "    </tr>\n",
       "  </thead>\n",
       "  <tbody>\n",
       "    <tr>\n",
       "      <th>0</th>\n",
       "      <td>Subject: great part-time or summer job !\\n \\n ...</td>\n",
       "      <td>1</td>\n",
       "    </tr>\n",
       "    <tr>\n",
       "      <th>1</th>\n",
       "      <td>Subject: auto insurance rates too high ?\\n \\n ...</td>\n",
       "      <td>1</td>\n",
       "    </tr>\n",
       "    <tr>\n",
       "      <th>2</th>\n",
       "      <td>Subject: do want the best and economical hunti...</td>\n",
       "      <td>1</td>\n",
       "    </tr>\n",
       "    <tr>\n",
       "      <th>3</th>\n",
       "      <td>Subject: email 57 million people for $ 99\\n \\n...</td>\n",
       "      <td>1</td>\n",
       "    </tr>\n",
       "    <tr>\n",
       "      <th>4</th>\n",
       "      <td>Subject: do n't miss these !\\n \\n attention ! ...</td>\n",
       "      <td>1</td>\n",
       "    </tr>\n",
       "    <tr>\n",
       "      <th>...</th>\n",
       "      <td>...</td>\n",
       "      <td>...</td>\n",
       "    </tr>\n",
       "    <tr>\n",
       "      <th>2600</th>\n",
       "      <td>Subject: computationally - intensive methods i...</td>\n",
       "      <td>0</td>\n",
       "    </tr>\n",
       "    <tr>\n",
       "      <th>2601</th>\n",
       "      <td>Subject: books : a survey of american linguist...</td>\n",
       "      <td>0</td>\n",
       "    </tr>\n",
       "    <tr>\n",
       "      <th>2602</th>\n",
       "      <td>Subject: wecol ' 98 - - western conference on ...</td>\n",
       "      <td>0</td>\n",
       "    </tr>\n",
       "    <tr>\n",
       "      <th>2603</th>\n",
       "      <td>Subject: euralex ' 98 - revised programme\\n \\n...</td>\n",
       "      <td>0</td>\n",
       "    </tr>\n",
       "    <tr>\n",
       "      <th>2604</th>\n",
       "      <td>,Body,Label\\n 0,\"Subject: great part-time or s...</td>\n",
       "      <td>0</td>\n",
       "    </tr>\n",
       "  </tbody>\n",
       "</table>\n",
       "<p>2605 rows × 2 columns</p>\n",
       "</div>"
      ],
      "text/plain": [
       "                                                   Body  Label\n",
       "0     Subject: great part-time or summer job !\\n \\n ...      1\n",
       "1     Subject: auto insurance rates too high ?\\n \\n ...      1\n",
       "2     Subject: do want the best and economical hunti...      1\n",
       "3     Subject: email 57 million people for $ 99\\n \\n...      1\n",
       "4     Subject: do n't miss these !\\n \\n attention ! ...      1\n",
       "...                                                 ...    ...\n",
       "2600  Subject: computationally - intensive methods i...      0\n",
       "2601  Subject: books : a survey of american linguist...      0\n",
       "2602  Subject: wecol ' 98 - - western conference on ...      0\n",
       "2603  Subject: euralex ' 98 - revised programme\\n \\n...      0\n",
       "2604  ,Body,Label\\n 0,\"Subject: great part-time or s...      0\n",
       "\n",
       "[2605 rows x 2 columns]"
      ]
     },
     "execution_count": 41,
     "metadata": {},
     "output_type": "execute_result"
    }
   ],
   "source": [
    "dataset3"
   ]
  },
  {
   "cell_type": "code",
   "execution_count": 42,
   "metadata": {},
   "outputs": [
    {
     "name": "stdout",
     "output_type": "stream",
     "text": [
      "Dataset 1 shape: (6046, 2)\n",
      "Dataset 2 shape: (10000, 4)\n",
      "Dataset 3 shape: (2605, 2)\n"
     ]
    }
   ],
   "source": [
    "print('Dataset 1 shape:',dataset1.shape)\n",
    "print('Dataset 2 shape:',dataset2.shape)\n",
    "print('Dataset 3 shape:',dataset3.shape)"
   ]
  },
  {
   "cell_type": "code",
   "execution_count": 43,
   "metadata": {},
   "outputs": [
    {
     "data": {
      "text/plain": [
       "\"##################################################\\n#                                                #\\n#                 Adult Club                     #\\n#           Offers FREE Membership               #\\n#                                                #\\n##################################################>>>>>  INSTANT ACCESS TO ALL SITES NOW\\n>>>>>  Your User Name And Password is.\\n>>>>>  User Name: zzzz@spamassassin.taint.org\\n>>>>>  Password: 7603825 of the Best Adult Sites on the Internet for FREE!\\n---------------------------------------\\nNEWS 08/18/02\\nWith just over 2.9 Million Members that signed up for FREE, Last month there were 721,184 New\\nMembers. Are you one of them yet???\\n---------------------------------------\\nOur Membership FAQQ. Why are you offering free access to 5 adult membership sites for free?\\nA. I have advertisers that pay me for ad space so you don't have to pay for membership.Q. Is it true my membership is for life?\\nA. Absolutely you'll never have to pay a cent the advertisers do.Q. Can I give my account to my friends and family?\\nA. Yes, as long they are over the age of 18.Q. Do I have to sign up for all 5 membership sites?\\nA. No just one to get access to all of them.Q. How do I get started?\\nA. Click on one of the following links below to become a member.- These are multi million dollar operations with policies and rules.\\n- Fill in the required info and they won't charge you for the Free pass!\\n- If you don't believe us, just read their terms and conditions.---------------------------# 5. > Adults Farm\\nhttp://80.71.66.8/farm/?aid=760382\\nGirls and Animals Getting Freaky....FREE Lifetime Membership!!# 4. > Sexy Celebes\\nhttp://80.71.66.8/celebst/?aid=760382\\nThousands Of XXX Celebes doing it...FREE Lifetime Membership!!# 3. > Play House Porn\\nhttp://80.71.66.8/mega/?aid=760382\\nLive Feeds From 60 Sites And Web Cams...FREE Lifetime Membership!!# 2. > Asian Sex Fantasies\\nhttp://80.71.66.8/asian/?aid=760382\\nJapanese Schoolgirls, Live Sex Shows ...FREE Lifetime Membership!!# 1. > Lesbian Lace\\nhttp://80.71.66.8/lesbian/?aid=760382\\nGirls and Girls Getting Freaky! ...FREE Lifetime Membership!!--------------------------Jennifer Simpson, Miami, FL\\nYour FREE lifetime membership has entertained my boyffriend and I for\\nthe last two years!  Your Adult Sites are the best on the net!Joe Morgan Manhattan, NY\\nYour live sex shows and live sex cams are unbelievable. The best part\\nabout your porn sites, is that they're absolutely FREE!--------------------------Removal Instructions:You have received this advertisement because you have opted in to receive free adult internet\\noffers and specials through our affiliated websites. If you do not wish to receive further emails\\nor have received the email in error you may opt-out of our database here\\nhttp://80.71.66.8/optout/ . Please allow 24 hours for removal.vonolmosatkirekpups\""
      ]
     },
     "execution_count": 43,
     "metadata": {},
     "output_type": "execute_result"
    }
   ],
   "source": [
    "dataset1.iloc[3]['Body']"
   ]
  },
  {
   "cell_type": "markdown",
   "metadata": {},
   "source": [
    "# Data Prepration"
   ]
  },
  {
   "cell_type": "code",
   "execution_count": 44,
   "metadata": {},
   "outputs": [],
   "source": [
    "dataset1_1 = dataset1[['Body','Label']]\n",
    "dataset2_1 = dataset2[['Body','Label']]\n",
    "dataset3_1 = dataset3[['Body','Label']]"
   ]
  },
  {
   "cell_type": "code",
   "execution_count": 45,
   "metadata": {},
   "outputs": [
    {
     "data": {
      "text/html": [
       "<div>\n",
       "<style scoped>\n",
       "    .dataframe tbody tr th:only-of-type {\n",
       "        vertical-align: middle;\n",
       "    }\n",
       "\n",
       "    .dataframe tbody tr th {\n",
       "        vertical-align: top;\n",
       "    }\n",
       "\n",
       "    .dataframe thead th {\n",
       "        text-align: right;\n",
       "    }\n",
       "</style>\n",
       "<table border=\"1\" class=\"dataframe\">\n",
       "  <thead>\n",
       "    <tr style=\"text-align: right;\">\n",
       "      <th></th>\n",
       "      <th>Body</th>\n",
       "      <th>Label</th>\n",
       "    </tr>\n",
       "  </thead>\n",
       "  <tbody>\n",
       "    <tr>\n",
       "      <th>0</th>\n",
       "      <td>\\nSave up to 70% on Life Insurance.\\nWhy Spend...</td>\n",
       "      <td>1</td>\n",
       "    </tr>\n",
       "    <tr>\n",
       "      <th>1</th>\n",
       "      <td>1) Fight The Risk of Cancer!\\nhttp://www.adcli...</td>\n",
       "      <td>1</td>\n",
       "    </tr>\n",
       "    <tr>\n",
       "      <th>2</th>\n",
       "      <td>1) Fight The Risk of Cancer!\\nhttp://www.adcli...</td>\n",
       "      <td>1</td>\n",
       "    </tr>\n",
       "  </tbody>\n",
       "</table>\n",
       "</div>"
      ],
      "text/plain": [
       "                                                Body  Label\n",
       "0  \\nSave up to 70% on Life Insurance.\\nWhy Spend...      1\n",
       "1  1) Fight The Risk of Cancer!\\nhttp://www.adcli...      1\n",
       "2  1) Fight The Risk of Cancer!\\nhttp://www.adcli...      1"
      ]
     },
     "execution_count": 45,
     "metadata": {},
     "output_type": "execute_result"
    }
   ],
   "source": [
    "dataset1_1.head(3)\n"
   ]
  },
  {
   "cell_type": "code",
   "execution_count": 46,
   "metadata": {},
   "outputs": [
    {
     "data": {
      "text/html": [
       "<div>\n",
       "<style scoped>\n",
       "    .dataframe tbody tr th:only-of-type {\n",
       "        vertical-align: middle;\n",
       "    }\n",
       "\n",
       "    .dataframe tbody tr th {\n",
       "        vertical-align: top;\n",
       "    }\n",
       "\n",
       "    .dataframe thead th {\n",
       "        text-align: right;\n",
       "    }\n",
       "</style>\n",
       "<table border=\"1\" class=\"dataframe\">\n",
       "  <thead>\n",
       "    <tr style=\"text-align: right;\">\n",
       "      <th></th>\n",
       "      <th>Body</th>\n",
       "      <th>Label</th>\n",
       "    </tr>\n",
       "  </thead>\n",
       "  <tbody>\n",
       "    <tr>\n",
       "      <th>0</th>\n",
       "      <td>Subject: stock promo mover : cwtd\\n * * * urge...</td>\n",
       "      <td>1</td>\n",
       "    </tr>\n",
       "    <tr>\n",
       "      <th>1</th>\n",
       "      <td>Subject: are you listed in major search engine...</td>\n",
       "      <td>1</td>\n",
       "    </tr>\n",
       "    <tr>\n",
       "      <th>2</th>\n",
       "      <td>Subject: important information thu , 30 jun 20...</td>\n",
       "      <td>1</td>\n",
       "    </tr>\n",
       "  </tbody>\n",
       "</table>\n",
       "</div>"
      ],
      "text/plain": [
       "                                                Body  Label\n",
       "0  Subject: stock promo mover : cwtd\\n * * * urge...      1\n",
       "1  Subject: are you listed in major search engine...      1\n",
       "2  Subject: important information thu , 30 jun 20...      1"
      ]
     },
     "execution_count": 46,
     "metadata": {},
     "output_type": "execute_result"
    }
   ],
   "source": [
    "dataset2_1.head(3)"
   ]
  },
  {
   "cell_type": "code",
   "execution_count": 47,
   "metadata": {},
   "outputs": [
    {
     "data": {
      "text/html": [
       "<div>\n",
       "<style scoped>\n",
       "    .dataframe tbody tr th:only-of-type {\n",
       "        vertical-align: middle;\n",
       "    }\n",
       "\n",
       "    .dataframe tbody tr th {\n",
       "        vertical-align: top;\n",
       "    }\n",
       "\n",
       "    .dataframe thead th {\n",
       "        text-align: right;\n",
       "    }\n",
       "</style>\n",
       "<table border=\"1\" class=\"dataframe\">\n",
       "  <thead>\n",
       "    <tr style=\"text-align: right;\">\n",
       "      <th></th>\n",
       "      <th>Body</th>\n",
       "      <th>Label</th>\n",
       "    </tr>\n",
       "  </thead>\n",
       "  <tbody>\n",
       "    <tr>\n",
       "      <th>0</th>\n",
       "      <td>Subject: great part-time or summer job !\\n \\n ...</td>\n",
       "      <td>1</td>\n",
       "    </tr>\n",
       "    <tr>\n",
       "      <th>1</th>\n",
       "      <td>Subject: auto insurance rates too high ?\\n \\n ...</td>\n",
       "      <td>1</td>\n",
       "    </tr>\n",
       "    <tr>\n",
       "      <th>2</th>\n",
       "      <td>Subject: do want the best and economical hunti...</td>\n",
       "      <td>1</td>\n",
       "    </tr>\n",
       "  </tbody>\n",
       "</table>\n",
       "</div>"
      ],
      "text/plain": [
       "                                                Body  Label\n",
       "0  Subject: great part-time or summer job !\\n \\n ...      1\n",
       "1  Subject: auto insurance rates too high ?\\n \\n ...      1\n",
       "2  Subject: do want the best and economical hunti...      1"
      ]
     },
     "execution_count": 47,
     "metadata": {},
     "output_type": "execute_result"
    }
   ],
   "source": [
    "dataset3_1.head(3)"
   ]
  },
  {
   "cell_type": "markdown",
   "metadata": {},
   "source": [
    "# concatenate the three dataset"
   ]
  },
  {
   "cell_type": "code",
   "execution_count": 48,
   "metadata": {},
   "outputs": [],
   "source": [
    "df = pd.concat([dataset1_1,dataset2_1,dataset3_1],ignore_index=True).rename(columns={'Body':'Email','Label':'Spam'})"
   ]
  },
  {
   "cell_type": "code",
   "execution_count": 49,
   "metadata": {},
   "outputs": [
    {
     "data": {
      "text/plain": [
       "(18651, 2)"
      ]
     },
     "execution_count": 49,
     "metadata": {},
     "output_type": "execute_result"
    }
   ],
   "source": [
    "df.shape"
   ]
  },
  {
   "cell_type": "markdown",
   "metadata": {},
   "source": [
    "# Data Cleaning"
   ]
  },
  {
   "cell_type": "code",
   "execution_count": 50,
   "metadata": {},
   "outputs": [
    {
     "data": {
      "text/plain": [
       "Email    1\n",
       "Spam     0\n",
       "dtype: int64"
      ]
     },
     "execution_count": 50,
     "metadata": {},
     "output_type": "execute_result"
    }
   ],
   "source": [
    "df.isnull().sum()"
   ]
  },
  {
   "cell_type": "code",
   "execution_count": 51,
   "metadata": {},
   "outputs": [
    {
     "data": {
      "text/plain": [
       "(18650, 2)"
      ]
     },
     "execution_count": 51,
     "metadata": {},
     "output_type": "execute_result"
    }
   ],
   "source": [
    "df.dropna(inplace=True)\n",
    "df.shape"
   ]
  },
  {
   "cell_type": "markdown",
   "metadata": {},
   "source": [
    "# Feature Engineering - adding of new features\n",
    "New feature for email length\n",
    "New feature for number of special characters in email\n",
    "New feature for number of digits in email\n",
    "New feature for number of spam trigger words present in email"
   ]
  },
  {
   "cell_type": "code",
   "execution_count": 52,
   "metadata": {},
   "outputs": [],
   "source": [
    "df2=df"
   ]
  },
  {
   "cell_type": "markdown",
   "metadata": {},
   "source": [
    "# New feature for email length"
   ]
  },
  {
   "cell_type": "code",
   "execution_count": 53,
   "metadata": {},
   "outputs": [],
   "source": [
    "email_length=[]\n",
    "for email in df2['Email']:\n",
    "    email_length.append(len(email))\n",
    "df2['Email Length'] = email_length"
   ]
  },
  {
   "cell_type": "code",
   "execution_count": 54,
   "metadata": {},
   "outputs": [
    {
     "data": {
      "text/html": [
       "<div>\n",
       "<style scoped>\n",
       "    .dataframe tbody tr th:only-of-type {\n",
       "        vertical-align: middle;\n",
       "    }\n",
       "\n",
       "    .dataframe tbody tr th {\n",
       "        vertical-align: top;\n",
       "    }\n",
       "\n",
       "    .dataframe thead th {\n",
       "        text-align: right;\n",
       "    }\n",
       "</style>\n",
       "<table border=\"1\" class=\"dataframe\">\n",
       "  <thead>\n",
       "    <tr style=\"text-align: right;\">\n",
       "      <th></th>\n",
       "      <th>Email</th>\n",
       "      <th>Spam</th>\n",
       "      <th>Email Length</th>\n",
       "    </tr>\n",
       "  </thead>\n",
       "  <tbody>\n",
       "    <tr>\n",
       "      <th>0</th>\n",
       "      <td>\\nSave up to 70% on Life Insurance.\\nWhy Spend...</td>\n",
       "      <td>1</td>\n",
       "      <td>1111</td>\n",
       "    </tr>\n",
       "    <tr>\n",
       "      <th>1</th>\n",
       "      <td>1) Fight The Risk of Cancer!\\nhttp://www.adcli...</td>\n",
       "      <td>1</td>\n",
       "      <td>753</td>\n",
       "    </tr>\n",
       "    <tr>\n",
       "      <th>2</th>\n",
       "      <td>1) Fight The Risk of Cancer!\\nhttp://www.adcli...</td>\n",
       "      <td>1</td>\n",
       "      <td>610</td>\n",
       "    </tr>\n",
       "    <tr>\n",
       "      <th>3</th>\n",
       "      <td>##############################################...</td>\n",
       "      <td>1</td>\n",
       "      <td>2863</td>\n",
       "    </tr>\n",
       "    <tr>\n",
       "      <th>4</th>\n",
       "      <td>I thought you might like these:\\n1) Slim Down ...</td>\n",
       "      <td>1</td>\n",
       "      <td>641</td>\n",
       "    </tr>\n",
       "    <tr>\n",
       "      <th>...</th>\n",
       "      <td>...</td>\n",
       "      <td>...</td>\n",
       "      <td>...</td>\n",
       "    </tr>\n",
       "    <tr>\n",
       "      <th>18646</th>\n",
       "      <td>Subject: computationally - intensive methods i...</td>\n",
       "      <td>0</td>\n",
       "      <td>3446</td>\n",
       "    </tr>\n",
       "    <tr>\n",
       "      <th>18647</th>\n",
       "      <td>Subject: books : a survey of american linguist...</td>\n",
       "      <td>0</td>\n",
       "      <td>2627</td>\n",
       "    </tr>\n",
       "    <tr>\n",
       "      <th>18648</th>\n",
       "      <td>Subject: wecol ' 98 - - western conference on ...</td>\n",
       "      <td>0</td>\n",
       "      <td>818</td>\n",
       "    </tr>\n",
       "    <tr>\n",
       "      <th>18649</th>\n",
       "      <td>Subject: euralex ' 98 - revised programme\\n \\n...</td>\n",
       "      <td>0</td>\n",
       "      <td>497</td>\n",
       "    </tr>\n",
       "    <tr>\n",
       "      <th>18650</th>\n",
       "      <td>,Body,Label\\n 0,\"Subject: great part-time or s...</td>\n",
       "      <td>0</td>\n",
       "      <td>17085626</td>\n",
       "    </tr>\n",
       "  </tbody>\n",
       "</table>\n",
       "<p>18650 rows × 3 columns</p>\n",
       "</div>"
      ],
      "text/plain": [
       "                                                   Email  Spam  Email Length\n",
       "0      \\nSave up to 70% on Life Insurance.\\nWhy Spend...     1          1111\n",
       "1      1) Fight The Risk of Cancer!\\nhttp://www.adcli...     1           753\n",
       "2      1) Fight The Risk of Cancer!\\nhttp://www.adcli...     1           610\n",
       "3      ##############################################...     1          2863\n",
       "4      I thought you might like these:\\n1) Slim Down ...     1           641\n",
       "...                                                  ...   ...           ...\n",
       "18646  Subject: computationally - intensive methods i...     0          3446\n",
       "18647  Subject: books : a survey of american linguist...     0          2627\n",
       "18648  Subject: wecol ' 98 - - western conference on ...     0           818\n",
       "18649  Subject: euralex ' 98 - revised programme\\n \\n...     0           497\n",
       "18650  ,Body,Label\\n 0,\"Subject: great part-time or s...     0      17085626\n",
       "\n",
       "[18650 rows x 3 columns]"
      ]
     },
     "execution_count": 54,
     "metadata": {},
     "output_type": "execute_result"
    }
   ],
   "source": [
    "df2"
   ]
  },
  {
   "cell_type": "markdown",
   "metadata": {},
   "source": [
    "# New feature for number of special characters in email"
   ]
  },
  {
   "cell_type": "code",
   "execution_count": 55,
   "metadata": {},
   "outputs": [],
   "source": [
    "special_characters = []\n",
    "for email in df2['Email']:\n",
    "    special_characters_counter = 0\n",
    "    for char in email:\n",
    "        if not char.isalnum():\n",
    "            special_characters_counter+=1\n",
    "    special_characters.append(special_characters_counter)\n",
    "      \n",
    "df2['Special characters'] = special_characters"
   ]
  },
  {
   "cell_type": "code",
   "execution_count": 56,
   "metadata": {},
   "outputs": [
    {
     "data": {
      "text/html": [
       "<div>\n",
       "<style scoped>\n",
       "    .dataframe tbody tr th:only-of-type {\n",
       "        vertical-align: middle;\n",
       "    }\n",
       "\n",
       "    .dataframe tbody tr th {\n",
       "        vertical-align: top;\n",
       "    }\n",
       "\n",
       "    .dataframe thead th {\n",
       "        text-align: right;\n",
       "    }\n",
       "</style>\n",
       "<table border=\"1\" class=\"dataframe\">\n",
       "  <thead>\n",
       "    <tr style=\"text-align: right;\">\n",
       "      <th></th>\n",
       "      <th>Email</th>\n",
       "      <th>Spam</th>\n",
       "      <th>Email Length</th>\n",
       "      <th>Special characters</th>\n",
       "    </tr>\n",
       "  </thead>\n",
       "  <tbody>\n",
       "    <tr>\n",
       "      <th>0</th>\n",
       "      <td>\\nSave up to 70% on Life Insurance.\\nWhy Spend...</td>\n",
       "      <td>1</td>\n",
       "      <td>1111</td>\n",
       "      <td>331</td>\n",
       "    </tr>\n",
       "    <tr>\n",
       "      <th>1</th>\n",
       "      <td>1) Fight The Risk of Cancer!\\nhttp://www.adcli...</td>\n",
       "      <td>1</td>\n",
       "      <td>753</td>\n",
       "      <td>176</td>\n",
       "    </tr>\n",
       "    <tr>\n",
       "      <th>2</th>\n",
       "      <td>1) Fight The Risk of Cancer!\\nhttp://www.adcli...</td>\n",
       "      <td>1</td>\n",
       "      <td>610</td>\n",
       "      <td>143</td>\n",
       "    </tr>\n",
       "    <tr>\n",
       "      <th>3</th>\n",
       "      <td>##############################################...</td>\n",
       "      <td>1</td>\n",
       "      <td>2863</td>\n",
       "      <td>1004</td>\n",
       "    </tr>\n",
       "    <tr>\n",
       "      <th>4</th>\n",
       "      <td>I thought you might like these:\\n1) Slim Down ...</td>\n",
       "      <td>1</td>\n",
       "      <td>641</td>\n",
       "      <td>144</td>\n",
       "    </tr>\n",
       "    <tr>\n",
       "      <th>...</th>\n",
       "      <td>...</td>\n",
       "      <td>...</td>\n",
       "      <td>...</td>\n",
       "      <td>...</td>\n",
       "    </tr>\n",
       "    <tr>\n",
       "      <th>18646</th>\n",
       "      <td>Subject: computationally - intensive methods i...</td>\n",
       "      <td>0</td>\n",
       "      <td>3446</td>\n",
       "      <td>644</td>\n",
       "    </tr>\n",
       "    <tr>\n",
       "      <th>18647</th>\n",
       "      <td>Subject: books : a survey of american linguist...</td>\n",
       "      <td>0</td>\n",
       "      <td>2627</td>\n",
       "      <td>589</td>\n",
       "    </tr>\n",
       "    <tr>\n",
       "      <th>18648</th>\n",
       "      <td>Subject: wecol ' 98 - - western conference on ...</td>\n",
       "      <td>0</td>\n",
       "      <td>818</td>\n",
       "      <td>206</td>\n",
       "    </tr>\n",
       "    <tr>\n",
       "      <th>18649</th>\n",
       "      <td>Subject: euralex ' 98 - revised programme\\n \\n...</td>\n",
       "      <td>0</td>\n",
       "      <td>497</td>\n",
       "      <td>145</td>\n",
       "    </tr>\n",
       "    <tr>\n",
       "      <th>18650</th>\n",
       "      <td>,Body,Label\\n 0,\"Subject: great part-time or s...</td>\n",
       "      <td>0</td>\n",
       "      <td>17085626</td>\n",
       "      <td>4779145</td>\n",
       "    </tr>\n",
       "  </tbody>\n",
       "</table>\n",
       "<p>18650 rows × 4 columns</p>\n",
       "</div>"
      ],
      "text/plain": [
       "                                                   Email  Spam  Email Length  \\\n",
       "0      \\nSave up to 70% on Life Insurance.\\nWhy Spend...     1          1111   \n",
       "1      1) Fight The Risk of Cancer!\\nhttp://www.adcli...     1           753   \n",
       "2      1) Fight The Risk of Cancer!\\nhttp://www.adcli...     1           610   \n",
       "3      ##############################################...     1          2863   \n",
       "4      I thought you might like these:\\n1) Slim Down ...     1           641   \n",
       "...                                                  ...   ...           ...   \n",
       "18646  Subject: computationally - intensive methods i...     0          3446   \n",
       "18647  Subject: books : a survey of american linguist...     0          2627   \n",
       "18648  Subject: wecol ' 98 - - western conference on ...     0           818   \n",
       "18649  Subject: euralex ' 98 - revised programme\\n \\n...     0           497   \n",
       "18650  ,Body,Label\\n 0,\"Subject: great part-time or s...     0      17085626   \n",
       "\n",
       "       Special characters  \n",
       "0                     331  \n",
       "1                     176  \n",
       "2                     143  \n",
       "3                    1004  \n",
       "4                     144  \n",
       "...                   ...  \n",
       "18646                 644  \n",
       "18647                 589  \n",
       "18648                 206  \n",
       "18649                 145  \n",
       "18650             4779145  \n",
       "\n",
       "[18650 rows x 4 columns]"
      ]
     },
     "execution_count": 56,
     "metadata": {},
     "output_type": "execute_result"
    }
   ],
   "source": [
    "df2"
   ]
  },
  {
   "cell_type": "markdown",
   "metadata": {},
   "source": [
    "# New feature for number of digits in email"
   ]
  },
  {
   "cell_type": "code",
   "execution_count": 57,
   "metadata": {},
   "outputs": [
    {
     "data": {
      "text/html": [
       "<div>\n",
       "<style scoped>\n",
       "    .dataframe tbody tr th:only-of-type {\n",
       "        vertical-align: middle;\n",
       "    }\n",
       "\n",
       "    .dataframe tbody tr th {\n",
       "        vertical-align: top;\n",
       "    }\n",
       "\n",
       "    .dataframe thead th {\n",
       "        text-align: right;\n",
       "    }\n",
       "</style>\n",
       "<table border=\"1\" class=\"dataframe\">\n",
       "  <thead>\n",
       "    <tr style=\"text-align: right;\">\n",
       "      <th></th>\n",
       "      <th>Email</th>\n",
       "      <th>Spam</th>\n",
       "      <th>Email Length</th>\n",
       "      <th>Special characters</th>\n",
       "      <th>No of Digits</th>\n",
       "    </tr>\n",
       "  </thead>\n",
       "  <tbody>\n",
       "    <tr>\n",
       "      <th>0</th>\n",
       "      <td>\\nSave up to 70% on Life Insurance.\\nWhy Spend...</td>\n",
       "      <td>1</td>\n",
       "      <td>1111</td>\n",
       "      <td>331</td>\n",
       "      <td>5</td>\n",
       "    </tr>\n",
       "    <tr>\n",
       "      <th>1</th>\n",
       "      <td>1) Fight The Risk of Cancer!\\nhttp://www.adcli...</td>\n",
       "      <td>1</td>\n",
       "      <td>753</td>\n",
       "      <td>176</td>\n",
       "      <td>51</td>\n",
       "    </tr>\n",
       "    <tr>\n",
       "      <th>2</th>\n",
       "      <td>1) Fight The Risk of Cancer!\\nhttp://www.adcli...</td>\n",
       "      <td>1</td>\n",
       "      <td>610</td>\n",
       "      <td>143</td>\n",
       "      <td>51</td>\n",
       "    </tr>\n",
       "    <tr>\n",
       "      <th>3</th>\n",
       "      <td>##############################################...</td>\n",
       "      <td>1</td>\n",
       "      <td>2863</td>\n",
       "      <td>1004</td>\n",
       "      <td>106</td>\n",
       "    </tr>\n",
       "    <tr>\n",
       "      <th>4</th>\n",
       "      <td>I thought you might like these:\\n1) Slim Down ...</td>\n",
       "      <td>1</td>\n",
       "      <td>641</td>\n",
       "      <td>144</td>\n",
       "      <td>34</td>\n",
       "    </tr>\n",
       "    <tr>\n",
       "      <th>...</th>\n",
       "      <td>...</td>\n",
       "      <td>...</td>\n",
       "      <td>...</td>\n",
       "      <td>...</td>\n",
       "      <td>...</td>\n",
       "    </tr>\n",
       "    <tr>\n",
       "      <th>18646</th>\n",
       "      <td>Subject: computationally - intensive methods i...</td>\n",
       "      <td>0</td>\n",
       "      <td>3446</td>\n",
       "      <td>644</td>\n",
       "      <td>32</td>\n",
       "    </tr>\n",
       "    <tr>\n",
       "      <th>18647</th>\n",
       "      <td>Subject: books : a survey of american linguist...</td>\n",
       "      <td>0</td>\n",
       "      <td>2627</td>\n",
       "      <td>589</td>\n",
       "      <td>18</td>\n",
       "    </tr>\n",
       "    <tr>\n",
       "      <th>18648</th>\n",
       "      <td>Subject: wecol ' 98 - - western conference on ...</td>\n",
       "      <td>0</td>\n",
       "      <td>818</td>\n",
       "      <td>206</td>\n",
       "      <td>11</td>\n",
       "    </tr>\n",
       "    <tr>\n",
       "      <th>18649</th>\n",
       "      <td>Subject: euralex ' 98 - revised programme\\n \\n...</td>\n",
       "      <td>0</td>\n",
       "      <td>497</td>\n",
       "      <td>145</td>\n",
       "      <td>17</td>\n",
       "    </tr>\n",
       "    <tr>\n",
       "      <th>18650</th>\n",
       "      <td>,Body,Label\\n 0,\"Subject: great part-time or s...</td>\n",
       "      <td>0</td>\n",
       "      <td>17085626</td>\n",
       "      <td>4779145</td>\n",
       "      <td>369911</td>\n",
       "    </tr>\n",
       "  </tbody>\n",
       "</table>\n",
       "<p>18650 rows × 5 columns</p>\n",
       "</div>"
      ],
      "text/plain": [
       "                                                   Email  Spam  Email Length  \\\n",
       "0      \\nSave up to 70% on Life Insurance.\\nWhy Spend...     1          1111   \n",
       "1      1) Fight The Risk of Cancer!\\nhttp://www.adcli...     1           753   \n",
       "2      1) Fight The Risk of Cancer!\\nhttp://www.adcli...     1           610   \n",
       "3      ##############################################...     1          2863   \n",
       "4      I thought you might like these:\\n1) Slim Down ...     1           641   \n",
       "...                                                  ...   ...           ...   \n",
       "18646  Subject: computationally - intensive methods i...     0          3446   \n",
       "18647  Subject: books : a survey of american linguist...     0          2627   \n",
       "18648  Subject: wecol ' 98 - - western conference on ...     0           818   \n",
       "18649  Subject: euralex ' 98 - revised programme\\n \\n...     0           497   \n",
       "18650  ,Body,Label\\n 0,\"Subject: great part-time or s...     0      17085626   \n",
       "\n",
       "       Special characters  No of Digits  \n",
       "0                     331             5  \n",
       "1                     176            51  \n",
       "2                     143            51  \n",
       "3                    1004           106  \n",
       "4                     144            34  \n",
       "...                   ...           ...  \n",
       "18646                 644            32  \n",
       "18647                 589            18  \n",
       "18648                 206            11  \n",
       "18649                 145            17  \n",
       "18650             4779145        369911  \n",
       "\n",
       "[18650 rows x 5 columns]"
      ]
     },
     "execution_count": 57,
     "metadata": {},
     "output_type": "execute_result"
    }
   ],
   "source": [
    "number_of_digits = []\n",
    "for email in df2['Email']:\n",
    "    counter = 0\n",
    "    for ch in email:\n",
    "        if ch.isdigit():\n",
    "            counter += 1\n",
    "    number_of_digits.append(counter)\n",
    "df2['No of Digits'] = number_of_digits\n",
    "df2"
   ]
  },
  {
   "cell_type": "markdown",
   "metadata": {},
   "source": [
    "# New feature for number of spam trigger words present in email\n",
    "['buy','click','get','free','order','save','limited']\n"
   ]
  },
  {
   "cell_type": "code",
   "execution_count": 58,
   "metadata": {},
   "outputs": [
    {
     "data": {
      "text/html": [
       "<div>\n",
       "<style scoped>\n",
       "    .dataframe tbody tr th:only-of-type {\n",
       "        vertical-align: middle;\n",
       "    }\n",
       "\n",
       "    .dataframe tbody tr th {\n",
       "        vertical-align: top;\n",
       "    }\n",
       "\n",
       "    .dataframe thead th {\n",
       "        text-align: right;\n",
       "    }\n",
       "</style>\n",
       "<table border=\"1\" class=\"dataframe\">\n",
       "  <thead>\n",
       "    <tr style=\"text-align: right;\">\n",
       "      <th></th>\n",
       "      <th>Email</th>\n",
       "      <th>Spam</th>\n",
       "      <th>Email Length</th>\n",
       "      <th>Special characters</th>\n",
       "      <th>No of Digits</th>\n",
       "      <th>Trigger Words</th>\n",
       "    </tr>\n",
       "  </thead>\n",
       "  <tbody>\n",
       "    <tr>\n",
       "      <th>0</th>\n",
       "      <td>\\nSave up to 70% on Life Insurance.\\nWhy Spend...</td>\n",
       "      <td>1</td>\n",
       "      <td>1111</td>\n",
       "      <td>331</td>\n",
       "      <td>5</td>\n",
       "      <td>9</td>\n",
       "    </tr>\n",
       "    <tr>\n",
       "      <th>1</th>\n",
       "      <td>1) Fight The Risk of Cancer!\\nhttp://www.adcli...</td>\n",
       "      <td>1</td>\n",
       "      <td>753</td>\n",
       "      <td>176</td>\n",
       "      <td>51</td>\n",
       "      <td>2</td>\n",
       "    </tr>\n",
       "    <tr>\n",
       "      <th>2</th>\n",
       "      <td>1) Fight The Risk of Cancer!\\nhttp://www.adcli...</td>\n",
       "      <td>1</td>\n",
       "      <td>610</td>\n",
       "      <td>143</td>\n",
       "      <td>51</td>\n",
       "      <td>2</td>\n",
       "    </tr>\n",
       "    <tr>\n",
       "      <th>3</th>\n",
       "      <td>##############################################...</td>\n",
       "      <td>1</td>\n",
       "      <td>2863</td>\n",
       "      <td>1004</td>\n",
       "      <td>106</td>\n",
       "      <td>8</td>\n",
       "    </tr>\n",
       "    <tr>\n",
       "      <th>4</th>\n",
       "      <td>I thought you might like these:\\n1) Slim Down ...</td>\n",
       "      <td>1</td>\n",
       "      <td>641</td>\n",
       "      <td>144</td>\n",
       "      <td>34</td>\n",
       "      <td>2</td>\n",
       "    </tr>\n",
       "    <tr>\n",
       "      <th>...</th>\n",
       "      <td>...</td>\n",
       "      <td>...</td>\n",
       "      <td>...</td>\n",
       "      <td>...</td>\n",
       "      <td>...</td>\n",
       "      <td>...</td>\n",
       "    </tr>\n",
       "    <tr>\n",
       "      <th>18646</th>\n",
       "      <td>Subject: computationally - intensive methods i...</td>\n",
       "      <td>0</td>\n",
       "      <td>3446</td>\n",
       "      <td>644</td>\n",
       "      <td>32</td>\n",
       "      <td>0</td>\n",
       "    </tr>\n",
       "    <tr>\n",
       "      <th>18647</th>\n",
       "      <td>Subject: books : a survey of american linguist...</td>\n",
       "      <td>0</td>\n",
       "      <td>2627</td>\n",
       "      <td>589</td>\n",
       "      <td>18</td>\n",
       "      <td>2</td>\n",
       "    </tr>\n",
       "    <tr>\n",
       "      <th>18648</th>\n",
       "      <td>Subject: wecol ' 98 - - western conference on ...</td>\n",
       "      <td>0</td>\n",
       "      <td>818</td>\n",
       "      <td>206</td>\n",
       "      <td>11</td>\n",
       "      <td>1</td>\n",
       "    </tr>\n",
       "    <tr>\n",
       "      <th>18649</th>\n",
       "      <td>Subject: euralex ' 98 - revised programme\\n \\n...</td>\n",
       "      <td>0</td>\n",
       "      <td>497</td>\n",
       "      <td>145</td>\n",
       "      <td>17</td>\n",
       "      <td>1</td>\n",
       "    </tr>\n",
       "    <tr>\n",
       "      <th>18650</th>\n",
       "      <td>,Body,Label\\n 0,\"Subject: great part-time or s...</td>\n",
       "      <td>0</td>\n",
       "      <td>17085626</td>\n",
       "      <td>4779145</td>\n",
       "      <td>369911</td>\n",
       "      <td>9254</td>\n",
       "    </tr>\n",
       "  </tbody>\n",
       "</table>\n",
       "<p>18650 rows × 6 columns</p>\n",
       "</div>"
      ],
      "text/plain": [
       "                                                   Email  Spam  Email Length  \\\n",
       "0      \\nSave up to 70% on Life Insurance.\\nWhy Spend...     1          1111   \n",
       "1      1) Fight The Risk of Cancer!\\nhttp://www.adcli...     1           753   \n",
       "2      1) Fight The Risk of Cancer!\\nhttp://www.adcli...     1           610   \n",
       "3      ##############################################...     1          2863   \n",
       "4      I thought you might like these:\\n1) Slim Down ...     1           641   \n",
       "...                                                  ...   ...           ...   \n",
       "18646  Subject: computationally - intensive methods i...     0          3446   \n",
       "18647  Subject: books : a survey of american linguist...     0          2627   \n",
       "18648  Subject: wecol ' 98 - - western conference on ...     0           818   \n",
       "18649  Subject: euralex ' 98 - revised programme\\n \\n...     0           497   \n",
       "18650  ,Body,Label\\n 0,\"Subject: great part-time or s...     0      17085626   \n",
       "\n",
       "       Special characters  No of Digits  Trigger Words  \n",
       "0                     331             5              9  \n",
       "1                     176            51              2  \n",
       "2                     143            51              2  \n",
       "3                    1004           106              8  \n",
       "4                     144            34              2  \n",
       "...                   ...           ...            ...  \n",
       "18646                 644            32              0  \n",
       "18647                 589            18              2  \n",
       "18648                 206            11              1  \n",
       "18649                 145            17              1  \n",
       "18650             4779145        369911           9254  \n",
       "\n",
       "[18650 rows x 6 columns]"
      ]
     },
     "execution_count": 58,
     "metadata": {},
     "output_type": "execute_result"
    }
   ],
   "source": [
    "spam_trigger_words=['buy','click','get','free','order','save','limited']\n",
    "trigger_words=[]\n",
    "\n",
    "for email in df2['Email']:\n",
    "    trigger_words_counter = 0\n",
    "    email = email.split()\n",
    "    for word in email:\n",
    "        if word.lower() in spam_trigger_words:\n",
    "            trigger_words_counter += 1\n",
    "    trigger_words.append(trigger_words_counter)\n",
    "df2['Trigger Words'] = trigger_words\n",
    "df2"
   ]
  },
  {
   "cell_type": "markdown",
   "metadata": {},
   "source": [
    "# Exploratory Data Analysis"
   ]
  },
  {
   "cell_type": "markdown",
   "metadata": {},
   "source": [
    "### Email Distribution"
   ]
  },
  {
   "cell_type": "code",
   "execution_count": 64,
   "metadata": {},
   "outputs": [
    {
     "data": {
      "text/plain": [
       "Text(0.5, 0, 'Emails')"
      ]
     },
     "execution_count": 64,
     "metadata": {},
     "output_type": "execute_result"
    },
    {
     "data": {
      "image/png": "[encoded data removed]",
      "text/plain": [
       "<Figure size 432x288 with 1 Axes>"
      ]
     },
     "metadata": {
      "needs_background": "light"
     },
     "output_type": "display_data"
    }
   ],
   "source": [
    "sns.countplot( x='Spam', data= df2)\n",
    "plt.title(\"Email Distribution\")\n",
    "plt.xticks([0,1], ['Not Spam', 'Spam'])\n",
    "plt.xlabel('Emails')"
   ]
  },
  {
   "cell_type": "markdown",
   "metadata": {},
   "source": [
    "### Email length of spam and not spam emails\n",
    "This helps cnvert float values to normal count value, Try without the lambda to check how the output looks like"
   ]
  },
  {
   "cell_type": "code",
   "execution_count": 70,
   "metadata": {},
   "outputs": [
    {
     "data": {
      "text/plain": [
       "count      18650\n",
       "mean        2776\n",
       "std       125173\n",
       "min            1\n",
       "25%          417\n",
       "50%          896\n",
       "75%         1905\n",
       "max     17085626\n",
       "Name: Email Length, dtype: float64"
      ]
     },
     "execution_count": 70,
     "metadata": {},
     "output_type": "execute_result"
    }
   ],
   "source": [
    "pd.set_option('display.float_format', lambda x : '%.0f' %x)\n",
    "df2['Email Length'].describe()"
   ]
  },
  {
   "cell_type": "code",
   "execution_count": 75,
   "metadata": {},
   "outputs": [
    {
     "data": {
      "text/plain": [
       "Text(0.5, 0, 'Emails')"
      ]
     },
     "execution_count": 75,
     "metadata": {},
     "output_type": "execute_result"
    },
    {
     "data": {
      "image/png": "[encoded data removed]",
      "text/plain": [
       "<Figure size 432x288 with 1 Axes>"
      ]
     },
     "metadata": {
      "needs_background": "light"
     },
     "output_type": "display_data"
    }
   ],
   "source": [
    "sns.barplot(x='Spam', y='Email Length',data=df2)\n",
    "plt.title(\"Average no of characters\")\n",
    "plt.xticks([0,1], ['Not Spam', 'Spam'])\n",
    "plt.xlabel('Emails')"
   ]
  },
  {
   "cell_type": "markdown",
   "metadata": {},
   "source": [
    "### Special Characters in email"
   ]
  },
  {
   "cell_type": "code",
   "execution_count": 77,
   "metadata": {},
   "outputs": [
    {
     "data": {
      "text/plain": [
       "count     18650\n",
       "mean        751\n",
       "std       35010\n",
       "min           0\n",
       "25%         107\n",
       "50%         242\n",
       "75%         515\n",
       "max     4779145\n",
       "Name: Special characters, dtype: float64"
      ]
     },
     "execution_count": 77,
     "metadata": {},
     "output_type": "execute_result"
    }
   ],
   "source": [
    "pd.set_option('display.float_format', lambda x : '%.0f' %x)\n",
    "df2['Special characters'].describe()"
   ]
  },
  {
   "cell_type": "code",
   "execution_count": 78,
   "metadata": {},
   "outputs": [
    {
     "data": {
      "text/plain": [
       "Text(0.5, 0, 'Emails')"
      ]
     },
     "execution_count": 78,
     "metadata": {},
     "output_type": "execute_result"
    },
    {
     "data": {
      "image/png": "[encoded data removed]",
      "text/plain": [
       "<Figure size 432x288 with 1 Axes>"
      ]
     },
     "metadata": {
      "needs_background": "light"
     },
     "output_type": "display_data"
    }
   ],
   "source": [
    "sns.barplot(x='Spam', y='Special characters',data=df2)\n",
    "plt.title(\"Average no of Special characters\")\n",
    "plt.xticks([0,1], ['Not Spam', 'Spam'])\n",
    "plt.xlabel('Emails')"
   ]
  },
  {
   "cell_type": "markdown",
   "metadata": {},
   "source": [
    "### Digits count of spam and not spam emails"
   ]
  },
  {
   "cell_type": "code",
   "execution_count": 79,
   "metadata": {},
   "outputs": [
    {
     "data": {
      "text/plain": [
       "count    18650\n",
       "mean        62\n",
       "std       2714\n",
       "min          0\n",
       "25%          4\n",
       "50%         17\n",
       "75%         41\n",
       "max     369911\n",
       "Name: No of Digits, dtype: float64"
      ]
     },
     "execution_count": 79,
     "metadata": {},
     "output_type": "execute_result"
    }
   ],
   "source": [
    "pd.set_option('display.float_format', lambda x : '%.0f' %x)\n",
    "df2['No of Digits'].describe()"
   ]
  },
  {
   "cell_type": "code",
   "execution_count": 80,
   "metadata": {},
   "outputs": [
    {
     "data": {
      "text/plain": [
       "Text(0.5, 0, 'Emails')"
      ]
     },
     "execution_count": 80,
     "metadata": {},
     "output_type": "execute_result"
    },
    {
     "data": {
      "image/png": "[encoded data removed]",
      "text/plain": [
       "<Figure size 432x288 with 1 Axes>"
      ]
     },
     "metadata": {
      "needs_background": "light"
     },
     "output_type": "display_data"
    }
   ],
   "source": [
    "sns.barplot(x='Spam', y='No of Digits',data=df2)\n",
    "plt.title(\"Average no of Digits\")\n",
    "plt.xticks([0,1], ['Not Spam', 'Spam'])\n",
    "plt.xlabel('Emails')"
   ]
  },
  {
   "cell_type": "markdown",
   "metadata": {},
   "source": [
    "### Spam trigger words "
   ]
  },
  {
   "cell_type": "code",
   "execution_count": 82,
   "metadata": {},
   "outputs": [
    {
     "data": {
      "text/plain": [
       "count   18650\n",
       "mean        2\n",
       "std        68\n",
       "min         0\n",
       "25%         0\n",
       "50%         0\n",
       "75%         1\n",
       "max      9254\n",
       "Name: Trigger Words, dtype: float64"
      ]
     },
     "execution_count": 82,
     "metadata": {},
     "output_type": "execute_result"
    }
   ],
   "source": [
    "pd.set_option('display.float_format', lambda x : '%.0f' %x)\n",
    "df2['Trigger Words'].describe()"
   ]
  },
  {
   "cell_type": "code",
   "execution_count": 84,
   "metadata": {},
   "outputs": [
    {
     "data": {
      "text/plain": [
       "Text(0.5, 0, 'Emails')"
      ]
     },
     "execution_count": 84,
     "metadata": {},
     "output_type": "execute_result"
    },
    {
     "data": {
      "image/png": "[encoded data removed]",
      "text/plain": [
       "<Figure size 432x288 with 1 Axes>"
      ]
     },
     "metadata": {
      "needs_background": "light"
     },
     "output_type": "display_data"
    }
   ],
   "source": [
    "sns.barplot(x='Spam', y='Trigger Words',data=df2)\n",
    "plt.title(\"Average no of Trigger Words\")\n",
    "plt.xticks([0,1], ['Not Spam', 'Spam'])\n",
    "plt.xlabel('Emails')"
   ]
  },
  {
   "cell_type": "markdown",
   "metadata": {},
   "source": [
    "# Data Preprocessing\n",
    "    Remove subject, tabs and new lines"
   ]
  },
  {
   "cell_type": "code",
   "execution_count": 88,
   "metadata": {},
   "outputs": [
    {
     "name": "stdout",
     "output_type": "stream",
     "text": [
      "showing info https://raw.githubusercontent.com/nltk/nltk_data/gh-pages/index.xml\n"
     ]
    }
   ],
   "source": [
    "import re\n",
    "import nltk\n",
    "nltk.download()\n",
    "from nltk.corpus import stopwords\n",
    "from nltk.stem import WordNetLemmatizer\n",
    "from sklearn.feature_extraction.text import TfidfVectorizer"
   ]
  },
  {
   "cell_type": "code",
   "execution_count": 90,
   "metadata": {},
   "outputs": [
    {
     "data": {
      "text/html": [
       "<div>\n",
       "<style scoped>\n",
       "    .dataframe tbody tr th:only-of-type {\n",
       "        vertical-align: middle;\n",
       "    }\n",
       "\n",
       "    .dataframe tbody tr th {\n",
       "        vertical-align: top;\n",
       "    }\n",
       "\n",
       "    .dataframe thead th {\n",
       "        text-align: right;\n",
       "    }\n",
       "</style>\n",
       "<table border=\"1\" class=\"dataframe\">\n",
       "  <thead>\n",
       "    <tr style=\"text-align: right;\">\n",
       "      <th></th>\n",
       "      <th>Email</th>\n",
       "      <th>Spam</th>\n",
       "      <th>Email Length</th>\n",
       "      <th>Special characters</th>\n",
       "      <th>No of Digits</th>\n",
       "      <th>Trigger Words</th>\n",
       "    </tr>\n",
       "  </thead>\n",
       "  <tbody>\n",
       "    <tr>\n",
       "      <th>0</th>\n",
       "      <td>\\nSave up to 70% on Life Insurance.\\nWhy Spend...</td>\n",
       "      <td>1</td>\n",
       "      <td>1111</td>\n",
       "      <td>331</td>\n",
       "      <td>5</td>\n",
       "      <td>9</td>\n",
       "    </tr>\n",
       "    <tr>\n",
       "      <th>1</th>\n",
       "      <td>1) Fight The Risk of Cancer!\\nhttp://www.adcli...</td>\n",
       "      <td>1</td>\n",
       "      <td>753</td>\n",
       "      <td>176</td>\n",
       "      <td>51</td>\n",
       "      <td>2</td>\n",
       "    </tr>\n",
       "    <tr>\n",
       "      <th>2</th>\n",
       "      <td>1) Fight The Risk of Cancer!\\nhttp://www.adcli...</td>\n",
       "      <td>1</td>\n",
       "      <td>610</td>\n",
       "      <td>143</td>\n",
       "      <td>51</td>\n",
       "      <td>2</td>\n",
       "    </tr>\n",
       "    <tr>\n",
       "      <th>3</th>\n",
       "      <td>##############################################...</td>\n",
       "      <td>1</td>\n",
       "      <td>2863</td>\n",
       "      <td>1004</td>\n",
       "      <td>106</td>\n",
       "      <td>8</td>\n",
       "    </tr>\n",
       "    <tr>\n",
       "      <th>4</th>\n",
       "      <td>I thought you might like these:\\n1) Slim Down ...</td>\n",
       "      <td>1</td>\n",
       "      <td>641</td>\n",
       "      <td>144</td>\n",
       "      <td>34</td>\n",
       "      <td>2</td>\n",
       "    </tr>\n",
       "  </tbody>\n",
       "</table>\n",
       "</div>"
      ],
      "text/plain": [
       "                                               Email  Spam  Email Length  \\\n",
       "0  \\nSave up to 70% on Life Insurance.\\nWhy Spend...     1          1111   \n",
       "1  1) Fight The Risk of Cancer!\\nhttp://www.adcli...     1           753   \n",
       "2  1) Fight The Risk of Cancer!\\nhttp://www.adcli...     1           610   \n",
       "3  ##############################################...     1          2863   \n",
       "4  I thought you might like these:\\n1) Slim Down ...     1           641   \n",
       "\n",
       "   Special characters  No of Digits  Trigger Words  \n",
       "0                 331             5              9  \n",
       "1                 176            51              2  \n",
       "2                 143            51              2  \n",
       "3                1004           106              8  \n",
       "4                 144            34              2  "
      ]
     },
     "execution_count": 90,
     "metadata": {},
     "output_type": "execute_result"
    }
   ],
   "source": [
    "df2.head()"
   ]
  },
  {
   "cell_type": "code",
   "execution_count": 93,
   "metadata": {},
   "outputs": [],
   "source": [
    "# drop to records where the Length of email is more than 2000 and less that 15\n",
    "df3=df2[(df2['Email Length']<2000) & (df2['Email Length']>15)]"
   ]
  },
  {
   "cell_type": "code",
   "execution_count": 94,
   "metadata": {},
   "outputs": [
    {
     "data": {
      "text/plain": [
       "(13650, 6)"
      ]
     },
     "execution_count": 94,
     "metadata": {},
     "output_type": "execute_result"
    }
   ],
   "source": [
    "df3.shape"
   ]
  },
  {
   "cell_type": "code",
   "execution_count": 95,
   "metadata": {},
   "outputs": [
    {
     "data": {
      "text/plain": [
       "(18650, 6)"
      ]
     },
     "execution_count": 95,
     "metadata": {},
     "output_type": "execute_result"
    }
   ],
   "source": [
    "df2.shape"
   ]
  },
  {
   "cell_type": "markdown",
   "metadata": {},
   "source": [
    "# Data Cleaning"
   ]
  },
  {
   "cell_type": "code",
   "execution_count": null,
   "metadata": {},
   "outputs": [],
   "source": [
    "corpus=[]\n",
    "lemmatizer=WordNetLemmatizer()\n",
    "for email in df3['Email']:\n",
    "    removed_tab_newline=re.sub('[\\n|\\t]',' ', email)\n",
    "    removed_Subject = re.sub('Subject :', ' ', removed_tab_newline)\n",
    "    removed_special_Char = re.sub('[a-zA-Z]',' ',removed_Subject)\n",
    "    lower_case_email =  removed_special_Char.lower()\n",
    "    \n",
    "    tokenized_email=lower_case_email.split()\n",
    "    filtered_stopwords=[word for word in tokenized_email if word not in stopwords.words('english')]\n",
    "    lemmatized_words=[lemmatizer.lemmatize(word) for word in filtered_stopwords]\n",
    "    email=' '.join(lemmatized_words)\n",
    "    corpus.append(email)"
   ]
  },
  {
   "cell_type": "markdown",
   "metadata": {},
   "source": [
    "# Create Vectors"
   ]
  },
  {
   "cell_type": "code",
   "execution_count": null,
   "metadata": {},
   "outputs": [],
   "source": [
    "tfidf = TfidfVectorizer(max_features=5000)\n",
    "vectors = tfidf.fit_transform(corpus).toarray()\n",
    "feature_names = tfidf.get_feature_names()\n",
    "\n",
    "# Extracting independent and dependent variables from the dataset\n",
    "X = pd.DataFrame(vectors, columns=feature_names)\n",
    "y = df3['Spam']"
   ]
  },
  {
   "cell_type": "code",
   "execution_count": null,
   "metadata": {},
   "outputs": [],
   "source": [
    "from sklearn.model_selection import train_test_split\n",
    "from sklearn.model_selection import cross_val_score\n",
    "from sklearn.metrics import classification_report, confusion_matrix\n",
    "from sklearn.naive_bayes import MultinomialNB"
   ]
  },
  {
   "cell_type": "code",
   "execution_count": null,
   "metadata": {},
   "outputs": [],
   "source": [
    "X_train, X_test, y_train, y_test = train_test_split(X, y, test_size=0.30, random_state=0)"
   ]
  },
  {
   "cell_type": "code",
   "execution_count": null,
   "metadata": {},
   "outputs": [],
   "source": [
    "classifier = MultinomialNB()\n",
    "classifier.fit(X_train,y_train)\n",
    "print('Model score on test data:',classifier.score(X_test,y_test))"
   ]
  },
  {
   "cell_type": "code",
   "execution_count": null,
   "metadata": {},
   "outputs": [],
   "source": [
    "cross_val_score(classifier,X_test,y_test)"
   ]
  },
  {
   "cell_type": "code",
   "execution_count": null,
   "metadata": {},
   "outputs": [],
   "source": [
    "y_predicted = classifier.predict(X_test)"
   ]
  },
  {
   "cell_type": "code",
   "execution_count": null,
   "metadata": {},
   "outputs": [],
   "source": [
    "confusion_matrix_result = confusion_matrix(y_test,y_predicted)\n",
    "confusion_matrix_result"
   ]
  },
  {
   "cell_type": "code",
   "execution_count": null,
   "metadata": {},
   "outputs": [],
   "source": [
    "labels = ['Not spam','Spam']\n",
    "plt.figure(figsize=(8,6))\n",
    "sns.heatmap(confusion_matrix_result,annot=True,cmap='Reds',fmt='.0f',xticklabels=labels,yticklabels=labels)\n",
    "plt.xlabel('Predicted values')\n",
    "plt.ylabel('Actual values')\n",
    "plt.show()"
   ]
  },
  {
   "cell_type": "code",
   "execution_count": null,
   "metadata": {},
   "outputs": [],
   "source": [
    "classification_report_result = classification_report(y_test,y_predicted)\n",
    "print(classification_report_result)"
   ]
  },
  {
   "cell_type": "code",
   "execution_count": null,
   "metadata": {},
   "outputs": [],
   "source": []
  }
 ],
 "metadata": {
  "kernelspec": {
   "display_name": "Python 3 (ipykernel)",
   "language": "python",
   "name": "python3"
  },
  "language_info": {
   "codemirror_mode": {
    "name": "ipython",
    "version": 3
   },
   "file_extension": ".py",
   "mimetype": "text/x-python",
   "name": "python",
   "nbconvert_exporter": "python",
   "pygments_lexer": "ipython3",
   "version": "3.9.6"
  }
 },
 "nbformat": 4,
 "nbformat_minor": 4
}
