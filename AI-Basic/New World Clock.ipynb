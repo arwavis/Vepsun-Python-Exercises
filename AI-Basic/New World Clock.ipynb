{
 "cells": [
  {
   "cell_type": "markdown",
   "id": "bd09108c",
   "metadata": {},
   "source": [
    "First example of AI - Rule Based AI"
   ]
  },
  {
   "cell_type": "code",
   "execution_count": 1,
   "id": "8e9401f0",
   "metadata": {},
   "outputs": [],
   "source": [
    "import datetime"
   ]
  },
  {
   "cell_type": "code",
   "execution_count": 6,
   "id": "90e5d5ab",
   "metadata": {},
   "outputs": [
    {
     "name": "stdout",
     "output_type": "stream",
     "text": [
      "Enter city: USA\n",
      "2022-03-30 17:28:55.427960\n",
      "17 28 55\n",
      "USA 10:28:55\n",
      "Enter city: Exit\n",
      "2022-03-30 17:29:03.199689\n",
      "17 29 3\n"
     ]
    }
   ],
   "source": [
    "while True:\n",
    "    \n",
    "     ## get the name of the city from the user\n",
    "     city = input(\"Enter city: \")\n",
    "     ## get the current time \n",
    "     current_time = datetime.datetime.now()\n",
    "     print(current_time)\n",
    "        \n",
    "     #get hours, minutes and seconds of the current time\n",
    "     hour = current_time.hour\n",
    "     minute=current_time.minute\n",
    "     second = current_time.second\n",
    "     print(hour, minute, second)\n",
    "    \n",
    "     # check for case 1 as Boston\n",
    "     if city=='Boston':\n",
    "         hour=hour-4\n",
    "     elif city == 'Tokyo':\n",
    "         hour=hour+9\n",
    "     elif city=='USA':\n",
    "         hour=hour-7\n",
    "     elif city=='Exit':\n",
    "         break\n",
    "     else:\n",
    "         print(\"this city is not added in database\")\n",
    "         city=\"GMT\"\n",
    " \n",
    "     print(city, str(hour) + \":\" + str(minute) +\":\"+str(second))"
   ]
  },
  {
   "cell_type": "code",
   "execution_count": null,
   "id": "cd901953",
   "metadata": {},
   "outputs": [],
   "source": []
  }
 ],
 "metadata": {
  "kernelspec": {
   "display_name": "Python 3 (ipykernel)",
   "language": "python",
   "name": "python3"
  },
  "language_info": {
   "codemirror_mode": {
    "name": "ipython",
    "version": 3
   },
   "file_extension": ".py",
   "mimetype": "text/x-python",
   "name": "python",
   "nbconvert_exporter": "python",
   "pygments_lexer": "ipython3",
   "version": "3.9.7"
  }
 },
 "nbformat": 4,
 "nbformat_minor": 5
}
