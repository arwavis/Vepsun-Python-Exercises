{
 "cells": [
  {
   "cell_type": "code",
   "execution_count": 2,
   "id": "f407fcce",
   "metadata": {},
   "outputs": [
    {
     "name": "stdout",
     "output_type": "stream",
     "text": [
      "Requirement already satisfied: nltk in c:\\programdata\\anaconda3\\lib\\site-packages (3.6.5)"
     ]
    },
    {
     "name": "stderr",
     "output_type": "stream",
     "text": [
      "WARNING: Ignoring invalid distribution - (c:\\programdata\\anaconda3\\lib\\site-packages)\n",
      "WARNING: Ignoring invalid distribution -arkupsafe (c:\\programdata\\anaconda3\\lib\\site-packages)\n",
      "WARNING: Ignoring invalid distribution - (c:\\programdata\\anaconda3\\lib\\site-packages)\n",
      "WARNING: Ignoring invalid distribution -arkupsafe (c:\\programdata\\anaconda3\\lib\\site-packages)\n",
      "WARNING: Ignoring invalid distribution - (c:\\programdata\\anaconda3\\lib\\site-packages)\n",
      "WARNING: Ignoring invalid distribution -arkupsafe (c:\\programdata\\anaconda3\\lib\\site-packages)\n",
      "WARNING: Ignoring invalid distribution - (c:\\programdata\\anaconda3\\lib\\site-packages)\n",
      "WARNING: Ignoring invalid distribution -arkupsafe (c:\\programdata\\anaconda3\\lib\\site-packages)\n",
      "WARNING: Ignoring invalid distribution - (c:\\programdata\\anaconda3\\lib\\site-packages)\n",
      "WARNING: Ignoring invalid distribution -arkupsafe (c:\\programdata\\anaconda3\\lib\\site-packages)\n",
      "WARNING: Ignoring invalid distribution - (c:\\programdata\\anaconda3\\lib\\site-packages)\n",
      "WARNING: Ignoring invalid distribution -arkupsafe (c:\\programdata\\anaconda3\\lib\\site-packages)\n"
     ]
    },
    {
     "name": "stdout",
     "output_type": "stream",
     "text": [
      "\n",
      "Requirement already satisfied: click in c:\\programdata\\anaconda3\\lib\\site-packages (from nltk) (8.0.3)\n",
      "Requirement already satisfied: joblib in c:\\programdata\\anaconda3\\lib\\site-packages (from nltk) (1.1.0)\n",
      "Requirement already satisfied: regex>=2021.8.3 in c:\\programdata\\anaconda3\\lib\\site-packages (from nltk) (2021.8.3)\n",
      "Requirement already satisfied: tqdm in c:\\programdata\\anaconda3\\lib\\site-packages (from nltk) (4.62.3)\n",
      "Requirement already satisfied: colorama in c:\\programdata\\anaconda3\\lib\\site-packages (from click->nltk) (0.4.4)\n"
     ]
    }
   ],
   "source": [
    "\n",
    "!pip install nltk\n"
   ]
  },
  {
   "cell_type": "code",
   "execution_count": 4,
   "id": "3461de6b",
   "metadata": {},
   "outputs": [
    {
     "name": "stderr",
     "output_type": "stream",
     "text": [
      "[nltk_data] Downloading package punkt to\n",
      "[nltk_data]     C:\\Users\\aravindv\\AppData\\Roaming\\nltk_data...\n",
      "[nltk_data]   Package punkt is already up-to-date!\n"
     ]
    },
    {
     "data": {
      "text/plain": [
       "True"
      ]
     },
     "execution_count": 4,
     "metadata": {},
     "output_type": "execute_result"
    }
   ],
   "source": [
    "\n",
    "import nltk\n",
    "nltk.download(\"punkt\")\n"
   ]
  },
  {
   "cell_type": "code",
   "execution_count": 5,
   "id": "084fa0f0",
   "metadata": {},
   "outputs": [
    {
     "data": {
      "text/plain": [
       "\"The voice that navigated was definitely that of a machine, and yet you could tell that the machine was a woman, \\nwhich hurt my mind a little. How can machines have genders? The machine also had an American accent.\\nHow can machines have nationalities? This can't be a good idea, making machines talk like real people, can it? \\nGiving machines humanoid identities?\""
      ]
     },
     "execution_count": 5,
     "metadata": {},
     "output_type": "execute_result"
    }
   ],
   "source": [
    "\n",
    "text = \"\"\"The voice that navigated was definitely that of a machine, and yet you could tell that the machine was a woman, \n",
    "which hurt my mind a little. How can machines have genders? The machine also had an American accent.\n",
    "How can machines have nationalities? This can't be a good idea, making machines talk like real people, can it? \n",
    "Giving machines humanoid identities?\"\"\"\n",
    "text\n"
   ]
  },
  {
   "cell_type": "code",
   "execution_count": 6,
   "id": "1ad6c1da",
   "metadata": {},
   "outputs": [
    {
     "name": "stdout",
     "output_type": "stream",
     "text": [
      "The voice that navigated was definitely that of a machine, and yet you could tell that the machine was a woman, \n",
      "which hurt my mind a little.\n",
      "How can machines have genders?\n",
      "The machine also had an American accent.\n",
      "How can machines have nationalities?\n",
      "This can't be a good idea, making machines talk like real people, can it?\n",
      "Giving machines humanoid identities?\n"
     ]
    }
   ],
   "source": [
    "\n",
    "from nltk.tokenize import sent_tokenize\n",
    "text_to_sentence = sent_tokenize(text)\n",
    "for str in text_to_sentence:\n",
    " print(str)\n"
   ]
  },
  {
   "cell_type": "code",
   "execution_count": 7,
   "id": "26db13bf",
   "metadata": {},
   "outputs": [
    {
     "name": "stdout",
     "output_type": "stream",
     "text": [
      "['The', 'voice', 'that', 'navigated', 'was', 'definitely', 'that', 'of', 'a', 'machine', ',', 'and', 'yet', 'you', 'could', 'tell', 'that', 'the', 'machine', 'was', 'a', 'woman', ',', 'which', 'hurt', 'my', 'mind', 'a', 'little', '.', 'How', 'can', 'machines', 'have', 'genders', '?', 'The', 'machine', 'also', 'had', 'an', 'American', 'accent', '.', 'How', 'can', 'machines', 'have', 'nationalities', '?', 'This', 'ca', \"n't\", 'be', 'a', 'good', 'idea', ',', 'making', 'machines', 'talk', 'like', 'real', 'people', ',', 'can', 'it', '?', 'Giving', 'machines', 'humanoid', 'identities', '?']\n"
     ]
    }
   ],
   "source": [
    "from nltk.tokenize import word_tokenize\n",
    "tokenized_word=word_tokenize(text)\n",
    "print(tokenized_word)\n"
   ]
  },
  {
   "cell_type": "code",
   "execution_count": 8,
   "id": "108cb873",
   "metadata": {},
   "outputs": [
    {
     "name": "stdout",
     "output_type": "stream",
     "text": [
      "<FreqDist with 50 samples and 73 outcomes>\n"
     ]
    },
    {
     "data": {
      "text/plain": [
       "[('a', 4),\n",
       " (',', 4),\n",
       " ('machines', 4),\n",
       " ('?', 4),\n",
       " ('that', 3),\n",
       " ('machine', 3),\n",
       " ('can', 3),\n",
       " ('The', 2),\n",
       " ('was', 2),\n",
       " ('.', 2),\n",
       " ('How', 2),\n",
       " ('have', 2),\n",
       " ('voice', 1),\n",
       " ('navigated', 1),\n",
       " ('definitely', 1),\n",
       " ('of', 1),\n",
       " ('and', 1),\n",
       " ('yet', 1),\n",
       " ('you', 1),\n",
       " ('could', 1),\n",
       " ('tell', 1),\n",
       " ('the', 1),\n",
       " ('woman', 1),\n",
       " ('which', 1),\n",
       " ('hurt', 1),\n",
       " ('my', 1),\n",
       " ('mind', 1),\n",
       " ('little', 1),\n",
       " ('genders', 1),\n",
       " ('also', 1),\n",
       " ('had', 1),\n",
       " ('an', 1),\n",
       " ('American', 1),\n",
       " ('accent', 1),\n",
       " ('nationalities', 1),\n",
       " ('This', 1),\n",
       " ('ca', 1),\n",
       " (\"n't\", 1),\n",
       " ('be', 1),\n",
       " ('good', 1),\n",
       " ('idea', 1),\n",
       " ('making', 1),\n",
       " ('talk', 1),\n",
       " ('like', 1),\n",
       " ('real', 1),\n",
       " ('people', 1),\n",
       " ('it', 1),\n",
       " ('Giving', 1),\n",
       " ('humanoid', 1),\n",
       " ('identities', 1)]"
      ]
     },
     "execution_count": 8,
     "metadata": {},
     "output_type": "execute_result"
    }
   ],
   "source": [
    "from nltk.probability import FreqDist\n",
    "freq_dist_of_words = FreqDist(tokenized_word)\n",
    "print(freq_dist_of_words)\n",
    "freq_dist_of_words.most_common(73)\n"
   ]
  },
  {
   "cell_type": "code",
   "execution_count": 9,
   "id": "00742326",
   "metadata": {},
   "outputs": [
    {
     "data": {
      "image/png": "[encoded data removed]",
      "text/plain": [
       "<Figure size 432x288 with 1 Axes>"
      ]
     },
     "metadata": {
      "needs_background": "light"
     },
     "output_type": "display_data"
    }
   ],
   "source": [
    "import matplotlib.pyplot as plt\n",
    "freq_dist_of_words.plot(20,cumulative=False)\n",
    "plt.show()"
   ]
  },
  {
   "cell_type": "markdown",
   "id": "3ee02db4",
   "metadata": {},
   "source": [
    "Filtering Stop Words - Stop words are used to filter some words which\n",
    "are repetitive and don’t hold any information. For example, words like\n",
    "– {that these, below, is, are, etc.} don’t provide any information, so\n",
    "they need to be removed from the text. Stop Words are considered\n",
    "as Noise. NLTK provides a huge list of stop words"
   ]
  },
  {
   "cell_type": "code",
   "execution_count": 11,
   "id": "7a251693",
   "metadata": {},
   "outputs": [
    {
     "name": "stderr",
     "output_type": "stream",
     "text": [
      "[nltk_data] Downloading package stopwords to\n",
      "[nltk_data]     C:\\Users\\aravindv\\AppData\\Roaming\\nltk_data...\n",
      "[nltk_data]   Package stopwords is already up-to-date!\n"
     ]
    },
    {
     "data": {
      "text/plain": [
       "True"
      ]
     },
     "execution_count": 11,
     "metadata": {},
     "output_type": "execute_result"
    }
   ],
   "source": [
    "nltk.download('stopwords')"
   ]
  },
  {
   "cell_type": "code",
   "execution_count": 12,
   "id": "2d29f31a",
   "metadata": {},
   "outputs": [
    {
     "name": "stdout",
     "output_type": "stream",
     "text": [
      "{'myself', 'on', 'your', 'themselves', 'to', 'hadn', 'all', \"couldn't\", 'down', \"you'll\", 'in', 'few', \"didn't\", 'hasn', 'not', 'can', 'theirs', 'some', 'very', 'o', \"hasn't\", 'mustn', 'itself', 'shan', 'then', 'ourselves', 'because', 'here', 'off', 'after', 're', \"isn't\", 'their', \"that'll\", 'weren', \"you've\", 'as', 'until', 'will', 'shouldn', 'so', 'a', 'd', 'ma', 'yourselves', 'll', 'won', 'm', 'haven', 'other', 'its', 'she', 'an', 'ours', 'during', 'too', 'only', 'yours', 'am', 'through', 'now', 'having', 'for', 'has', 'it', 'have', 'of', 'that', 'why', 'you', 'out', 'from', 'at', 'do', 'further', 'just', 'with', 'we', 't', 'ain', 'wasn', 'y', 'while', 'aren', 'when', 'he', \"shan't\", 'and', \"weren't\", 'yourself', 'the', 'between', 'no', \"mightn't\", \"she's\", 've', 'mightn', \"wasn't\", 'where', 'didn', 'been', 'above', \"needn't\", 'doesn', \"you're\", 'doing', 'my', 's', 'once', 'but', \"don't\", \"aren't\", 'her', 'if', \"haven't\", 'same', \"shouldn't\", 'needn', 'herself', 'don', 'there', \"hadn't\", 'be', 'against', 'should', 'are', 'or', 'both', 'any', 'who', 'himself', 'under', \"doesn't\", \"won't\", 'i', 'about', 'those', 'were', 'hers', 'each', 'him', 'again', 'them', 'does', 'couldn', \"you'd\", 'his', 'these', 'more', 'me', 'over', 'isn', 'such', 'below', 'did', \"mustn't\", 'what', 'by', 'how', 'than', 'they', 'had', 'wouldn', 'whom', \"it's\", 'most', 'which', 'own', 'before', 'being', 'up', 'into', 'was', 'this', 'nor', 'is', \"wouldn't\", 'our', \"should've\"}\n"
     ]
    }
   ],
   "source": [
    "\n",
    "from nltk.corpus import stopwords\n",
    "stop_words=set(stopwords.words(\"english\"))\n",
    "print(stop_words)"
   ]
  },
  {
   "cell_type": "markdown",
   "id": "b7551e9e",
   "metadata": {},
   "source": [
    "printing the stop words from a list\n"
   ]
  },
  {
   "cell_type": "code",
   "execution_count": 15,
   "id": "62625c7c",
   "metadata": {},
   "outputs": [
    {
     "name": "stdout",
     "output_type": "stream",
     "text": [
      "Toxenized list with stop words: ['Learn', 'to', 'lose', 'your', 'destiny', 'to', 'find', 'where', 'it', 'leads', 'you']\n",
      "Toxenized list with out stop words: ['Learn', 'lose', 'destiny', 'find', 'leads']\n"
     ]
    }
   ],
   "source": [
    "\n",
    "text1 = 'Learn to lose your destiny to find where it leads you'\n",
    "filtered_text = []\n",
    "tokenized_word = word_tokenize(text1)\n",
    "for each_word in tokenized_word:\n",
    "     if each_word not in stop_words:\n",
    "         filtered_text.append(each_word)\n",
    "print('Toxenized list with stop words: {}'.format(tokenized_word))\n",
    "print('Toxenized list with out stop words: {}'.format(filtered_text))"
   ]
  },
  {
   "cell_type": "markdown",
   "id": "f76c21bd",
   "metadata": {},
   "source": [
    "print all the stop words from your tokenized word list"
   ]
  },
  {
   "cell_type": "code",
   "execution_count": null,
   "id": "5b781140",
   "metadata": {},
   "outputs": [],
   "source": []
  }
 ],
 "metadata": {
  "kernelspec": {
   "display_name": "Python 3 (ipykernel)",
   "language": "python",
   "name": "python3"
  },
  "language_info": {
   "codemirror_mode": {
    "name": "ipython",
    "version": 3
   },
   "file_extension": ".py",
   "mimetype": "text/x-python",
   "name": "python",
   "nbconvert_exporter": "python",
   "pygments_lexer": "ipython3",
   "version": "3.9.7"
  }
 },
 "nbformat": 4,
 "nbformat_minor": 5
}
