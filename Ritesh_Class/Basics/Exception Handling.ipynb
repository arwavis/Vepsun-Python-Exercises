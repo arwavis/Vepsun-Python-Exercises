{
 "cells": [
  {
   "cell_type": "code",
   "execution_count": 14,
   "id": "e82eab55",
   "metadata": {},
   "outputs": [
    {
     "name": "stdout",
     "output_type": "stream",
     "text": [
      "Enter 1st number: 7\n",
      "Enter 2nd number: 0\n",
      "Don't put zero in second number!!!:  division by zero\n",
      "Enter 1st number: p\n",
      "Don't put any non-numeric value!!!\n",
      "Enter 1st number: 8\n",
      "Enter 2nd number: 7\n",
      "Result is:  1.1428571428571428\n",
      "Thank you\n"
     ]
    }
   ],
   "source": [
    "while True:\n",
    "    try:\n",
    "        n1 = int(input(\"Enter 1st number: \"))\n",
    "        n2 = int(input(\"Enter 2nd number: \"))\n",
    "\n",
    "        r = n1/n2\n",
    "\n",
    "        print(\"Result is: \",r)\n",
    "\n",
    "    except ZeroDivisionError as e:\n",
    "        print(\"Don't put zero in second number!!!: \",e)\n",
    "\n",
    "    except ValueError as v:\n",
    "        print(\"Don't put any non-numeric value!!!\")\n",
    "\n",
    "    else:\n",
    "        print(\"Thank you\")\n",
    "        break"
   ]
  },
  {
   "cell_type": "markdown",
   "id": "20ccd5f3",
   "metadata": {},
   "source": [
    "# Choose your number Game apply exception handling"
   ]
  },
  {
   "cell_type": "markdown",
   "id": "8944ccc1",
   "metadata": {},
   "source": [
    "select any random number\n",
    "\n",
    "if number match then: congratulation you won the match\n",
    "\n",
    "if number greater: number is too large\n",
    "\n",
    "if number is smaller: number is too small"
   ]
  },
  {
   "cell_type": "code",
   "execution_count": 7,
   "id": "3575949a",
   "metadata": {},
   "outputs": [
    {
     "name": "stdout",
     "output_type": "stream",
     "text": [
      "Enter the number: 73\n",
      "Number is too large\n",
      "Enter the number: 50\n",
      "Number is too small\n",
      "Enter the number: 60\n",
      "Number is too large\n",
      "Enter the number: 55\n",
      "Number is too large\n",
      "Enter the number: 53\n",
      "Number is too large\n",
      "Enter the number: 51\n",
      "Congratualtion you won the match\n"
     ]
    }
   ],
   "source": [
    "import random\n",
    "\n",
    "a = random.randrange(1,100)\n",
    "\n",
    "while True:\n",
    "    number = int(input(\"Enter the number: \"))\n",
    "\n",
    "\n",
    "    if number==a:\n",
    "        print(\"Congratualtion you won the match\")\n",
    "        break\n",
    "\n",
    "    elif number>a:\n",
    "        print(\"Number is too large\")\n",
    "\n",
    "    elif number <a:\n",
    "        print(\"Number is too small\")"
   ]
  },
  {
   "cell_type": "markdown",
   "id": "fc213ce0",
   "metadata": {},
   "source": [
    "# Apply Raise Keyword this example & create user defined exception"
   ]
  },
  {
   "cell_type": "code",
   "execution_count": null,
   "id": "5f96e2d6",
   "metadata": {},
   "outputs": [
    {
     "name": "stdout",
     "output_type": "stream",
     "text": [
      "Enter the number: 500\n",
      "Number is above \n"
     ]
    }
   ],
   "source": [
    "class ValueTooLarge(Exception):\n",
    "    pass\n",
    "\n",
    "class ValueTooSmall(Exception):\n",
    "    pass\n",
    "\n",
    "import random\n",
    "\n",
    "a = random.randrange(1,100)\n",
    "\n",
    "while True:\n",
    "    try:\n",
    "        number = int(input(\"Enter the number: \"))\n",
    "\n",
    "        if number<=100 and number>=1:\n",
    "            if number==a:\n",
    "                print(\"Congratualtion you won the match\")\n",
    "                break\n",
    "\n",
    "            elif number>a:\n",
    "                raise ValueTooLarge\n",
    "\n",
    "            elif number <a:\n",
    "                raise ValueTooSmall\n",
    "        else:\n",
    "            raise Exception\n",
    "            \n",
    "    except ValueTooLarge:\n",
    "        print(\"This value is too large\")\n",
    "\n",
    "    except ValueTooSmall:\n",
    "        print(\"This value is too small\")\n",
    "        \n",
    "    except Exception as e:\n",
    "        print(\"Number is above\",e)"
   ]
  },
  {
   "cell_type": "code",
   "execution_count": null,
   "id": "02fa71b8",
   "metadata": {},
   "outputs": [],
   "source": []
  }
 ],
 "metadata": {
  "kernelspec": {
   "display_name": "Python 3 (ipykernel)",
   "language": "python",
   "name": "python3"
  },
  "language_info": {
   "codemirror_mode": {
    "name": "ipython",
    "version": 3
   },
   "file_extension": ".py",
   "mimetype": "text/x-python",
   "name": "python",
   "nbconvert_exporter": "python",
   "pygments_lexer": "ipython3",
   "version": "3.9.7"
  }
 },
 "nbformat": 4,
 "nbformat_minor": 5
}
