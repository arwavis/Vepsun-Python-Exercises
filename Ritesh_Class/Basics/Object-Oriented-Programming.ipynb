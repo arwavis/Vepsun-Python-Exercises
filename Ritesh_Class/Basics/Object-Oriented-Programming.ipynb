{
 "cells": [
  {
   "cell_type": "code",
   "execution_count": 1,
   "id": "24be9b1c",
   "metadata": {},
   "outputs": [],
   "source": [
    "a = 15\n",
    "b = \"Hi\""
   ]
  },
  {
   "cell_type": "code",
   "execution_count": 2,
   "id": "a5b13a7a",
   "metadata": {},
   "outputs": [
    {
     "name": "stdout",
     "output_type": "stream",
     "text": [
      "<class 'int'>\n"
     ]
    }
   ],
   "source": [
    "print(type(a))"
   ]
  },
  {
   "cell_type": "code",
   "execution_count": 3,
   "id": "2c25e046",
   "metadata": {},
   "outputs": [
    {
     "name": "stdout",
     "output_type": "stream",
     "text": [
      "<class 'str'>\n"
     ]
    }
   ],
   "source": [
    "print(type(b))"
   ]
  },
  {
   "cell_type": "code",
   "execution_count": 4,
   "id": "1d5f5095",
   "metadata": {
    "collapsed": true
   },
   "outputs": [
    {
     "data": {
      "text/plain": [
       "['__add__',\n",
       " '__class__',\n",
       " '__contains__',\n",
       " '__delattr__',\n",
       " '__dir__',\n",
       " '__doc__',\n",
       " '__eq__',\n",
       " '__format__',\n",
       " '__ge__',\n",
       " '__getattribute__',\n",
       " '__getitem__',\n",
       " '__getnewargs__',\n",
       " '__gt__',\n",
       " '__hash__',\n",
       " '__init__',\n",
       " '__init_subclass__',\n",
       " '__iter__',\n",
       " '__le__',\n",
       " '__len__',\n",
       " '__lt__',\n",
       " '__mod__',\n",
       " '__mul__',\n",
       " '__ne__',\n",
       " '__new__',\n",
       " '__reduce__',\n",
       " '__reduce_ex__',\n",
       " '__repr__',\n",
       " '__rmod__',\n",
       " '__rmul__',\n",
       " '__setattr__',\n",
       " '__sizeof__',\n",
       " '__str__',\n",
       " '__subclasshook__',\n",
       " 'capitalize',\n",
       " 'casefold',\n",
       " 'center',\n",
       " 'count',\n",
       " 'encode',\n",
       " 'endswith',\n",
       " 'expandtabs',\n",
       " 'find',\n",
       " 'format',\n",
       " 'format_map',\n",
       " 'index',\n",
       " 'isalnum',\n",
       " 'isalpha',\n",
       " 'isascii',\n",
       " 'isdecimal',\n",
       " 'isdigit',\n",
       " 'isidentifier',\n",
       " 'islower',\n",
       " 'isnumeric',\n",
       " 'isprintable',\n",
       " 'isspace',\n",
       " 'istitle',\n",
       " 'isupper',\n",
       " 'join',\n",
       " 'ljust',\n",
       " 'lower',\n",
       " 'lstrip',\n",
       " 'maketrans',\n",
       " 'partition',\n",
       " 'removeprefix',\n",
       " 'removesuffix',\n",
       " 'replace',\n",
       " 'rfind',\n",
       " 'rindex',\n",
       " 'rjust',\n",
       " 'rpartition',\n",
       " 'rsplit',\n",
       " 'rstrip',\n",
       " 'split',\n",
       " 'splitlines',\n",
       " 'startswith',\n",
       " 'strip',\n",
       " 'swapcase',\n",
       " 'title',\n",
       " 'translate',\n",
       " 'upper',\n",
       " 'zfill']"
      ]
     },
     "execution_count": 4,
     "metadata": {},
     "output_type": "execute_result"
    }
   ],
   "source": [
    "dir(b)"
   ]
  },
  {
   "cell_type": "code",
   "execution_count": 19,
   "id": "56bfe0f0",
   "metadata": {},
   "outputs": [
    {
     "name": "stdout",
     "output_type": "stream",
     "text": [
      "This is constructor\n",
      "I have Ram 16GB\n",
      "I am using camera 48mp\n",
      "I am using internal memory 64gb\n"
     ]
    }
   ],
   "source": [
    "class samsung: #defining class\n",
    "    def __init__(self): #Default constructor/ Non parameterised constructor\n",
    "        print(\"This is constructor\")\n",
    "        self.r = \"16GB\"\n",
    "        self.c = \"48mp\"\n",
    "        self.m = \"64gb\"\n",
    "    \n",
    "    def ram(self):\n",
    "\n",
    "        print(\"I have Ram\",self.r)\n",
    "        \n",
    "    def camera(self):\n",
    "        print(\"I am using camera\",self.c)\n",
    "        \n",
    "    def memory(self):\n",
    "        print(\"I am using internal memory\",self.m)\n",
    "        \n",
    "        \n",
    "\n",
    "samsung_s8 = samsung() #defining object\n",
    "\n",
    "samsung_s8.ram()\n",
    "samsung_s8.camera()\n",
    "samsung_s8.memory()"
   ]
  },
  {
   "cell_type": "code",
   "execution_count": 21,
   "id": "3abb8ccb",
   "metadata": {},
   "outputs": [
    {
     "name": "stdout",
     "output_type": "stream",
     "text": [
      "This is constructor\n",
      "I have Ram 4Gb\n",
      "I am using camera 148mp\n",
      "I am using internal memory 128GB\n"
     ]
    }
   ],
   "source": [
    "#Paramterised constructor\n",
    "\n",
    "class samsung: #defining class\n",
    "    def __init__(self,rm,cr,mr): \n",
    "        print(\"This is constructor\")\n",
    "        self.r = rm\n",
    "        self.c = cr\n",
    "        self.m = mr\n",
    "    \n",
    "    def ram(self):\n",
    "\n",
    "        print(\"I have Ram\",self.r)\n",
    "        \n",
    "    def camera(self):\n",
    "        print(\"I am using camera\",self.c)\n",
    "        \n",
    "    def memory(self):\n",
    "        print(\"I am using internal memory\",self.m)\n",
    "        \n",
    "        \n",
    "\n",
    "samsung_s8 = samsung(\"4Gb\",\"148mp\",\"128GB\") #defining object\n",
    "\n",
    "samsung_s8.ram()\n",
    "samsung_s8.camera()\n",
    "samsung_s8.memory()\n",
    "\n"
   ]
  },
  {
   "cell_type": "markdown",
   "id": "c86a75e5",
   "metadata": {},
   "source": [
    "# Inheritance"
   ]
  },
  {
   "cell_type": "code",
   "execution_count": 27,
   "id": "3b8bfafd",
   "metadata": {},
   "outputs": [
    {
     "name": "stdout",
     "output_type": "stream",
     "text": [
      "I have honda bike\n",
      "I have a car: Maruti\n",
      "I am running a business in Mumbai\n"
     ]
    }
   ],
   "source": [
    "class grandfather:\n",
    "    def business(self):\n",
    "        print(\"I am running a business in Mumbai\")\n",
    "\n",
    "class father(grandfather):\n",
    "    def car(self):\n",
    "        print(\"I have a car: Maruti\")\n",
    "        \n",
    "        \n",
    "class child(father):\n",
    "    def bike(self):\n",
    "        print(\"I have honda bike\")\n",
    "        \n",
    "        \n",
    "        \n",
    "        \n",
    "rahul = child()\n",
    "rahul.bike()\n",
    "rahul.car()\n",
    "rahul.business()"
   ]
  },
  {
   "cell_type": "markdown",
   "id": "5d32ccac",
   "metadata": {},
   "source": [
    "# Method overloading"
   ]
  },
  {
   "cell_type": "code",
   "execution_count": 30,
   "id": "14ef755f",
   "metadata": {
    "collapsed": true
   },
   "outputs": [
    {
     "ename": "TypeError",
     "evalue": "add() missing 1 required positional argument: 'c'",
     "output_type": "error",
     "traceback": [
      "\u001b[1;31m---------------------------------------------------------------------------\u001b[0m",
      "\u001b[1;31mTypeError\u001b[0m                                 Traceback (most recent call last)",
      "\u001b[1;32m~\\AppData\\Local\\Temp/ipykernel_11268/2908272860.py\u001b[0m in \u001b[0;36m<module>\u001b[1;34m\u001b[0m\n\u001b[0;32m     12\u001b[0m \u001b[1;33m\u001b[0m\u001b[0m\n\u001b[0;32m     13\u001b[0m \u001b[0mz\u001b[0m \u001b[1;33m=\u001b[0m \u001b[0mcalc\u001b[0m\u001b[1;33m(\u001b[0m\u001b[1;33m)\u001b[0m\u001b[1;33m\u001b[0m\u001b[1;33m\u001b[0m\u001b[0m\n\u001b[1;32m---> 14\u001b[1;33m \u001b[0mz\u001b[0m\u001b[1;33m.\u001b[0m\u001b[0madd\u001b[0m\u001b[1;33m(\u001b[0m\u001b[1;36m5\u001b[0m\u001b[1;33m,\u001b[0m\u001b[1;36m6\u001b[0m\u001b[1;33m)\u001b[0m\u001b[1;33m\u001b[0m\u001b[1;33m\u001b[0m\u001b[0m\n\u001b[0m",
      "\u001b[1;31mTypeError\u001b[0m: add() missing 1 required positional argument: 'c'"
     ]
    }
   ],
   "source": [
    "class calc:\n",
    "    def add(self,a):\n",
    "        print(\"This is number: \",a)\n",
    "        \n",
    "    def add(self,a,b):\n",
    "        c = a+b\n",
    "        print(\"Addition of two number: \",c)\n",
    "        \n",
    "    def add(self,a,b,c):\n",
    "        r = a+b+c\n",
    "        print(\"Addition of three number: \",r)\n",
    "        \n",
    "z = calc()\n",
    "z.add(5,6)"
   ]
  },
  {
   "cell_type": "code",
   "execution_count": 31,
   "id": "3286bdae",
   "metadata": {},
   "outputs": [
    {
     "name": "stdout",
     "output_type": "stream",
     "text": [
      "Hi\n"
     ]
    }
   ],
   "source": [
    "a = 15\n",
    "a = \"Hi\"\n",
    "print(a)"
   ]
  },
  {
   "cell_type": "code",
   "execution_count": 32,
   "id": "5b133363",
   "metadata": {},
   "outputs": [
    {
     "name": "stdout",
     "output_type": "stream",
     "text": [
      "Hello\n"
     ]
    }
   ],
   "source": [
    "def add():\n",
    "    print(\"Hii\")\n",
    "    \n",
    "def add():\n",
    "    print(\"Hello\")\n",
    "    \n",
    "    \n",
    "add()\n",
    "    \n",
    "    "
   ]
  },
  {
   "cell_type": "markdown",
   "id": "77deb64b",
   "metadata": {},
   "source": [
    "# Method Overriding"
   ]
  },
  {
   "cell_type": "code",
   "execution_count": 37,
   "id": "756c5643",
   "metadata": {},
   "outputs": [
    {
     "name": "stdout",
     "output_type": "stream",
     "text": [
      "I have my own car: BMW\n",
      "I have Yamaha bike\n"
     ]
    }
   ],
   "source": [
    "class father:\n",
    "    def car(self):\n",
    "        print(\"I have Maruti car\")\n",
    "        \n",
    "        \n",
    "class child(father):\n",
    "    def bike(self):\n",
    "        print(\"I have Yamaha bike\")\n",
    "        \n",
    "    def car(self):\n",
    "        print(\"I have my own car: BMW\")\n",
    "        \n",
    "\n",
    "rahul = child()\n",
    "rahul.car()\n",
    "rahul.bike()"
   ]
  },
  {
   "cell_type": "markdown",
   "id": "07c0b285",
   "metadata": {},
   "source": [
    "# Super function"
   ]
  },
  {
   "cell_type": "code",
   "execution_count": 45,
   "id": "3508d5af",
   "metadata": {},
   "outputs": [
    {
     "name": "stdout",
     "output_type": "stream",
     "text": [
      "My Age is 19 and i am studing in Bangalore\n",
      "I have Yamaha bike\n",
      "I have car Maruti\n"
     ]
    }
   ],
   "source": [
    "class father:\n",
    "    def __init__(self):\n",
    "        self.c_name = \"Maruti\"\n",
    "        self.f_age = 55\n",
    "        self.town = \"Pune\"\n",
    "        \n",
    "    def car(self):\n",
    "        print(\"I have car\",self.c_name)\n",
    "        \n",
    "    def f_info(self):\n",
    "        print(f\"My Age is: {self.f_age} and i am living in {self.town}\")\n",
    "        \n",
    "        \n",
    "class child(father):\n",
    "    def __init__(self):\n",
    "        super().__init__()\n",
    "        self.b_name = \"Yamaha\"\n",
    "        self.c_age = 19\n",
    "        self.c_town= \"Bangalore\"\n",
    "    \n",
    "    def bike(self):\n",
    "        print(f\"I have {self.b_name} bike\")\n",
    "        \n",
    "    def c_info(self):\n",
    "        print(f\"My Age is {self.c_age} and i am studing in {self.c_town}\")\n",
    "  \n",
    "        \n",
    "\n",
    "rahul = child()\n",
    "rahul.c_info()\n",
    "rahul.bike()\n",
    "\n",
    "rahul.car()"
   ]
  },
  {
   "cell_type": "markdown",
   "id": "33a7c29f",
   "metadata": {},
   "source": [
    "# Incapsulation"
   ]
  },
  {
   "cell_type": "code",
   "execution_count": 23,
   "id": "5b1c4bb7",
   "metadata": {},
   "outputs": [
    {
     "name": "stdout",
     "output_type": "stream",
     "text": [
      "Name: Rahul, College: VJTI, Age: 25\n",
      "VJTI\n",
      "Rahul\n"
     ]
    }
   ],
   "source": [
    "class student:\n",
    "    def __init__(self):\n",
    "        self.__name = \"Rahul\" #Private attribute\n",
    "        self.clg = \"VJTI\"\n",
    "        self.age = 25\n",
    "        \n",
    "    def info(self):\n",
    "        print(f\"Name: {self.__name}, College: {self.clg}, Age: {self.age}\")\n",
    "        \n",
    "        \n",
    "s1 = student()\n",
    "s1.info()\n",
    "\n",
    "print(s1.clg)\n",
    "print(s1._student__name)\n",
    "#print(hasattr(s1,\"__name\"))\n",
    "#print(getattr(s1,\"__name\"))\n",
    "#setattr(s1,'marks',96)\n",
    "#delattr(s1,\"age\")\n",
    "#print(s1.__dict__)\n",
    "#print(s1.__class__)\n",
    "#print(s1.__module__)"
   ]
  },
  {
   "cell_type": "code",
   "execution_count": 42,
   "id": "ab536d43",
   "metadata": {},
   "outputs": [
    {
     "name": "stdout",
     "output_type": "stream",
     "text": [
      "Sir Name:  Tygi\n",
      "This is staic method\n",
      "Rakesh\n",
      "Tygi\n",
      "Name: Rakesh, College: VJTI, Age: 25, Sir name Tygi\n"
     ]
    }
   ],
   "source": [
    "#Instance variable: Instance method\n",
    "#Class variable: Class method\n",
    "#Static variable: static method\n",
    "\n",
    "class student:\n",
    "    s_name = \"Tygi\" #class variable\n",
    "    def __init__(self): \n",
    "        self.name = \"Rahul\" #instance variable\n",
    "        self.clg = \"VJTI\"\n",
    "        self.age = 25\n",
    "        \n",
    "    def info(self): #instance method\n",
    "        print(f\"Name: {self.name}, College: {self.clg}, Age: {self.age}, Sir name {self.s_name}\")\n",
    "        \n",
    "    def info1(cls): #Class method\n",
    "        print(\"Sir Name: \",cls.s_name)\n",
    "        \n",
    "    @staticmethod  #decorator\n",
    "    def info2(): #static method\n",
    "        application_no = 212452\n",
    "        print(\"This is staic method\")\n",
    "        \n",
    "s1 = student()\n",
    "s2 = student()\n",
    "s1.info1()\n",
    "s1.info2()\n",
    "\n",
    "#print(s1.application_no)\n",
    "\n",
    "s2.name = \"Rakesh\"\n",
    "print(s2.name)\n",
    "\n",
    "print(s1.s_name)\n",
    "\n",
    "s2.info()"
   ]
  },
  {
   "cell_type": "markdown",
   "id": "7404b465",
   "metadata": {},
   "source": [
    "# Data Abstraction"
   ]
  },
  {
   "cell_type": "code",
   "execution_count": 55,
   "id": "0f9f7aaa",
   "metadata": {},
   "outputs": [
    {
     "name": "stdout",
     "output_type": "stream",
     "text": [
      "This is laptop class\n",
      "this is computer class\n"
     ]
    }
   ],
   "source": [
    "from abc import ABC,abstractmethod\n",
    "\n",
    "class computer(ABC):\n",
    "    @abstractmethod\n",
    "    def processing(self):\n",
    "        print(\"It's computer process......\")\n",
    "        \n",
    "    def information(self):\n",
    "        print(\"this is computer class\")\n",
    "        \n",
    "class desktop(computer):\n",
    "    def info(self):\n",
    "        print(\"This is laptop class\")\n",
    "        \n",
    "    def processing(self):\n",
    "        pass\n",
    "        \n",
    "#c1 = computer()\n",
    "#c1.processing()\n",
    "\n",
    "d1 = desktop()\n",
    "d1.info()\n",
    "d1.information()"
   ]
  },
  {
   "cell_type": "markdown",
   "id": "0f9864f7",
   "metadata": {},
   "source": [
    "# Inner and outer class"
   ]
  },
  {
   "cell_type": "code",
   "execution_count": 60,
   "id": "d41c6e94",
   "metadata": {},
   "outputs": [
    {
     "name": "stdout",
     "output_type": "stream",
     "text": [
      "This is laptop class\n",
      "This is moble class\n",
      "Mobile Name:  Redmi\n"
     ]
    }
   ],
   "source": [
    "class laptop: #Outer class\n",
    "    def __init__(self):\n",
    "        self.name = \"HP\"\n",
    "        print(\"This is laptop class\")\n",
    "    \n",
    "    class Mobile: #Inner class\n",
    "        def __init__(self):\n",
    "            self.name = \"Redmi\"\n",
    "            print(\"This is moble class\")\n",
    "            \n",
    "        def info(self):\n",
    "            print(\"Mobile Name: \",self.name)\n",
    "            \n",
    "l1 = laptop()\n",
    "m1 = l1.Mobile()        \n",
    "m1.info()\n"
   ]
  },
  {
   "cell_type": "code",
   "execution_count": 62,
   "id": "d7f4ca87",
   "metadata": {},
   "outputs": [
    {
     "name": "stdout",
     "output_type": "stream",
     "text": [
      "This is moble class\n",
      "Mobile Name:  Redmi\n"
     ]
    }
   ],
   "source": [
    "m1 = laptop.Mobile()\n",
    "m1.info()"
   ]
  },
  {
   "cell_type": "code",
   "execution_count": null,
   "id": "63696b32",
   "metadata": {},
   "outputs": [],
   "source": []
  }
 ],
 "metadata": {
  "kernelspec": {
   "display_name": "Python 3 (ipykernel)",
   "language": "python",
   "name": "python3"
  },
  "language_info": {
   "codemirror_mode": {
    "name": "ipython",
    "version": 3
   },
   "file_extension": ".py",
   "mimetype": "text/x-python",
   "name": "python",
   "nbconvert_exporter": "python",
   "pygments_lexer": "ipython3",
   "version": "3.9.7"
  }
 },
 "nbformat": 4,
 "nbformat_minor": 5
}
