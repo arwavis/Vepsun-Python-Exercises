{
 "cells": [
  {
   "cell_type": "markdown",
   "id": "2be79559",
   "metadata": {},
   "source": [
    "How to open jupyter notebook in other folder\n",
    "\n",
    "https://youtu.be/th4aU61_iiA\n",
    "\n",
    "\n",
    "Python installation\n",
    "\n",
    "https://youtu.be/44fic4eKsD4\n",
    "\n",
    "\n",
    "Pycharm Installation\n",
    "\n",
    "https://youtu.be/Ta-mYaqfWq0\n",
    "\n"
   ]
  },
  {
   "cell_type": "code",
   "execution_count": 7,
   "id": "73981a03",
   "metadata": {},
   "outputs": [],
   "source": [
    "import keyword\n",
    "m = keyword.kwlist"
   ]
  },
  {
   "cell_type": "code",
   "execution_count": 9,
   "id": "bcde4ffd",
   "metadata": {
    "collapsed": true
   },
   "outputs": [
    {
     "data": {
      "text/plain": [
       "['False',\n",
       " 'None',\n",
       " 'True',\n",
       " 'and',\n",
       " 'as',\n",
       " 'assert',\n",
       " 'async',\n",
       " 'await',\n",
       " 'break',\n",
       " 'class',\n",
       " 'continue',\n",
       " 'def',\n",
       " 'del',\n",
       " 'elif',\n",
       " 'else',\n",
       " 'except',\n",
       " 'finally',\n",
       " 'for',\n",
       " 'from',\n",
       " 'global',\n",
       " 'if',\n",
       " 'import',\n",
       " 'in',\n",
       " 'is',\n",
       " 'lambda',\n",
       " 'nonlocal',\n",
       " 'not',\n",
       " 'or',\n",
       " 'pass',\n",
       " 'raise',\n",
       " 'return',\n",
       " 'try',\n",
       " 'while',\n",
       " 'with',\n",
       " 'yield']"
      ]
     },
     "execution_count": 9,
     "metadata": {},
     "output_type": "execute_result"
    }
   ],
   "source": [
    "m"
   ]
  },
  {
   "cell_type": "code",
   "execution_count": 8,
   "id": "763ec875",
   "metadata": {
    "scrolled": true
   },
   "outputs": [
    {
     "data": {
      "text/plain": [
       "35"
      ]
     },
     "execution_count": 8,
     "metadata": {},
     "output_type": "execute_result"
    }
   ],
   "source": [
    "len(m)"
   ]
  },
  {
   "cell_type": "markdown",
   "id": "2ab8c2ec",
   "metadata": {},
   "source": [
    "below 3.7: 33\n",
    "\n",
    "above: 3.7: 35\n",
    "\n",
    "3.10: 36"
   ]
  },
  {
   "cell_type": "markdown",
   "id": "9b7d6d52",
   "metadata": {},
   "source": [
    "# Conditional statement"
   ]
  },
  {
   "cell_type": "code",
   "execution_count": 12,
   "id": "ba23dd7e",
   "metadata": {},
   "outputs": [
    {
     "name": "stdout",
     "output_type": "stream",
     "text": [
      "Hello\n"
     ]
    }
   ],
   "source": [
    "a = 12\n",
    "b = 18\n",
    "c = 19\n",
    "\n",
    "\n",
    "if a<b:\n",
    "    print(\"Hello\")\n",
    "elif b<c:\n",
    "    print(\"Hii\")\n",
    "else:\n",
    "    print(\"Bye\")"
   ]
  },
  {
   "cell_type": "markdown",
   "id": "a326684c",
   "metadata": {},
   "source": [
    "# Loop"
   ]
  },
  {
   "cell_type": "code",
   "execution_count": 15,
   "id": "7241be75",
   "metadata": {},
   "outputs": [
    {
     "name": "stdout",
     "output_type": "stream",
     "text": [
      "Odd number:  1\n",
      "even Number 2\n",
      "Odd number:  3\n",
      "even Number 4\n",
      "Odd number:  5\n",
      "even Number 6\n",
      "Odd number:  7\n",
      "even Number 8\n",
      "Odd number:  9\n",
      "even Number 10\n"
     ]
    }
   ],
   "source": [
    "a = 1\n",
    "\n",
    "while a<=10:\n",
    "    if a%2==0:\n",
    "        print(\"even Number\",a)\n",
    "    else:\n",
    "        print(\"Odd number: \",a)\n",
    "    a = a+1\n",
    "\n",
    "\n"
   ]
  },
  {
   "cell_type": "code",
   "execution_count": 18,
   "id": "9e1aa99d",
   "metadata": {
    "collapsed": true
   },
   "outputs": [
    {
     "name": "stdout",
     "output_type": "stream",
     "text": [
      "Hello:  1\n",
      "Hello:  2\n",
      "Hello:  3\n",
      "Hello:  4\n",
      "Hello:  5\n",
      "Hello:  6\n",
      "Hello:  7\n",
      "Hello:  8\n",
      "Hello:  9\n",
      "Hello:  10\n",
      "Hello:  11\n",
      "Hello:  12\n",
      "Hello:  13\n",
      "Hello:  14\n",
      "Hello:  15\n",
      "Hello:  16\n",
      "Hello:  17\n",
      "Hello:  18\n",
      "Hello:  19\n",
      "Hello:  20\n",
      "Hi 21\n",
      "Hi 22\n",
      "Hi 23\n",
      "Hi 24\n",
      "Hi 25\n",
      "Hi 26\n",
      "Hi 27\n",
      "Hi 28\n",
      "Hi 29\n",
      "Hi 30\n",
      "Hi 31\n",
      "Hi 32\n",
      "Hi 33\n",
      "Hi 34\n",
      "Hi 35\n",
      "Hi 36\n",
      "Hi 37\n",
      "Hi 38\n",
      "Hi 39\n",
      "Hi 40\n",
      "Hello:  41\n",
      "Hello:  42\n",
      "Hello:  43\n",
      "Hello:  44\n",
      "Hello:  45\n",
      "Hello:  46\n",
      "Hello:  47\n",
      "Hello:  48\n",
      "Hello:  49\n",
      "Hello:  50\n",
      "Hello:  51\n",
      "Hello:  52\n",
      "Hello:  53\n",
      "Hello:  54\n",
      "Hello:  55\n",
      "Hello:  56\n",
      "Hello:  57\n",
      "Hello:  58\n",
      "Hello:  59\n",
      "Hello:  60\n",
      "Hey 61\n",
      "Hey 62\n",
      "Hey 63\n",
      "Hey 64\n",
      "Hey 65\n",
      "Hey 66\n",
      "Hey 67\n",
      "Hey 68\n",
      "Hey 69\n",
      "Hey 70\n",
      "Hey 71\n",
      "Hey 72\n",
      "Hey 73\n",
      "Hey 74\n",
      "Hey 75\n",
      "Hey 76\n",
      "Hey 77\n",
      "Hey 78\n",
      "Hey 79\n",
      "Hey 80\n",
      "Hello:  81\n",
      "Hello:  82\n",
      "Hello:  83\n",
      "Hello:  84\n",
      "Hello:  85\n",
      "Hello:  86\n",
      "Hello:  87\n",
      "Hello:  88\n",
      "Hello:  89\n",
      "Hello:  90\n",
      "Hello:  91\n",
      "Hello:  92\n",
      "Hello:  93\n",
      "Hello:  94\n",
      "Hello:  95\n",
      "Hello:  96\n",
      "Hello:  97\n",
      "Hello:  98\n",
      "Hello:  99\n",
      "Hello:  100\n"
     ]
    }
   ],
   "source": [
    "a = 1\n",
    "\n",
    "while a<=100:\n",
    "    print(\"Hello: \",a)\n",
    "    a = a+1\n",
    "    while a>20 and a<=40:\n",
    "        print(\"Hi\",a)\n",
    "        a = a+1\n",
    "        \n",
    "    while a>60 and a<=80:\n",
    "        print(\"Hey\",a)\n",
    "        a = a+1\n",
    "    "
   ]
  },
  {
   "cell_type": "markdown",
   "id": "c9f060fd",
   "metadata": {},
   "source": [
    "# Username & Password login"
   ]
  },
  {
   "cell_type": "markdown",
   "id": "3a29475f",
   "metadata": {},
   "source": [
    "user = \"ritesh\"\n",
    "\n",
    "password = \"ritesh123\"\n",
    "\n",
    "make container with 4 username and password apply it below code\n",
    "if username and password wrong 5 times, statement: account blocked for 1hr"
   ]
  },
  {
   "cell_type": "code",
   "execution_count": 28,
   "id": "c808c368",
   "metadata": {},
   "outputs": [
    {
     "name": "stdout",
     "output_type": "stream",
     "text": [
      "Enter your username: ritesh\n",
      "Enter your password: ritesh123\n",
      "Login successfully!!!!\n"
     ]
    }
   ],
   "source": [
    "while True:\n",
    "    user = input(\"Enter your username: \")\n",
    "    if user==\"ritesh\":\n",
    "        while True:\n",
    "            passwd = input(\"Enter your password: \")\n",
    "            if passwd==\"ritesh123\":\n",
    "                print(\"Login successfully!!!!\")\n",
    "                break\n",
    "\n",
    "            else:\n",
    "                print(\"Wrong Password!!!!, try again \")\n",
    "                \n",
    "        break\n",
    "    else:\n",
    "        print(\"Wrong username!!!!!, try again\")"
   ]
  },
  {
   "cell_type": "markdown",
   "id": "2646a641",
   "metadata": {},
   "source": [
    "# Function"
   ]
  },
  {
   "cell_type": "code",
   "execution_count": 5,
   "id": "45321cbd",
   "metadata": {},
   "outputs": [
    {
     "name": "stdout",
     "output_type": "stream",
     "text": [
      "Result is:  12\n"
     ]
    }
   ],
   "source": [
    "def add(a,b): #funciton defining\n",
    "    c = a+b\n",
    "    print(\"Result is: \",c)\n",
    "    \n",
    "    \n",
    "add(5,7) #funciton calling\n",
    "\n",
    "\n",
    "#1-6-1-2-3"
   ]
  },
  {
   "cell_type": "code",
   "execution_count": null,
   "id": "8599367a",
   "metadata": {},
   "outputs": [],
   "source": [
    "#Python is procedural, funcittonal and object oriented programming language"
   ]
  },
  {
   "cell_type": "markdown",
   "id": "e1cd9c67",
   "metadata": {},
   "source": [
    "# Scope of variable"
   ]
  },
  {
   "cell_type": "code",
   "execution_count": 12,
   "id": "09fed84a",
   "metadata": {},
   "outputs": [
    {
     "name": "stdout",
     "output_type": "stream",
     "text": [
      "12 30\n",
      "Outside:  25\n",
      "Inside:  5\n"
     ]
    },
    {
     "ename": "NameError",
     "evalue": "name 'b' is not defined",
     "output_type": "error",
     "traceback": [
      "\u001b[1;31m---------------------------------------------------------------------------\u001b[0m",
      "\u001b[1;31mNameError\u001b[0m                                 Traceback (most recent call last)",
      "\u001b[1;32m<ipython-input-12-f0c1da0f4cb6>\u001b[0m in \u001b[0;36m<module>\u001b[1;34m\u001b[0m\n\u001b[0;32m     14\u001b[0m \u001b[0mprint\u001b[0m\u001b[1;33m(\u001b[0m\u001b[1;34m\"Outside: \"\u001b[0m\u001b[1;33m,\u001b[0m\u001b[0mm\u001b[0m\u001b[1;33m)\u001b[0m\u001b[1;33m\u001b[0m\u001b[1;33m\u001b[0m\u001b[0m\n\u001b[0;32m     15\u001b[0m \u001b[0mprint\u001b[0m\u001b[1;33m(\u001b[0m\u001b[1;34m\"Inside: \"\u001b[0m\u001b[1;33m,\u001b[0m\u001b[0ma\u001b[0m\u001b[1;33m)\u001b[0m\u001b[1;33m\u001b[0m\u001b[1;33m\u001b[0m\u001b[0m\n\u001b[1;32m---> 16\u001b[1;33m \u001b[0mprint\u001b[0m\u001b[1;33m(\u001b[0m\u001b[1;34m\"Inside: \"\u001b[0m\u001b[1;33m,\u001b[0m\u001b[0mb\u001b[0m\u001b[1;33m)\u001b[0m\u001b[1;33m\u001b[0m\u001b[1;33m\u001b[0m\u001b[0m\n\u001b[0m",
      "\u001b[1;31mNameError\u001b[0m: name 'b' is not defined"
     ]
    }
   ],
   "source": [
    "#local & Global\n",
    "m = 18 #global\n",
    "def info():\n",
    "    global a,m\n",
    "    a = 5 #local\n",
    "    b = 7\n",
    "    m = m+b\n",
    "    c = a+b\n",
    "    z = a+m\n",
    "    print(c,z)\n",
    "    \n",
    "info()\n",
    "    \n",
    "print(\"Outside: \",m)\n",
    "print(\"Inside: \",a)\n",
    "print(\"Inside: \",b)"
   ]
  },
  {
   "cell_type": "markdown",
   "id": "e01a000a",
   "metadata": {},
   "source": [
    "# Default parameter"
   ]
  },
  {
   "cell_type": "code",
   "execution_count": 23,
   "id": "8f1879b7",
   "metadata": {},
   "outputs": [
    {
     "name": "stdout",
     "output_type": "stream",
     "text": [
      "A 0\n",
      "B 5\n",
      "Result is:  5\n"
     ]
    }
   ],
   "source": [
    "def add(a=0,b=0):\n",
    "    c = a+b\n",
    "    print(\"A\",a)\n",
    "    print(\"B\",b)\n",
    "    print(\"Result is: \",c)\n",
    "    \n",
    "add(b=5)"
   ]
  },
  {
   "cell_type": "markdown",
   "id": "11f882b0",
   "metadata": {},
   "source": [
    "# String formatting"
   ]
  },
  {
   "cell_type": "code",
   "execution_count": 24,
   "id": "3acf569d",
   "metadata": {},
   "outputs": [
    {
     "name": "stdout",
     "output_type": "stream",
     "text": [
      "Congratulations Rahul, you got 90% marks in Python exam\n"
     ]
    }
   ],
   "source": [
    "print(\"Congratulations Rahul, you got 90% marks in Python exam\")"
   ]
  },
  {
   "cell_type": "code",
   "execution_count": 36,
   "id": "bac91826",
   "metadata": {},
   "outputs": [
    {
     "name": "stdout",
     "output_type": "stream",
     "text": [
      "Congratulations Rahul, you got 65.36154% marks in Maths exam\n",
      "Congratulations Rahul, you got 65.36 % marks in Maths exam.\n",
      "Congratulaion Rahul, you got 65.36154 % marks in Maths exam\n"
     ]
    }
   ],
   "source": [
    "name = \"Rahul\"\n",
    "m = 65.36154\n",
    "subject = \"Maths\"\n",
    "\n",
    "print(\"Congratulations {}, you got {}% marks in {} exam\".format(name,m,subject))\n",
    "print(\"Congratulations %s, you got %0.2f %% marks in %s exam.\"%(name,m,subject))\n",
    "print(f\"Congratulaion {name}, you got {m} % marks in {subject} exam\")"
   ]
  },
  {
   "cell_type": "code",
   "execution_count": null,
   "id": "dc05185a",
   "metadata": {},
   "outputs": [],
   "source": [
    "#input always by default taking as string"
   ]
  },
  {
   "cell_type": "code",
   "execution_count": 40,
   "id": "814faf7b",
   "metadata": {},
   "outputs": [
    {
     "name": "stdout",
     "output_type": "stream",
     "text": [
      "enter statement: 4.54\n",
      "Value is 4.54 and Data tyte is : <class 'str'>\n"
     ]
    }
   ],
   "source": [
    "a = input(\"enter statement: \")\n",
    "\n",
    "print(\"Value is {} and Data tyte is : {}\".format(a,type(a)))\n"
   ]
  },
  {
   "cell_type": "markdown",
   "id": "bc5d2534",
   "metadata": {},
   "source": [
    "# Return statement"
   ]
  },
  {
   "cell_type": "code",
   "execution_count": 1,
   "id": "0b72fd97",
   "metadata": {},
   "outputs": [
    {
     "name": "stdout",
     "output_type": "stream",
     "text": [
      "Addmroe function:  18\n"
     ]
    }
   ],
   "source": [
    "def add(a,b):\n",
    "    c = a+b\n",
    "    return(c)\n",
    "    \n",
    "    \n",
    "    \n",
    "def addmore(n,m,j):\n",
    "    z = j+add(n,m)\n",
    "    return(z)\n",
    "    \n",
    "    \n",
    "print(\"Addmroe function: \",addmore(5,6,7))\n",
    "\n",
    "\n",
    "#1-5-10-5-6-1-2-3-6-7\n",
    "\n",
    "#w = add(1.5,6)\n",
    "#print(w)\n",
    "#type(w)"
   ]
  },
  {
   "cell_type": "code",
   "execution_count": 60,
   "id": "e550084a",
   "metadata": {
    "collapsed": true
   },
   "outputs": [
    {
     "name": "stdout",
     "output_type": "stream",
     "text": [
      "21\n",
      "21\n",
      "21\n",
      "21\n",
      "21\n",
      "21\n",
      "21\n",
      "21\n",
      "21\n",
      "21\n"
     ]
    }
   ],
   "source": [
    "for i in range(10):\n",
    "    print(addmore(4,9,8))"
   ]
  },
  {
   "cell_type": "markdown",
   "id": "d2e46158",
   "metadata": {},
   "source": [
    "# Recursion function"
   ]
  },
  {
   "cell_type": "code",
   "execution_count": 2,
   "id": "bc0bf0c6",
   "metadata": {},
   "outputs": [],
   "source": [
    "#A function call itself is called as recusion function"
   ]
  },
  {
   "cell_type": "code",
   "execution_count": 4,
   "id": "4cfb2964",
   "metadata": {},
   "outputs": [
    {
     "name": "stdout",
     "output_type": "stream",
     "text": [
      "Hey everyone 1\n",
      "Hey everyone 2\n",
      "Hey everyone 3\n",
      "Hey everyone 4\n",
      "Hey everyone 5\n",
      "Hey everyone 6\n",
      "Hey everyone 7\n",
      "Hey everyone 8\n",
      "Hey everyone 9\n",
      "Hey everyone 10\n",
      "Bye\n"
     ]
    }
   ],
   "source": [
    "def great(n):\n",
    "    print(\"Hey everyone\",n)\n",
    "    if n==10:\n",
    "        return \"Bye\"\n",
    "    return great(n+1)\n",
    "    \n",
    "\n",
    "print(great(1))"
   ]
  },
  {
   "cell_type": "code",
   "execution_count": 9,
   "id": "3110bd7b",
   "metadata": {},
   "outputs": [
    {
     "data": {
      "text/plain": [
       "5000"
      ]
     },
     "execution_count": 9,
     "metadata": {},
     "output_type": "execute_result"
    }
   ],
   "source": [
    "import sys\n",
    "sys.setrecursionlimit(5000)\n",
    "sys.getrecursionlimit()"
   ]
  },
  {
   "cell_type": "code",
   "execution_count": 10,
   "id": "8500f706",
   "metadata": {},
   "outputs": [
    {
     "name": "stdout",
     "output_type": "stream",
     "text": [
      "Factorial of 5 is 120\n"
     ]
    }
   ],
   "source": [
    "def fact(n):\n",
    "    if n==0:\n",
    "        return 1\n",
    "    return n*fact(n-1)\n",
    "\n",
    "print(\"Factorial of %d is %d\"%(5, fact(5)))"
   ]
  },
  {
   "cell_type": "code",
   "execution_count": 11,
   "id": "7fe09d81",
   "metadata": {},
   "outputs": [],
   "source": [
    "s = fact(6)"
   ]
  },
  {
   "cell_type": "markdown",
   "id": "2d6ab1db",
   "metadata": {},
   "source": [
    "# Anonymous function"
   ]
  },
  {
   "cell_type": "code",
   "execution_count": 13,
   "id": "1179db79",
   "metadata": {},
   "outputs": [],
   "source": [
    "# A function without name is called anonymous function, which defined with lambda keyword"
   ]
  },
  {
   "cell_type": "code",
   "execution_count": 16,
   "id": "8e631a53",
   "metadata": {},
   "outputs": [
    {
     "name": "stdout",
     "output_type": "stream",
     "text": [
      "Addition of two number:  9\n"
     ]
    }
   ],
   "source": [
    "def add(a,b):\n",
    "    c = a+b\n",
    "    return c\n",
    "\n",
    "x = add(4,5)\n",
    "print(\"Addition of two number: \",x)"
   ]
  },
  {
   "cell_type": "code",
   "execution_count": 18,
   "id": "f4c58346",
   "metadata": {},
   "outputs": [
    {
     "name": "stdout",
     "output_type": "stream",
     "text": [
      "Addition of two number:  13\n"
     ]
    }
   ],
   "source": [
    "g = lambda a,b:a+b\n",
    "print(\"Addition of two number: \",g(6,7))"
   ]
  },
  {
   "cell_type": "code",
   "execution_count": 19,
   "id": "f7ff241a",
   "metadata": {},
   "outputs": [],
   "source": [
    "#Q: [5,6,7,5,65,7,,8,9,6,45,4,5,15,7,8] find out only even number from this sequence"
   ]
  },
  {
   "cell_type": "code",
   "execution_count": 20,
   "id": "3ad3d02f",
   "metadata": {},
   "outputs": [],
   "source": [
    "#filter(function,sequence)"
   ]
  },
  {
   "cell_type": "code",
   "execution_count": 62,
   "id": "7f1597bb",
   "metadata": {},
   "outputs": [
    {
     "name": "stdout",
     "output_type": "stream",
     "text": [
      "[6, 8, 6, 4, 8]\n"
     ]
    }
   ],
   "source": [
    "ls1 = [5,6,7,5,65,7,8,9,6,45,4,5,15,7,8]\n",
    "\n",
    "def even(n):\n",
    "    if n%2==0:\n",
    "        return n\n",
    "\n",
    "\n",
    "\n",
    "z = filter(even,ls1)\n",
    "\n",
    "print(list(z))"
   ]
  },
  {
   "cell_type": "code",
   "execution_count": 28,
   "id": "799e1c5f",
   "metadata": {},
   "outputs": [
    {
     "name": "stdout",
     "output_type": "stream",
     "text": [
      "[6, 8, 6, 4, 8]\n"
     ]
    }
   ],
   "source": [
    "ls1 = [5,6,7,5,65,7,8,9,6,45,4,5,15,7,8]\n",
    "\n",
    "z = filter(lambda n: n%2==0,ls1)\n",
    "\n",
    "print(list(z))"
   ]
  },
  {
   "cell_type": "code",
   "execution_count": 34,
   "id": "432cd080",
   "metadata": {},
   "outputs": [
    {
     "name": "stdout",
     "output_type": "stream",
     "text": [
      "[5, 6, 5, 65, 8, 9, 6, 45, 4, 5, 15, 8]\n"
     ]
    }
   ],
   "source": [
    "ls1 = [5,6,7,5,65,7,8,9,6,45,4,5,15,7,8]\n",
    "\n",
    "z = filter(lambda n: n%7!=0,ls1)\n",
    "\n",
    "print(list(z))"
   ]
  },
  {
   "cell_type": "code",
   "execution_count": 30,
   "id": "34ce1a7f",
   "metadata": {},
   "outputs": [
    {
     "data": {
      "text/plain": [
       "[5, 6, 7, 5, 65, 7, 8, 9, 6, 45, 4, 5, 15]"
      ]
     },
     "execution_count": 30,
     "metadata": {},
     "output_type": "execute_result"
    }
   ],
   "source": [
    "ls1[0:-2]"
   ]
  },
  {
   "cell_type": "code",
   "execution_count": 31,
   "id": "5a9bf43c",
   "metadata": {},
   "outputs": [],
   "source": [
    "ls1.remove(7)"
   ]
  },
  {
   "cell_type": "code",
   "execution_count": 32,
   "id": "696219ad",
   "metadata": {},
   "outputs": [
    {
     "data": {
      "text/plain": [
       "[5, 6, 5, 65, 7, 8, 9, 6, 45, 4, 5, 15, 7, 8]"
      ]
     },
     "execution_count": 32,
     "metadata": {},
     "output_type": "execute_result"
    }
   ],
   "source": [
    "ls1"
   ]
  },
  {
   "cell_type": "code",
   "execution_count": 40,
   "id": "936dced8",
   "metadata": {},
   "outputs": [
    {
     "data": {
      "text/plain": [
       "3"
      ]
     },
     "execution_count": 40,
     "metadata": {},
     "output_type": "execute_result"
    }
   ],
   "source": [
    "word = \"python is object oriented programming language\"\n",
    "\n",
    "word.count(\"i\")"
   ]
  },
  {
   "cell_type": "code",
   "execution_count": 55,
   "id": "f8f7a5c1",
   "metadata": {},
   "outputs": [],
   "source": [
    "def info(n):\n",
    "    c = word.count(n)\n",
    "    print(n,c)"
   ]
  },
  {
   "cell_type": "code",
   "execution_count": 64,
   "id": "cc27ffea",
   "metadata": {
    "collapsed": true
   },
   "outputs": [
    {
     "name": "stdout",
     "output_type": "stream",
     "text": [
      "p 2\n",
      "d 1\n",
      "e 4\n",
      "o 4\n",
      "g 4\n",
      "t 3\n",
      "r 3\n",
      "a 3\n",
      "b 1\n",
      "i 3\n",
      "s 1\n",
      "u 1\n",
      "n 4\n",
      "c 1\n",
      "y 1\n",
      "  5\n",
      "l 1\n",
      "h 1\n",
      "j 1\n",
      "m 2\n"
     ]
    }
   ],
   "source": [
    "z = filter(info,set(word))\n",
    "\n",
    "for i in z:\n",
    "    print(i)\n"
   ]
  },
  {
   "cell_type": "code",
   "execution_count": 65,
   "id": "c65a29f9",
   "metadata": {},
   "outputs": [],
   "source": [
    "import pandas\n",
    "import numpy\n",
    "import matplotlib.pyplot as plt\n"
   ]
  },
  {
   "cell_type": "code",
   "execution_count": null,
   "id": "8808b599",
   "metadata": {},
   "outputs": [],
   "source": []
  }
 ],
 "metadata": {
  "kernelspec": {
   "display_name": "Python 3 (ipykernel)",
   "language": "python",
   "name": "python3"
  },
  "language_info": {
   "codemirror_mode": {
    "name": "ipython",
    "version": 3
   },
   "file_extension": ".py",
   "mimetype": "text/x-python",
   "name": "python",
   "nbconvert_exporter": "python",
   "pygments_lexer": "ipython3",
   "version": "3.9.7"
  }
 },
 "nbformat": 4,
 "nbformat_minor": 5
}
