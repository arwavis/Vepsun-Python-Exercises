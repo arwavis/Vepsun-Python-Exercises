{
 "cells": [
  {
   "cell_type": "markdown",
   "metadata": {
    "id": "p3GW7OMux4Z3"
   },
   "source": [
    "# Numeric Data type: int, float, complex, None"
   ]
  },
  {
   "cell_type": "code",
   "execution_count": 1,
   "metadata": {
    "colab": {
     "base_uri": "https://localhost:8080/"
    },
    "id": "4w6Xux5Wx9lN",
    "outputId": "9af52729-0fae-4199-af3a-638b5f47793d"
   },
   "outputs": [
    {
     "data": {
      "text/plain": [
       "int"
      ]
     },
     "execution_count": 1,
     "metadata": {},
     "output_type": "execute_result"
    }
   ],
   "source": [
    "a = 15\n",
    "b = 19\n",
    "\n",
    "type(a)"
   ]
  },
  {
   "cell_type": "code",
   "execution_count": 2,
   "metadata": {
    "colab": {
     "base_uri": "https://localhost:8080/"
    },
    "id": "WkgRlAAIyRf3",
    "outputId": "bea14472-d79a-41b9-d8d8-fe93e590c177"
   },
   "outputs": [
    {
     "data": {
      "text/plain": [
       "float"
      ]
     },
     "execution_count": 2,
     "metadata": {},
     "output_type": "execute_result"
    }
   ],
   "source": [
    "c = 15.14\n",
    "type(c)"
   ]
  },
  {
   "cell_type": "code",
   "execution_count": 3,
   "metadata": {
    "id": "XbZml57iyxdo"
   },
   "outputs": [],
   "source": [
    "t = 13+4j"
   ]
  },
  {
   "cell_type": "code",
   "execution_count": 4,
   "metadata": {
    "colab": {
     "base_uri": "https://localhost:8080/"
    },
    "id": "UOXY3JiCzFOc",
    "outputId": "09c2c04b-6baf-4821-d66b-43f10494970a"
   },
   "outputs": [
    {
     "data": {
      "text/plain": [
       "complex"
      ]
     },
     "execution_count": 4,
     "metadata": {},
     "output_type": "execute_result"
    }
   ],
   "source": [
    "type(t)"
   ]
  },
  {
   "cell_type": "code",
   "execution_count": 5,
   "metadata": {
    "colab": {
     "base_uri": "https://localhost:8080/"
    },
    "id": "IQ6-KroFzGWm",
    "outputId": "fbaea9ef-de9f-4186-82a3-13558c3384f9"
   },
   "outputs": [
    {
     "data": {
      "text/plain": [
       "int"
      ]
     },
     "execution_count": 5,
     "metadata": {},
     "output_type": "execute_result"
    }
   ],
   "source": [
    "b = 0\n",
    "type(b)"
   ]
  },
  {
   "cell_type": "code",
   "execution_count": 6,
   "metadata": {
    "colab": {
     "base_uri": "https://localhost:8080/"
    },
    "id": "v_sHBho6zORk",
    "outputId": "001dc7da-94fe-43ed-93d8-422e62fead66"
   },
   "outputs": [
    {
     "data": {
      "text/plain": [
       "NoneType"
      ]
     },
     "execution_count": 6,
     "metadata": {},
     "output_type": "execute_result"
    }
   ],
   "source": [
    "def info():\n",
    "  a = \"Hi\"\n",
    "\n",
    "type(info())"
   ]
  },
  {
   "cell_type": "markdown",
   "metadata": {
    "id": "01Yv_ostztVH"
   },
   "source": [
    "## **String**"
   ]
  },
  {
   "cell_type": "code",
   "execution_count": 7,
   "metadata": {
    "id": "1DF3yZqTzX_E"
   },
   "outputs": [],
   "source": [
    " a = \"Hello\"\n",
    " b = \"Hi\"\n",
    "\n",
    " "
   ]
  },
  {
   "cell_type": "code",
   "execution_count": 8,
   "metadata": {
    "colab": {
     "base_uri": "https://localhost:8080/",
     "height": 35
    },
    "id": "qgeBY37RzX81",
    "outputId": "338effff-e411-4bfd-b25d-cebadbc20c00"
   },
   "outputs": [
    {
     "data": {
      "text/plain": [
       "'HelloHi'"
      ]
     },
     "execution_count": 8,
     "metadata": {},
     "output_type": "execute_result"
    }
   ],
   "source": [
    "a+b"
   ]
  },
  {
   "cell_type": "code",
   "execution_count": 9,
   "metadata": {
    "colab": {
     "base_uri": "https://localhost:8080/",
     "height": 35
    },
    "id": "C62dBUUjzduP",
    "outputId": "ceb1bccb-2b9d-4711-e119-988c31af03d6"
   },
   "outputs": [
    {
     "data": {
      "text/plain": [
       "'HelloHelloHelloHelloHello'"
      ]
     },
     "execution_count": 9,
     "metadata": {},
     "output_type": "execute_result"
    }
   ],
   "source": [
    "a*5"
   ]
  },
  {
   "cell_type": "code",
   "execution_count": 10,
   "metadata": {
    "colab": {
     "base_uri": "https://localhost:8080/",
     "height": 35
    },
    "id": "iCnvVdxQzggu",
    "outputId": "a5cb7c94-be99-41a5-e953-5620c82d9100"
   },
   "outputs": [
    {
     "data": {
      "text/plain": [
       "'Hello'"
      ]
     },
     "execution_count": 10,
     "metadata": {},
     "output_type": "execute_result"
    }
   ],
   "source": [
    "a"
   ]
  },
  {
   "cell_type": "code",
   "execution_count": 11,
   "metadata": {
    "colab": {
     "base_uri": "https://localhost:8080/",
     "height": 35
    },
    "id": "Q1-w4MAzzkOc",
    "outputId": "b8bc7976-5acc-4405-bc42-3e3c7082a214"
   },
   "outputs": [
    {
     "data": {
      "text/plain": [
       "'o'"
      ]
     },
     "execution_count": 11,
     "metadata": {},
     "output_type": "execute_result"
    }
   ],
   "source": [
    "a[4]"
   ]
  },
  {
   "cell_type": "code",
   "execution_count": 12,
   "metadata": {
    "colab": {
     "base_uri": "https://localhost:8080/",
     "height": 35
    },
    "id": "WilxV_LRzobJ",
    "outputId": "642f0784-49b6-4e1f-cb6e-78d1382f7c30"
   },
   "outputs": [
    {
     "data": {
      "text/plain": [
       "'o'"
      ]
     },
     "execution_count": 12,
     "metadata": {},
     "output_type": "execute_result"
    }
   ],
   "source": [
    "a[-1]"
   ]
  },
  {
   "cell_type": "code",
   "execution_count": 13,
   "metadata": {
    "colab": {
     "base_uri": "https://localhost:8080/",
     "height": 35
    },
    "id": "EajdJlUHzrFx",
    "outputId": "a9b2e57f-76b7-4289-b7ec-bf9e92ed31bf"
   },
   "outputs": [
    {
     "data": {
      "text/plain": [
       "'Hel'"
      ]
     },
     "execution_count": 13,
     "metadata": {},
     "output_type": "execute_result"
    }
   ],
   "source": [
    "a[0:3]"
   ]
  },
  {
   "cell_type": "code",
   "execution_count": 14,
   "metadata": {
    "colab": {
     "base_uri": "https://localhost:8080/",
     "height": 35
    },
    "id": "LXTxN1njzx8R",
    "outputId": "52abd025-c063-4bf1-f964-a5d4e19fdc95"
   },
   "outputs": [
    {
     "data": {
      "text/plain": [
       "'Hel'"
      ]
     },
     "execution_count": 14,
     "metadata": {},
     "output_type": "execute_result"
    }
   ],
   "source": [
    "a[-5:-2]"
   ]
  },
  {
   "cell_type": "code",
   "execution_count": 15,
   "metadata": {
    "colab": {
     "base_uri": "https://localhost:8080/",
     "height": 35
    },
    "id": "3ddXTf5I0O94",
    "outputId": "56a813d1-7907-4b1f-d498-8880a0b496ee"
   },
   "outputs": [
    {
     "data": {
      "text/plain": [
       "'Hello'"
      ]
     },
     "execution_count": 15,
     "metadata": {},
     "output_type": "execute_result"
    }
   ],
   "source": [
    "a"
   ]
  },
  {
   "cell_type": "code",
   "execution_count": 16,
   "metadata": {
    "id": "llFSYTWX0UMd"
   },
   "outputs": [],
   "source": [
    "c = \"Rahul\""
   ]
  },
  {
   "cell_type": "code",
   "execution_count": 17,
   "metadata": {
    "colab": {
     "base_uri": "https://localhost:8080/",
     "height": 35
    },
    "id": "C9P370Y70WWe",
    "outputId": "609c8e92-2dfc-491f-a241-087da4f46f5e"
   },
   "outputs": [
    {
     "data": {
      "text/plain": [
       "'HELLO'"
      ]
     },
     "execution_count": 17,
     "metadata": {},
     "output_type": "execute_result"
    }
   ],
   "source": [
    "a.upper()"
   ]
  },
  {
   "cell_type": "code",
   "execution_count": 18,
   "metadata": {
    "colab": {
     "base_uri": "https://localhost:8080/"
    },
    "id": "rwL3iiBL0YGX",
    "outputId": "af708155-187a-4dc9-fc79-2f5b03026a6b"
   },
   "outputs": [
    {
     "name": "stdout",
     "output_type": "stream",
     "text": [
      "hello\n"
     ]
    }
   ],
   "source": [
    "print(a.lower())"
   ]
  },
  {
   "cell_type": "code",
   "execution_count": 19,
   "metadata": {
    "colab": {
     "base_uri": "https://localhost:8080/"
    },
    "id": "0iFwSWVF0Zxi",
    "outputId": "2df47718-1ca3-433c-fba2-80d744a86cf1"
   },
   "outputs": [
    {
     "name": "stdout",
     "output_type": "stream",
     "text": [
      "Hello\n"
     ]
    }
   ],
   "source": [
    "print(a)"
   ]
  },
  {
   "cell_type": "code",
   "execution_count": 20,
   "metadata": {
    "id": "QnshT6Ue0l5p"
   },
   "outputs": [],
   "source": [
    "d = \"tyagi\""
   ]
  },
  {
   "cell_type": "code",
   "execution_count": 21,
   "metadata": {
    "colab": {
     "base_uri": "https://localhost:8080/",
     "height": 35
    },
    "id": "xeCNCDDR0sY2",
    "outputId": "27d62326-ec40-4d36-a1db-090ab8f76092"
   },
   "outputs": [
    {
     "data": {
      "text/plain": [
       "'Tyagi'"
      ]
     },
     "execution_count": 21,
     "metadata": {},
     "output_type": "execute_result"
    }
   ],
   "source": [
    "d.capitalize()"
   ]
  },
  {
   "cell_type": "code",
   "execution_count": 22,
   "metadata": {
    "colab": {
     "base_uri": "https://localhost:8080/",
     "height": 35
    },
    "id": "CSYFOvKu0wmv",
    "outputId": "0c81b13b-e29c-42de-8886-a094962afb26"
   },
   "outputs": [
    {
     "data": {
      "text/plain": [
       "'Rahul tyagi'"
      ]
     },
     "execution_count": 22,
     "metadata": {},
     "output_type": "execute_result"
    }
   ],
   "source": [
    "c+\" \"+d"
   ]
  },
  {
   "cell_type": "code",
   "execution_count": 23,
   "metadata": {
    "id": "vn_oo0aI0zE0"
   },
   "outputs": [],
   "source": [
    "e = \"Python is high level programming language\""
   ]
  },
  {
   "cell_type": "code",
   "execution_count": 24,
   "metadata": {
    "colab": {
     "base_uri": "https://localhost:8080/"
    },
    "id": "WwEPuaTA04cB",
    "outputId": "c3a1b3ee-f061-4396-eeaf-6ad1feaa43e6"
   },
   "outputs": [
    {
     "data": {
      "text/plain": [
       "21"
      ]
     },
     "execution_count": 24,
     "metadata": {},
     "output_type": "execute_result"
    }
   ],
   "source": [
    "e.index(\"p\")"
   ]
  },
  {
   "cell_type": "code",
   "execution_count": 25,
   "metadata": {
    "colab": {
     "base_uri": "https://localhost:8080/"
    },
    "id": "oI83YLPU1Ga5",
    "outputId": "9d45e214-b131-4e78-cfcc-d1c47fa05c90"
   },
   "outputs": [
    {
     "data": {
      "text/plain": [
       "40"
      ]
     },
     "execution_count": 25,
     "metadata": {},
     "output_type": "execute_result"
    }
   ],
   "source": [
    "e.index(\"e\",19)"
   ]
  },
  {
   "cell_type": "code",
   "execution_count": 26,
   "metadata": {
    "colab": {
     "base_uri": "https://localhost:8080/"
    },
    "id": "jOmGLCyM1PPG",
    "outputId": "b02522f7-4b5c-49a9-e835-7b9a4e7d0fed"
   },
   "outputs": [
    {
     "data": {
      "text/plain": [
       "3"
      ]
     },
     "execution_count": 26,
     "metadata": {},
     "output_type": "execute_result"
    }
   ],
   "source": [
    "e.count(\"e\")"
   ]
  },
  {
   "cell_type": "code",
   "execution_count": 27,
   "metadata": {
    "colab": {
     "base_uri": "https://localhost:8080/"
    },
    "id": "GIWDz8pu1mtv",
    "outputId": "fc4f6f4f-0e1d-46dc-86b1-2094904fb934"
   },
   "outputs": [
    {
     "data": {
      "text/plain": [
       "5"
      ]
     },
     "execution_count": 27,
     "metadata": {},
     "output_type": "execute_result"
    }
   ],
   "source": [
    "e.count(\"g\")"
   ]
  },
  {
   "cell_type": "code",
   "execution_count": 28,
   "metadata": {
    "colab": {
     "base_uri": "https://localhost:8080/"
    },
    "id": "FszB1ezY1sHc",
    "outputId": "e1c27216-4f7b-419d-effc-07ea6212ff85"
   },
   "outputs": [
    {
     "data": {
      "text/plain": [
       "False"
      ]
     },
     "execution_count": 28,
     "metadata": {},
     "output_type": "execute_result"
    }
   ],
   "source": [
    "a.isupper()"
   ]
  },
  {
   "cell_type": "code",
   "execution_count": 29,
   "metadata": {
    "colab": {
     "base_uri": "https://localhost:8080/"
    },
    "id": "BX85nUZR10PO",
    "outputId": "693b5536-dcb7-404f-cce1-9cf420f82950"
   },
   "outputs": [
    {
     "data": {
      "text/plain": [
       "False"
      ]
     },
     "execution_count": 29,
     "metadata": {},
     "output_type": "execute_result"
    }
   ],
   "source": [
    "a.islower()"
   ]
  },
  {
   "cell_type": "code",
   "execution_count": 30,
   "metadata": {
    "colab": {
     "base_uri": "https://localhost:8080/",
     "height": 35
    },
    "id": "gyAPe6WK15Rc",
    "outputId": "cc2c3740-2872-49f2-ba21-08f5547388c2"
   },
   "outputs": [
    {
     "data": {
      "text/plain": [
       "'tyagi'"
      ]
     },
     "execution_count": 30,
     "metadata": {},
     "output_type": "execute_result"
    }
   ],
   "source": [
    "d"
   ]
  },
  {
   "cell_type": "code",
   "execution_count": 31,
   "metadata": {
    "colab": {
     "base_uri": "https://localhost:8080/"
    },
    "id": "lddpZhhL19aA",
    "outputId": "ba5ff1cf-7f45-4f3d-9aa9-a87778e7ec7e"
   },
   "outputs": [
    {
     "data": {
      "text/plain": [
       "True"
      ]
     },
     "execution_count": 31,
     "metadata": {},
     "output_type": "execute_result"
    }
   ],
   "source": [
    "d.islower()"
   ]
  },
  {
   "cell_type": "code",
   "execution_count": 32,
   "metadata": {
    "id": "5S9JpXUy1_4G"
   },
   "outputs": [],
   "source": [
    "r = e.split(\" \")"
   ]
  },
  {
   "cell_type": "code",
   "execution_count": 33,
   "metadata": {
    "id": "FbBwlcYe2CWB"
   },
   "outputs": [],
   "source": [
    "r[0] = \"Java\""
   ]
  },
  {
   "cell_type": "code",
   "execution_count": 34,
   "metadata": {
    "colab": {
     "base_uri": "https://localhost:8080/"
    },
    "id": "QT0hLObW2Uvm",
    "outputId": "9d127d97-cb54-4eda-dfe4-30eb97a46f51"
   },
   "outputs": [
    {
     "data": {
      "text/plain": [
       "['Java', 'is', 'high', 'level', 'programming', 'language']"
      ]
     },
     "execution_count": 34,
     "metadata": {},
     "output_type": "execute_result"
    }
   ],
   "source": [
    "r"
   ]
  },
  {
   "cell_type": "code",
   "execution_count": 35,
   "metadata": {
    "id": "PjLJYWzn2ZfO"
   },
   "outputs": [],
   "source": [
    "y = \"  \".join(r)"
   ]
  },
  {
   "cell_type": "code",
   "execution_count": 36,
   "metadata": {
    "colab": {
     "base_uri": "https://localhost:8080/",
     "height": 35
    },
    "id": "WSuCc7Nt2lOj",
    "outputId": "e7afb473-8a63-4025-9d7c-432e2a90d2b7"
   },
   "outputs": [
    {
     "data": {
      "text/plain": [
       "'Java  is  high  level  programming  language'"
      ]
     },
     "execution_count": 36,
     "metadata": {},
     "output_type": "execute_result"
    }
   ],
   "source": [
    "y"
   ]
  },
  {
   "cell_type": "code",
   "execution_count": 37,
   "metadata": {
    "colab": {
     "base_uri": "https://localhost:8080/"
    },
    "id": "fk_CUgjw2l2m",
    "outputId": "3ef184cc-25d4-406e-fcac-9f66bd76581e"
   },
   "outputs": [
    {
     "name": "stdout",
     "output_type": "stream",
     "text": [
      "b'Java  is  high  level  programming  language'\n"
     ]
    }
   ],
   "source": [
    "print(y.encode(\"utf-8\"))"
   ]
  },
  {
   "cell_type": "code",
   "execution_count": 38,
   "metadata": {
    "colab": {
     "base_uri": "https://localhost:8080/",
     "height": 35
    },
    "id": "sMDXNuRE2zzn",
    "outputId": "91b0aca5-f07d-4c2e-8dd8-ffd1a5384e1f"
   },
   "outputs": [
    {
     "data": {
      "text/plain": [
       "'Python is high level programming language'"
      ]
     },
     "execution_count": 38,
     "metadata": {},
     "output_type": "execute_result"
    }
   ],
   "source": [
    "e"
   ]
  },
  {
   "cell_type": "code",
   "execution_count": 39,
   "metadata": {
    "colab": {
     "base_uri": "https://localhost:8080/",
     "height": 35
    },
    "id": "_xeDUdJ13KYC",
    "outputId": "9c82a254-965d-4c81-c10a-ee27b1dcece1"
   },
   "outputs": [
    {
     "data": {
      "text/plain": [
       "'y'"
      ]
     },
     "execution_count": 39,
     "metadata": {},
     "output_type": "execute_result"
    }
   ],
   "source": [
    "max(e)"
   ]
  },
  {
   "cell_type": "code",
   "execution_count": 40,
   "metadata": {
    "colab": {
     "base_uri": "https://localhost:8080/",
     "height": 35
    },
    "id": "UO1nA9e53P6i",
    "outputId": "0c0c3d7b-a3c0-4f8a-bca0-83ebfa4828a7"
   },
   "outputs": [
    {
     "data": {
      "text/plain": [
       "' '"
      ]
     },
     "execution_count": 40,
     "metadata": {},
     "output_type": "execute_result"
    }
   ],
   "source": [
    "min(e)"
   ]
  },
  {
   "cell_type": "code",
   "execution_count": 41,
   "metadata": {
    "colab": {
     "base_uri": "https://localhost:8080/"
    },
    "id": "DmMRGm0R3XA5",
    "outputId": "6fa5c6be-8354-4006-eb3b-aa15f7a70f0d"
   },
   "outputs": [
    {
     "data": {
      "text/plain": [
       "41"
      ]
     },
     "execution_count": 41,
     "metadata": {},
     "output_type": "execute_result"
    }
   ],
   "source": [
    "len(e)"
   ]
  },
  {
   "cell_type": "code",
   "execution_count": 42,
   "metadata": {
    "colab": {
     "base_uri": "https://localhost:8080/"
    },
    "id": "u9EQ7VEO35m2",
    "outputId": "7e57f031-1c0e-4bf1-a8c8-aabe97d06898"
   },
   "outputs": [
    {
     "data": {
      "text/plain": [
       "str"
      ]
     },
     "execution_count": 42,
     "metadata": {},
     "output_type": "execute_result"
    }
   ],
   "source": [
    "type(e)"
   ]
  },
  {
   "cell_type": "code",
   "execution_count": 43,
   "metadata": {
    "colab": {
     "base_uri": "https://localhost:8080/",
     "height": 35
    },
    "id": "ClwOjm8s3734",
    "outputId": "9ecdc258-0c79-4457-c0b7-b92f73c57876"
   },
   "outputs": [
    {
     "data": {
      "text/plain": [
       "'19'"
      ]
     },
     "execution_count": 43,
     "metadata": {},
     "output_type": "execute_result"
    }
   ],
   "source": [
    "b = 19\n",
    "str(b)"
   ]
  },
  {
   "cell_type": "code",
   "execution_count": null,
   "metadata": {
    "id": "BvtnNfpt4CUa"
   },
   "outputs": [],
   "source": []
  },
  {
   "cell_type": "markdown",
   "metadata": {
    "id": "iLbal9jO4Iut"
   },
   "source": [
    "String Formatting"
   ]
  },
  {
   "cell_type": "code",
   "execution_count": 44,
   "metadata": {
    "colab": {
     "base_uri": "https://localhost:8080/"
    },
    "id": "398rWyv94NL9",
    "outputId": "eb722209-e469-4e08-e24d-9dc9dc877ba1"
   },
   "outputs": [
    {
     "name": "stdout",
     "output_type": "stream",
     "text": [
      "Congratulations Rahul, you got 90 % marks in Maths exam.\n"
     ]
    }
   ],
   "source": [
    "stat = \"Congratulations Rahul, you got 90 % marks in Maths exam.\"\n",
    "\n",
    "print(stat)\n",
    "\n"
   ]
  },
  {
   "cell_type": "code",
   "execution_count": 45,
   "metadata": {
    "colab": {
     "base_uri": "https://localhost:8080/"
    },
    "id": "NygSUZFs4bjn",
    "outputId": "d0eabdba-a01f-42e7-e8fd-7522dd068c8b"
   },
   "outputs": [
    {
     "name": "stdout",
     "output_type": "stream",
     "text": [
      "Congratulations John, you got 95.6254 % marks in MySQL exam.\n"
     ]
    }
   ],
   "source": [
    "name = \"John\"\n",
    "m = 95.6254\n",
    "sub = \"MySQL\"\n",
    "\n",
    "print(\"Congratulations {}, you got {} % marks in {} exam.\".format(name,m,sub))"
   ]
  },
  {
   "cell_type": "code",
   "execution_count": 46,
   "metadata": {
    "colab": {
     "base_uri": "https://localhost:8080/"
    },
    "id": "XUsek9xQ45kn",
    "outputId": "ef6c3a52-ece5-428e-c515-18c26bd31776"
   },
   "outputs": [
    {
     "name": "stdout",
     "output_type": "stream",
     "text": [
      "Congratulations John, you got 95.63 % marks in MySQL exam.\n"
     ]
    }
   ],
   "source": [
    "print(\"Congratulations %s, you got %0.2f %% marks in %s exam.\"%(name,m,sub))"
   ]
  },
  {
   "cell_type": "markdown",
   "metadata": {
    "id": "ww_J0n0U56xX"
   },
   "source": [
    "%s = string\n",
    "\n",
    "%i = integer\n",
    "\n",
    "%f = float\n",
    "\n",
    "%c = character\n",
    "\n",
    "%d = digit"
   ]
  },
  {
   "cell_type": "code",
   "execution_count": 47,
   "metadata": {
    "colab": {
     "base_uri": "https://localhost:8080/"
    },
    "id": "2MnJOjuq5VYH",
    "outputId": "dd114671-91ab-4fa0-b46e-2166aa6ab217"
   },
   "outputs": [
    {
     "name": "stdout",
     "output_type": "stream",
     "text": [
      "Congratulations John, you got 95.63 % in MySQL exam.\n"
     ]
    }
   ],
   "source": [
    "print(f\"Congratulations {name}, you got {m:.2f} % in {sub} exam.\")"
   ]
  },
  {
   "cell_type": "markdown",
   "metadata": {
    "id": "w83UNt0V8UZp"
   },
   "source": [
    "# **Escape Sequence & Raw string**"
   ]
  },
  {
   "cell_type": "code",
   "execution_count": 48,
   "metadata": {
    "colab": {
     "base_uri": "https://localhost:8080/"
    },
    "id": "3Uka7fY17HO2",
    "outputId": "a0bc3c7f-0180-4d9a-ac20-6507f22f5550"
   },
   "outputs": [
    {
     "name": "stdout",
     "output_type": "stream",
     "text": [
      "Python \t is high level \bprograrmming \u0007language, \n",
      "it's interpreted programming.\n"
     ]
    }
   ],
   "source": [
    "print(\"Python \\t is high level \\bprograrmming \\alanguage, \\nit's interpreted programming.\")"
   ]
  },
  {
   "cell_type": "markdown",
   "metadata": {
    "id": "nEaUUqSR-IeD"
   },
   "source": []
  },
  {
   "cell_type": "markdown",
   "metadata": {
    "id": "JAxfuPff9sYg"
   },
   "source": [
    "\\n = next line\n",
    "\n",
    "\\t = tab\n",
    "\n",
    "\\b = backspace\n",
    "\n",
    "\\a = alert"
   ]
  },
  {
   "cell_type": "code",
   "execution_count": 49,
   "metadata": {
    "colab": {
     "base_uri": "https://localhost:8080/"
    },
    "id": "LilsOYrM9EId",
    "outputId": "a5487975-5160-42fc-b6cd-7ad37f3fa91a"
   },
   "outputs": [
    {
     "name": "stdout",
     "output_type": "stream",
     "text": [
      "Python \\t is high level \\bprograrmming \\alanguage, \\nit's interpreted programming.\n"
     ]
    }
   ],
   "source": [
    "print(r\"Python \\t is high level \\bprograrmming \\alanguage, \\nit's interpreted programming.\")"
   ]
  },
  {
   "cell_type": "markdown",
   "metadata": {
    "id": "ANlcZn3W-KK0"
   },
   "source": [
    "# Tuple"
   ]
  },
  {
   "cell_type": "code",
   "execution_count": 50,
   "metadata": {
    "id": "Ik-_BRJv-NxX"
   },
   "outputs": [],
   "source": [
    "t1 = (4,5,6,7,15,9)\n",
    "t2 = (4,67,8,9.0,7,\"Hi\")"
   ]
  },
  {
   "cell_type": "code",
   "execution_count": 51,
   "metadata": {
    "colab": {
     "base_uri": "https://localhost:8080/"
    },
    "id": "TYArOh7mHkXg",
    "outputId": "99f6d869-c7c9-4cf3-e6c7-72e10ab0a727"
   },
   "outputs": [
    {
     "data": {
      "text/plain": [
       "tuple"
      ]
     },
     "execution_count": 51,
     "metadata": {},
     "output_type": "execute_result"
    }
   ],
   "source": [
    "type(t1)"
   ]
  },
  {
   "cell_type": "code",
   "execution_count": 52,
   "metadata": {
    "colab": {
     "base_uri": "https://localhost:8080/"
    },
    "id": "vQwupGy2HqkQ",
    "outputId": "2ec7bdb7-8581-4959-c300-69f7938e5a29"
   },
   "outputs": [
    {
     "data": {
      "text/plain": [
       "(4, 5, 6, 7, 15, 9, 4, 67, 8, 9.0, 7, 'Hi')"
      ]
     },
     "execution_count": 52,
     "metadata": {},
     "output_type": "execute_result"
    }
   ],
   "source": [
    "t1+t2"
   ]
  },
  {
   "cell_type": "code",
   "execution_count": 53,
   "metadata": {
    "colab": {
     "base_uri": "https://localhost:8080/"
    },
    "id": "cXQNvBKfHsIb",
    "outputId": "740907b4-e9f2-4332-8634-6d9a28a2e199"
   },
   "outputs": [
    {
     "data": {
      "text/plain": [
       "(4, 5, 6, 7, 15, 9, 4, 5, 6, 7, 15, 9, 4, 5, 6, 7, 15, 9)"
      ]
     },
     "execution_count": 53,
     "metadata": {},
     "output_type": "execute_result"
    }
   ],
   "source": [
    "t1*3"
   ]
  },
  {
   "cell_type": "code",
   "execution_count": 54,
   "metadata": {
    "colab": {
     "base_uri": "https://localhost:8080/",
     "height": 35
    },
    "id": "9UtTQhsLHt9E",
    "outputId": "915de61e-7e8a-4651-82e7-5fa990737368"
   },
   "outputs": [
    {
     "data": {
      "text/plain": [
       "'Hi'"
      ]
     },
     "execution_count": 54,
     "metadata": {},
     "output_type": "execute_result"
    }
   ],
   "source": [
    "t2[5]"
   ]
  },
  {
   "cell_type": "code",
   "execution_count": 55,
   "metadata": {
    "colab": {
     "base_uri": "https://localhost:8080/",
     "height": 35
    },
    "id": "ZNDs42GrH1YD",
    "outputId": "9fc95b7d-5244-4832-9732-ae9a3b2afeb9"
   },
   "outputs": [
    {
     "data": {
      "text/plain": [
       "'Hi'"
      ]
     },
     "execution_count": 55,
     "metadata": {},
     "output_type": "execute_result"
    }
   ],
   "source": [
    "t2[-1]"
   ]
  },
  {
   "cell_type": "code",
   "execution_count": 56,
   "metadata": {
    "colab": {
     "base_uri": "https://localhost:8080/"
    },
    "id": "I6C0QBAZH5Or",
    "outputId": "823e3d1b-df20-42df-b73e-73de294721d5"
   },
   "outputs": [
    {
     "data": {
      "text/plain": [
       "(5, 6, 7)"
      ]
     },
     "execution_count": 56,
     "metadata": {},
     "output_type": "execute_result"
    }
   ],
   "source": [
    "t1[-5:-2]"
   ]
  },
  {
   "cell_type": "code",
   "execution_count": 57,
   "metadata": {
    "colab": {
     "base_uri": "https://localhost:8080/"
    },
    "id": "6BebOrlhII4-",
    "outputId": "ad8fe679-ffc3-400e-d147-3036de540f13"
   },
   "outputs": [
    {
     "data": {
      "text/plain": [
       "(5, 6, 7)"
      ]
     },
     "execution_count": 57,
     "metadata": {},
     "output_type": "execute_result"
    }
   ],
   "source": [
    "t1[1:4]"
   ]
  },
  {
   "cell_type": "code",
   "execution_count": 58,
   "metadata": {
    "colab": {
     "base_uri": "https://localhost:8080/"
    },
    "id": "HIvly9PVIU5P",
    "outputId": "afdc540a-38fe-45c4-b53e-877b593da7fe"
   },
   "outputs": [
    {
     "data": {
      "text/plain": [
       "1"
      ]
     },
     "execution_count": 58,
     "metadata": {},
     "output_type": "execute_result"
    }
   ],
   "source": [
    "t1.count(4)"
   ]
  },
  {
   "cell_type": "code",
   "execution_count": 59,
   "metadata": {
    "colab": {
     "base_uri": "https://localhost:8080/"
    },
    "id": "ztUWbmyLIag0",
    "outputId": "f7e4c6ba-70e0-413f-e438-c0778059e20b"
   },
   "outputs": [
    {
     "data": {
      "text/plain": [
       "(4, 5, 6, 7, 15, 9)"
      ]
     },
     "execution_count": 59,
     "metadata": {},
     "output_type": "execute_result"
    }
   ],
   "source": [
    "t1"
   ]
  },
  {
   "cell_type": "code",
   "execution_count": 60,
   "metadata": {
    "colab": {
     "base_uri": "https://localhost:8080/"
    },
    "id": "VnT3SLgrIcWz",
    "outputId": "ee857dcc-4b2b-4a4a-9784-1150f26a2aa2"
   },
   "outputs": [
    {
     "data": {
      "text/plain": [
       "4"
      ]
     },
     "execution_count": 60,
     "metadata": {},
     "output_type": "execute_result"
    }
   ],
   "source": [
    "t1.index(15)"
   ]
  },
  {
   "cell_type": "code",
   "execution_count": 61,
   "metadata": {
    "colab": {
     "base_uri": "https://localhost:8080/"
    },
    "id": "WjZ2M8jrIoiB",
    "outputId": "283076bb-a6ca-4b0c-dd26-ece3de979c8e"
   },
   "outputs": [
    {
     "data": {
      "text/plain": [
       "(4, 67, 8, 9.0, 7, 'Hi')"
      ]
     },
     "execution_count": 61,
     "metadata": {},
     "output_type": "execute_result"
    }
   ],
   "source": [
    "t2"
   ]
  },
  {
   "cell_type": "code",
   "execution_count": 62,
   "metadata": {
    "colab": {
     "base_uri": "https://localhost:8080/"
    },
    "id": "2FYSSwidIuBN",
    "outputId": "fab66eef-1183-41fb-aca1-0c668e5ee6f4"
   },
   "outputs": [
    {
     "data": {
      "text/plain": [
       "4"
      ]
     },
     "execution_count": 62,
     "metadata": {},
     "output_type": "execute_result"
    }
   ],
   "source": [
    "min(t1)"
   ]
  },
  {
   "cell_type": "code",
   "execution_count": 63,
   "metadata": {
    "colab": {
     "base_uri": "https://localhost:8080/"
    },
    "id": "1V8-drX8Iv_Z",
    "outputId": "9d0bf43e-4d43-40e4-9fa0-62e94448e62d"
   },
   "outputs": [
    {
     "data": {
      "text/plain": [
       "(4, 5, 6, 7, 15, 9)"
      ]
     },
     "execution_count": 63,
     "metadata": {},
     "output_type": "execute_result"
    }
   ],
   "source": [
    "t1"
   ]
  },
  {
   "cell_type": "code",
   "execution_count": 64,
   "metadata": {
    "colab": {
     "base_uri": "https://localhost:8080/"
    },
    "id": "UDiZ34bbI2AC",
    "outputId": "0ccab83e-849f-4069-e40e-f0b5f8680ac4"
   },
   "outputs": [
    {
     "data": {
      "text/plain": [
       "15"
      ]
     },
     "execution_count": 64,
     "metadata": {},
     "output_type": "execute_result"
    }
   ],
   "source": [
    "max(t1)"
   ]
  },
  {
   "cell_type": "code",
   "execution_count": 65,
   "metadata": {
    "colab": {
     "base_uri": "https://localhost:8080/"
    },
    "id": "SRYHHeyhI48X",
    "outputId": "44ba31c4-a818-4564-fb0b-8b30229b040f"
   },
   "outputs": [
    {
     "data": {
      "text/plain": [
       "6"
      ]
     },
     "execution_count": 65,
     "metadata": {},
     "output_type": "execute_result"
    }
   ],
   "source": [
    "len(t2)"
   ]
  },
  {
   "cell_type": "code",
   "execution_count": 66,
   "metadata": {
    "colab": {
     "base_uri": "https://localhost:8080/"
    },
    "id": "8KWJd-GJI7dM",
    "outputId": "58b57540-f7ad-4320-efeb-3206e09e497c"
   },
   "outputs": [
    {
     "data": {
      "text/plain": [
       "('R', 'a', 'h', 'u', 'l')"
      ]
     },
     "execution_count": 66,
     "metadata": {},
     "output_type": "execute_result"
    }
   ],
   "source": [
    "t3 = \"Rahul\"\n",
    "tuple(t3)"
   ]
  },
  {
   "cell_type": "code",
   "execution_count": 67,
   "metadata": {
    "colab": {
     "base_uri": "https://localhost:8080/"
    },
    "id": "YDKP8Uc3JDvr",
    "outputId": "b9a5ebf2-19ce-43e0-fb8d-30e6fda0111c"
   },
   "outputs": [
    {
     "data": {
      "text/plain": [
       "['R', 'a', 'h', 'u', 'l']"
      ]
     },
     "execution_count": 67,
     "metadata": {},
     "output_type": "execute_result"
    }
   ],
   "source": [
    "list(t3)"
   ]
  },
  {
   "cell_type": "code",
   "execution_count": null,
   "metadata": {
    "id": "ATD9__0-k3Sq"
   },
   "outputs": [],
   "source": []
  },
  {
   "cell_type": "markdown",
   "metadata": {
    "id": "4fGeFt6Qk3pm"
   },
   "source": [
    "### List"
   ]
  },
  {
   "cell_type": "code",
   "execution_count": 68,
   "metadata": {
    "id": "GXkIqYGPk58w"
   },
   "outputs": [],
   "source": [
    "ls1 = [4,6,7,8,9,0,\"hi\",3.5]\n",
    "ls2 = [6,7,8,9,0,3.6]"
   ]
  },
  {
   "cell_type": "code",
   "execution_count": 69,
   "metadata": {
    "colab": {
     "base_uri": "https://localhost:8080/"
    },
    "id": "EXYW6eKOlFHg",
    "outputId": "8a94bdce-e5b6-47da-a7c6-adc31e405a9f"
   },
   "outputs": [
    {
     "data": {
      "text/plain": [
       "[4, 6, 7, 8, 9, 0, 'hi', 3.5, 6, 7, 8, 9, 0, 3.6]"
      ]
     },
     "execution_count": 69,
     "metadata": {},
     "output_type": "execute_result"
    }
   ],
   "source": [
    "ls1+ls2"
   ]
  },
  {
   "cell_type": "code",
   "execution_count": 70,
   "metadata": {
    "colab": {
     "base_uri": "https://localhost:8080/"
    },
    "id": "tOZ0Yhq4lHML",
    "outputId": "56c35b21-4dd4-442a-97cd-2c388b640620"
   },
   "outputs": [
    {
     "data": {
      "text/plain": [
       "[4, 6, 7, 8, 9, 0, 'hi', 3.5, 4, 6, 7, 8, 9, 0, 'hi', 3.5]"
      ]
     },
     "execution_count": 70,
     "metadata": {},
     "output_type": "execute_result"
    }
   ],
   "source": [
    "ls1*2"
   ]
  },
  {
   "cell_type": "code",
   "execution_count": 71,
   "metadata": {
    "colab": {
     "base_uri": "https://localhost:8080/",
     "height": 35
    },
    "id": "67Np-lAilKq1",
    "outputId": "621ff701-3bee-4209-a71e-f7e21411a2c8"
   },
   "outputs": [
    {
     "data": {
      "text/plain": [
       "'hi'"
      ]
     },
     "execution_count": 71,
     "metadata": {},
     "output_type": "execute_result"
    }
   ],
   "source": [
    "ls1[6]"
   ]
  },
  {
   "cell_type": "code",
   "execution_count": 72,
   "metadata": {
    "colab": {
     "base_uri": "https://localhost:8080/",
     "height": 35
    },
    "id": "zmwQxL9JlQz0",
    "outputId": "713eac02-4071-4d24-ae49-119f171768e9"
   },
   "outputs": [
    {
     "data": {
      "text/plain": [
       "'hi'"
      ]
     },
     "execution_count": 72,
     "metadata": {},
     "output_type": "execute_result"
    }
   ],
   "source": [
    "ls1[-2]"
   ]
  },
  {
   "cell_type": "code",
   "execution_count": 73,
   "metadata": {
    "colab": {
     "base_uri": "https://localhost:8080/"
    },
    "id": "oPdJZKZulUNp",
    "outputId": "950f91c4-88e8-41a8-e178-9744e4b811a3"
   },
   "outputs": [
    {
     "data": {
      "text/plain": [
       "[6, 7, 8]"
      ]
     },
     "execution_count": 73,
     "metadata": {},
     "output_type": "execute_result"
    }
   ],
   "source": [
    "ls1[1:4]"
   ]
  },
  {
   "cell_type": "code",
   "execution_count": 74,
   "metadata": {
    "id": "ZoNV_aLylaZg"
   },
   "outputs": [],
   "source": [
    "ls1.append(\"K\")"
   ]
  },
  {
   "cell_type": "code",
   "execution_count": 75,
   "metadata": {
    "colab": {
     "base_uri": "https://localhost:8080/"
    },
    "id": "AKGQ_K1XllRR",
    "outputId": "358c2228-78d9-42c4-8ecc-2cd55a60734d"
   },
   "outputs": [
    {
     "data": {
      "text/plain": [
       "[4, 6, 7, 8, 9, 0, 'hi', 3.5, 'K']"
      ]
     },
     "execution_count": 75,
     "metadata": {},
     "output_type": "execute_result"
    }
   ],
   "source": [
    "ls1"
   ]
  },
  {
   "cell_type": "code",
   "execution_count": 76,
   "metadata": {
    "id": "JvhDiy26ll_7"
   },
   "outputs": [],
   "source": [
    "ls1.insert(1,\"Z\")"
   ]
  },
  {
   "cell_type": "code",
   "execution_count": 77,
   "metadata": {
    "colab": {
     "base_uri": "https://localhost:8080/"
    },
    "id": "lL6frMRmlyeu",
    "outputId": "a9582602-7807-41cf-bf90-d160b73b4661"
   },
   "outputs": [
    {
     "data": {
      "text/plain": [
       "[4, 'Z', 6, 7, 8, 9, 0, 'hi', 3.5, 'K']"
      ]
     },
     "execution_count": 77,
     "metadata": {},
     "output_type": "execute_result"
    }
   ],
   "source": [
    "ls1"
   ]
  },
  {
   "cell_type": "code",
   "execution_count": 78,
   "metadata": {
    "id": "N07cX6XKlz63"
   },
   "outputs": [],
   "source": [
    "ls3 = [\"A\",\"K\",\"Q\",\"J\"]"
   ]
  },
  {
   "cell_type": "code",
   "execution_count": 79,
   "metadata": {
    "colab": {
     "base_uri": "https://localhost:8080/"
    },
    "id": "MiodvuOTl9oO",
    "outputId": "b4e230d3-eba0-4beb-f49f-5c768266bb68"
   },
   "outputs": [
    {
     "data": {
      "text/plain": [
       "[4, 'Z', 6, 7, 8, 9, 0, 'hi', 3.5, 'K']"
      ]
     },
     "execution_count": 79,
     "metadata": {},
     "output_type": "execute_result"
    }
   ],
   "source": [
    "ls1"
   ]
  },
  {
   "cell_type": "code",
   "execution_count": 80,
   "metadata": {
    "id": "PKiUAGcwl-0l"
   },
   "outputs": [],
   "source": [
    "ls3.extend(ls1)"
   ]
  },
  {
   "cell_type": "code",
   "execution_count": 81,
   "metadata": {
    "colab": {
     "base_uri": "https://localhost:8080/"
    },
    "id": "vim1RO5qmEls",
    "outputId": "6a9df3fd-5342-422e-e956-e011b78257f5"
   },
   "outputs": [
    {
     "data": {
      "text/plain": [
       "[4, 'Z', 6, 7, 8, 9, 0, 'hi', 3.5, 'K']"
      ]
     },
     "execution_count": 81,
     "metadata": {},
     "output_type": "execute_result"
    }
   ],
   "source": [
    "ls1"
   ]
  },
  {
   "cell_type": "code",
   "execution_count": 82,
   "metadata": {
    "colab": {
     "base_uri": "https://localhost:8080/"
    },
    "id": "fXXMqQb5mGMF",
    "outputId": "99ba98f1-5f71-407b-f68e-80b52985e6fd"
   },
   "outputs": [
    {
     "data": {
      "text/plain": [
       "['A', 'K', 'Q', 'J', 4, 'Z', 6, 7, 8, 9, 0, 'hi', 3.5, 'K']"
      ]
     },
     "execution_count": 82,
     "metadata": {},
     "output_type": "execute_result"
    }
   ],
   "source": [
    "ls3"
   ]
  },
  {
   "cell_type": "code",
   "execution_count": 83,
   "metadata": {
    "id": "qGWiWeQTmIIp"
   },
   "outputs": [],
   "source": [
    "ls3.remove(3.5)"
   ]
  },
  {
   "cell_type": "code",
   "execution_count": 84,
   "metadata": {
    "colab": {
     "base_uri": "https://localhost:8080/"
    },
    "id": "yzj6qKvZmRBq",
    "outputId": "16345aa8-7b02-4c18-ea27-63f0f7f8f177"
   },
   "outputs": [
    {
     "data": {
      "text/plain": [
       "['A', 'K', 'Q', 'J', 4, 'Z', 6, 7, 8, 9, 0, 'hi', 'K']"
      ]
     },
     "execution_count": 84,
     "metadata": {},
     "output_type": "execute_result"
    }
   ],
   "source": [
    "ls3"
   ]
  },
  {
   "cell_type": "code",
   "execution_count": 85,
   "metadata": {
    "colab": {
     "base_uri": "https://localhost:8080/",
     "height": 35
    },
    "id": "dD0MU4pVmSZJ",
    "outputId": "7ab52851-9173-478b-9608-2e525478da23"
   },
   "outputs": [
    {
     "data": {
      "text/plain": [
       "'Q'"
      ]
     },
     "execution_count": 85,
     "metadata": {},
     "output_type": "execute_result"
    }
   ],
   "source": [
    "ls3.pop(2)"
   ]
  },
  {
   "cell_type": "code",
   "execution_count": 86,
   "metadata": {
    "colab": {
     "base_uri": "https://localhost:8080/"
    },
    "id": "u6L7Hk5Cmare",
    "outputId": "3ffe5c3c-9a82-4f39-d554-448fcb31bb36"
   },
   "outputs": [
    {
     "data": {
      "text/plain": [
       "['A', 'K', 'J', 4, 'Z', 6, 7, 8, 9, 0, 'hi', 'K']"
      ]
     },
     "execution_count": 86,
     "metadata": {},
     "output_type": "execute_result"
    }
   ],
   "source": [
    "ls3"
   ]
  },
  {
   "cell_type": "code",
   "execution_count": 87,
   "metadata": {
    "colab": {
     "base_uri": "https://localhost:8080/",
     "height": 35
    },
    "id": "QUbvVeWkmcC8",
    "outputId": "93a3609b-3e45-4241-8457-6b7604fb21c3"
   },
   "outputs": [
    {
     "data": {
      "text/plain": [
       "'K'"
      ]
     },
     "execution_count": 87,
     "metadata": {},
     "output_type": "execute_result"
    }
   ],
   "source": [
    "ls3.pop()"
   ]
  },
  {
   "cell_type": "code",
   "execution_count": 88,
   "metadata": {
    "colab": {
     "base_uri": "https://localhost:8080/"
    },
    "id": "ez-FEsyTmgiB",
    "outputId": "28661271-72bb-45d5-894b-379f3291c399"
   },
   "outputs": [
    {
     "data": {
      "text/plain": [
       "['A', 'K', 'J', 4, 'Z', 6, 7, 8, 9, 0, 'hi']"
      ]
     },
     "execution_count": 88,
     "metadata": {},
     "output_type": "execute_result"
    }
   ],
   "source": [
    "ls3"
   ]
  },
  {
   "cell_type": "code",
   "execution_count": 89,
   "metadata": {
    "id": "N1Ft8_8OmiNL"
   },
   "outputs": [],
   "source": [
    "ls3.clear()"
   ]
  },
  {
   "cell_type": "code",
   "execution_count": 90,
   "metadata": {
    "colab": {
     "base_uri": "https://localhost:8080/"
    },
    "id": "em5vueANmnD0",
    "outputId": "9acc0cbd-c897-481a-d6ca-0a5b19f4841b"
   },
   "outputs": [
    {
     "data": {
      "text/plain": [
       "[]"
      ]
     },
     "execution_count": 90,
     "metadata": {},
     "output_type": "execute_result"
    }
   ],
   "source": [
    "ls3"
   ]
  },
  {
   "cell_type": "code",
   "execution_count": 91,
   "metadata": {
    "colab": {
     "base_uri": "https://localhost:8080/"
    },
    "id": "Nwxp9LfgmoFf",
    "outputId": "a76acc17-bac0-4112-b9f9-ad5c6ec16eaf"
   },
   "outputs": [
    {
     "data": {
      "text/plain": [
       "list"
      ]
     },
     "execution_count": 91,
     "metadata": {},
     "output_type": "execute_result"
    }
   ],
   "source": [
    "type(ls3)"
   ]
  },
  {
   "cell_type": "code",
   "execution_count": 92,
   "metadata": {
    "colab": {
     "base_uri": "https://localhost:8080/"
    },
    "id": "7PEDWl4Cmq1q",
    "outputId": "fdcd56f5-fa54-4c15-bdd0-ea252eb9a85a"
   },
   "outputs": [
    {
     "data": {
      "text/plain": [
       "[4, 'Z', 6, 7, 8, 9, 0, 'hi', 3.5, 'K']"
      ]
     },
     "execution_count": 92,
     "metadata": {},
     "output_type": "execute_result"
    }
   ],
   "source": [
    "ls1"
   ]
  },
  {
   "cell_type": "code",
   "execution_count": 93,
   "metadata": {
    "id": "Wir-J0zFmwHc"
   },
   "outputs": [],
   "source": [
    "ls1.reverse()"
   ]
  },
  {
   "cell_type": "code",
   "execution_count": 94,
   "metadata": {
    "colab": {
     "base_uri": "https://localhost:8080/"
    },
    "id": "cfEwF8uJm12E",
    "outputId": "996c9395-092f-4deb-9b71-3af508492a03"
   },
   "outputs": [
    {
     "data": {
      "text/plain": [
       "['K', 3.5, 'hi', 0, 9, 8, 7, 6, 'Z', 4]"
      ]
     },
     "execution_count": 94,
     "metadata": {},
     "output_type": "execute_result"
    }
   ],
   "source": [
    "ls1"
   ]
  },
  {
   "cell_type": "code",
   "execution_count": 95,
   "metadata": {
    "colab": {
     "base_uri": "https://localhost:8080/"
    },
    "id": "MruORogFnCoh",
    "outputId": "d91810d3-d0c8-4a83-ba98-a8fe5179784b"
   },
   "outputs": [
    {
     "data": {
      "text/plain": [
       "[6, 7, 8, 9, 0, 3.6]"
      ]
     },
     "execution_count": 95,
     "metadata": {},
     "output_type": "execute_result"
    }
   ],
   "source": [
    "ls2"
   ]
  },
  {
   "cell_type": "code",
   "execution_count": 96,
   "metadata": {
    "id": "yB09b67fm4QU"
   },
   "outputs": [],
   "source": [
    "ls2.sort()"
   ]
  },
  {
   "cell_type": "code",
   "execution_count": 97,
   "metadata": {
    "colab": {
     "base_uri": "https://localhost:8080/"
    },
    "id": "J5y2D6U4m_1d",
    "outputId": "eba3cab7-394f-4ac9-e838-c0ff6b772e8b"
   },
   "outputs": [
    {
     "data": {
      "text/plain": [
       "[0, 3.6, 6, 7, 8, 9]"
      ]
     },
     "execution_count": 97,
     "metadata": {},
     "output_type": "execute_result"
    }
   ],
   "source": [
    "ls2"
   ]
  },
  {
   "cell_type": "code",
   "execution_count": 98,
   "metadata": {
    "id": "cwCoAcdxnGiz"
   },
   "outputs": [],
   "source": [
    "ls2.sort(reverse=True)"
   ]
  },
  {
   "cell_type": "code",
   "execution_count": 99,
   "metadata": {
    "colab": {
     "base_uri": "https://localhost:8080/"
    },
    "id": "AsFrkCC-nSgy",
    "outputId": "a3d34730-8434-4911-9615-0c0d41fc7558"
   },
   "outputs": [
    {
     "data": {
      "text/plain": [
       "[9, 8, 7, 6, 3.6, 0]"
      ]
     },
     "execution_count": 99,
     "metadata": {},
     "output_type": "execute_result"
    }
   ],
   "source": [
    "ls2"
   ]
  },
  {
   "cell_type": "code",
   "execution_count": 100,
   "metadata": {
    "colab": {
     "base_uri": "https://localhost:8080/"
    },
    "id": "H5MqQHm_nThV",
    "outputId": "7d6ac4b5-fbad-45c4-c091-7b72aaa812cf"
   },
   "outputs": [
    {
     "data": {
      "text/plain": [
       "4"
      ]
     },
     "execution_count": 100,
     "metadata": {},
     "output_type": "execute_result"
    }
   ],
   "source": [
    "ls2.index(3.6)"
   ]
  },
  {
   "cell_type": "code",
   "execution_count": 101,
   "metadata": {
    "colab": {
     "base_uri": "https://localhost:8080/"
    },
    "id": "mfKm0LX5nYlU",
    "outputId": "3f70e9fc-5bbc-4cf4-e557-d0cfa56df21d"
   },
   "outputs": [
    {
     "data": {
      "text/plain": [
       "['K', 3.5, 'hi', 0, 9, 8, 7, 6, 'Z', 4]"
      ]
     },
     "execution_count": 101,
     "metadata": {},
     "output_type": "execute_result"
    }
   ],
   "source": [
    "ls1"
   ]
  },
  {
   "cell_type": "code",
   "execution_count": 102,
   "metadata": {
    "colab": {
     "base_uri": "https://localhost:8080/"
    },
    "id": "vySC7jJXnbpk",
    "outputId": "a5ebe0fb-87f3-44ee-e669-9ccc98ba553f"
   },
   "outputs": [
    {
     "data": {
      "text/plain": [
       "1"
      ]
     },
     "execution_count": 102,
     "metadata": {},
     "output_type": "execute_result"
    }
   ],
   "source": [
    "ls1.count(4)"
   ]
  },
  {
   "cell_type": "markdown",
   "metadata": {
    "id": "MwDrmxh2nuBD"
   },
   "source": [
    "Cloning method"
   ]
  },
  {
   "cell_type": "code",
   "execution_count": 103,
   "metadata": {
    "id": "Nnp7kqdnne4B"
   },
   "outputs": [],
   "source": [
    "t = ls1.copy()"
   ]
  },
  {
   "cell_type": "code",
   "execution_count": 104,
   "metadata": {
    "colab": {
     "base_uri": "https://localhost:8080/"
    },
    "id": "X_XcwFNYnmer",
    "outputId": "582633b1-9158-4947-c279-467256f5c27b"
   },
   "outputs": [
    {
     "data": {
      "text/plain": [
       "['K', 3.5, 'hi', 0, 9, 8, 7, 6, 'Z', 4]"
      ]
     },
     "execution_count": 104,
     "metadata": {},
     "output_type": "execute_result"
    }
   ],
   "source": [
    "t"
   ]
  },
  {
   "cell_type": "code",
   "execution_count": 105,
   "metadata": {
    "id": "ApKV_nDCnncz"
   },
   "outputs": [],
   "source": [
    "w = t"
   ]
  },
  {
   "cell_type": "code",
   "execution_count": 106,
   "metadata": {
    "colab": {
     "base_uri": "https://localhost:8080/"
    },
    "id": "SLE8F7rPnqsq",
    "outputId": "5cab256d-8418-4ac7-c4ee-3c0c1ff58c27"
   },
   "outputs": [
    {
     "data": {
      "text/plain": [
       "['K', 3.5, 'hi', 0, 9, 8, 7, 6, 'Z', 4]"
      ]
     },
     "execution_count": 106,
     "metadata": {},
     "output_type": "execute_result"
    }
   ],
   "source": [
    "w"
   ]
  },
  {
   "cell_type": "code",
   "execution_count": 107,
   "metadata": {
    "colab": {
     "base_uri": "https://localhost:8080/"
    },
    "id": "X57CdCKZnryE",
    "outputId": "ce1fc29a-77c2-48f0-a7c2-e9cbecdb2eb9"
   },
   "outputs": [
    {
     "data": {
      "text/plain": [
       "0"
      ]
     },
     "execution_count": 107,
     "metadata": {},
     "output_type": "execute_result"
    }
   ],
   "source": [
    "min(ls2)"
   ]
  },
  {
   "cell_type": "code",
   "execution_count": 108,
   "metadata": {
    "colab": {
     "base_uri": "https://localhost:8080/"
    },
    "id": "em9wkwn1n0qP",
    "outputId": "a0007e16-c760-49b4-b6fa-8ec132b5bbfd"
   },
   "outputs": [
    {
     "data": {
      "text/plain": [
       "9"
      ]
     },
     "execution_count": 108,
     "metadata": {},
     "output_type": "execute_result"
    }
   ],
   "source": [
    "max(ls2)"
   ]
  },
  {
   "cell_type": "code",
   "execution_count": 109,
   "metadata": {
    "id": "laBKMJF8n89W"
   },
   "outputs": [],
   "source": [
    "m = \"Rahul\""
   ]
  },
  {
   "cell_type": "code",
   "execution_count": 110,
   "metadata": {
    "colab": {
     "base_uri": "https://localhost:8080/"
    },
    "id": "LvtPYLQ4oCBb",
    "outputId": "f2822210-4886-46e8-f2e3-635109bdf936"
   },
   "outputs": [
    {
     "data": {
      "text/plain": [
       "['R', 'a', 'h', 'u', 'l']"
      ]
     },
     "execution_count": 110,
     "metadata": {},
     "output_type": "execute_result"
    }
   ],
   "source": [
    "list(m)"
   ]
  },
  {
   "cell_type": "code",
   "execution_count": null,
   "metadata": {
    "id": "iA_0TNF6oDjo"
   },
   "outputs": [],
   "source": []
  },
  {
   "cell_type": "markdown",
   "metadata": {
    "id": "LD58Ad5uoPZV"
   },
   "source": []
  },
  {
   "cell_type": "code",
   "execution_count": 111,
   "metadata": {
    "id": "gAqS0jODoZtn"
   },
   "outputs": [],
   "source": [
    "t = (4,5,6,7,8,'H',9.6,\"T\",\"O\",\"P\")"
   ]
  },
  {
   "cell_type": "code",
   "execution_count": 112,
   "metadata": {
    "id": "U9KQaALfohOS"
   },
   "outputs": [
    {
     "name": "stdout",
     "output_type": "stream",
     "text": [
      "yes\n",
      "yes\n",
      "yes\n",
      "yes\n"
     ]
    }
   ],
   "source": [
    "b = []\n",
    "for i in t:\n",
    "  if type(i) is str:\n",
    "    print(\"yes\")\n",
    "  else:\n",
    "    b.append(i)"
   ]
  },
  {
   "cell_type": "code",
   "execution_count": 113,
   "metadata": {
    "id": "o8x_8RTvokl-"
   },
   "outputs": [],
   "source": [
    "t = tuple(b)"
   ]
  },
  {
   "cell_type": "code",
   "execution_count": 114,
   "metadata": {
    "colab": {
     "base_uri": "https://localhost:8080/"
    },
    "id": "ohYlULpdo31G",
    "outputId": "2640ac70-3a31-4af5-87cc-fed7ce36f4ce"
   },
   "outputs": [
    {
     "data": {
      "text/plain": [
       "4"
      ]
     },
     "execution_count": 114,
     "metadata": {},
     "output_type": "execute_result"
    }
   ],
   "source": [
    "min(t)"
   ]
  },
  {
   "cell_type": "code",
   "execution_count": 115,
   "metadata": {
    "id": "_rvjIRlQo-HM"
   },
   "outputs": [],
   "source": [
    "j = \"y\""
   ]
  },
  {
   "cell_type": "code",
   "execution_count": 116,
   "metadata": {
    "colab": {
     "base_uri": "https://localhost:8080/"
    },
    "id": "nVJ-f6iIpcvu",
    "outputId": "c2a668b2-76bf-49b3-f6e2-e97097cea1ba"
   },
   "outputs": [
    {
     "data": {
      "text/plain": [
       "True"
      ]
     },
     "execution_count": 116,
     "metadata": {},
     "output_type": "execute_result"
    }
   ],
   "source": [
    "j.isalpha()"
   ]
  },
  {
   "cell_type": "markdown",
   "metadata": {
    "id": "fC_6HtS7rKX3"
   },
   "source": [
    "# **List comprehension**"
   ]
  },
  {
   "cell_type": "code",
   "execution_count": 117,
   "metadata": {
    "id": "otuxug3Qp3G9"
   },
   "outputs": [],
   "source": [
    "a = []\n",
    "\n",
    "for i in range(1,11):\n",
    "  a.append(i)"
   ]
  },
  {
   "cell_type": "code",
   "execution_count": 118,
   "metadata": {
    "colab": {
     "base_uri": "https://localhost:8080/"
    },
    "id": "KgjHHpJHrfG7",
    "outputId": "e62715e9-1d99-49ec-bcbf-4238926d44f8"
   },
   "outputs": [
    {
     "data": {
      "text/plain": [
       "55"
      ]
     },
     "execution_count": 118,
     "metadata": {},
     "output_type": "execute_result"
    }
   ],
   "source": [
    "sum(a)"
   ]
  },
  {
   "cell_type": "code",
   "execution_count": 119,
   "metadata": {
    "id": "TqvHMYQmrjAn"
   },
   "outputs": [],
   "source": [
    "q = [i for i in range(1,11)]"
   ]
  },
  {
   "cell_type": "code",
   "execution_count": 120,
   "metadata": {
    "colab": {
     "base_uri": "https://localhost:8080/"
    },
    "id": "6ABK12vGr4ci",
    "outputId": "c7b710e1-cce6-432b-89a0-e9766c18737f"
   },
   "outputs": [
    {
     "data": {
      "text/plain": [
       "55"
      ]
     },
     "execution_count": 120,
     "metadata": {},
     "output_type": "execute_result"
    }
   ],
   "source": [
    "sum(q)"
   ]
  },
  {
   "cell_type": "code",
   "execution_count": 121,
   "metadata": {
    "id": "9mD87Ujdr5ER"
   },
   "outputs": [],
   "source": [
    "t = []\n",
    "\n",
    "for i in range(1,11):\n",
    "  if i%2==0:\n",
    "    t.append(i)"
   ]
  },
  {
   "cell_type": "code",
   "execution_count": 122,
   "metadata": {
    "colab": {
     "base_uri": "https://localhost:8080/"
    },
    "id": "ac9oO2Q0snlL",
    "outputId": "6d47d10e-a26d-4e50-8be6-e50a7ad926ef"
   },
   "outputs": [
    {
     "data": {
      "text/plain": [
       "[2, 4, 6, 8, 10]"
      ]
     },
     "execution_count": 122,
     "metadata": {},
     "output_type": "execute_result"
    }
   ],
   "source": [
    "t"
   ]
  },
  {
   "cell_type": "code",
   "execution_count": 123,
   "metadata": {
    "id": "2C7pOnIBsr89"
   },
   "outputs": [],
   "source": [
    "q = [i for i in range(1,11) if i%2==0]"
   ]
  },
  {
   "cell_type": "code",
   "execution_count": 124,
   "metadata": {
    "colab": {
     "base_uri": "https://localhost:8080/"
    },
    "id": "fF13iRxws4RI",
    "outputId": "3f04a063-a64f-471d-d538-786924636690"
   },
   "outputs": [
    {
     "data": {
      "text/plain": [
       "[2, 4, 6, 8, 10]"
      ]
     },
     "execution_count": 124,
     "metadata": {},
     "output_type": "execute_result"
    }
   ],
   "source": [
    "q"
   ]
  },
  {
   "cell_type": "markdown",
   "metadata": {
    "id": "BJUzmdKZsFQQ"
   },
   "source": [
    "find out sum of 1 to 20 odd number\n",
    "\n",
    "find out sum of 1 to 20 even number"
   ]
  },
  {
   "cell_type": "markdown",
   "metadata": {
    "id": "wTtym_3JtEPI"
   },
   "source": [
    "find out next element: [2,6,12,20,30,42,56,a,b,c,d]\n",
    "\n",
    "[0,6,24,60,120,210,a,b,c,d]"
   ]
  },
  {
   "cell_type": "code",
   "execution_count": 125,
   "metadata": {
    "id": "OKhhfLvBBUQ9"
   },
   "outputs": [
    {
     "data": {
      "text/plain": [
       "[2,\n",
       " 6,\n",
       " 12,\n",
       " 20,\n",
       " 30,\n",
       " 42,\n",
       " 56,\n",
       " 72,\n",
       " 90,\n",
       " 110,\n",
       " 132,\n",
       " 156,\n",
       " 182,\n",
       " 210,\n",
       " 240,\n",
       " 272,\n",
       " 306,\n",
       " 342,\n",
       " 380]"
      ]
     },
     "execution_count": 125,
     "metadata": {},
     "output_type": "execute_result"
    }
   ],
   "source": [
    "[i*i+i for i in range(1,20)]"
   ]
  },
  {
   "cell_type": "code",
   "execution_count": 126,
   "metadata": {
    "colab": {
     "base_uri": "https://localhost:8080/"
    },
    "id": "ItTsdOQiBwe_",
    "outputId": "4d700686-ea30-48d1-c9ec-53dcc1c5f613"
   },
   "outputs": [
    {
     "data": {
      "text/plain": [
       "[0, 6, 24, 60, 120, 210, 336, 504, 720]"
      ]
     },
     "execution_count": 126,
     "metadata": {},
     "output_type": "execute_result"
    }
   ],
   "source": [
    "[i**3-i for i in range(1,10)]"
   ]
  },
  {
   "cell_type": "markdown",
   "metadata": {
    "id": "UAQvctILuLAM"
   },
   "source": [
    "2D and 3D list slicing"
   ]
  },
  {
   "cell_type": "code",
   "execution_count": 127,
   "metadata": {
    "id": "A91p-c_AsSBx"
   },
   "outputs": [],
   "source": [
    "l1 = [4,5,7,87,9]\n",
    "\n",
    "l2 = [[3,4,6],[3,8,6]] #2x3"
   ]
  },
  {
   "cell_type": "code",
   "execution_count": 128,
   "metadata": {
    "colab": {
     "base_uri": "https://localhost:8080/"
    },
    "id": "loKLuva0ulSU",
    "outputId": "ebf8fe70-0cd4-4357-a74d-bc281fc8bcd2"
   },
   "outputs": [
    {
     "data": {
      "text/plain": [
       "8"
      ]
     },
     "execution_count": 128,
     "metadata": {},
     "output_type": "execute_result"
    }
   ],
   "source": [
    "l2[1][1]"
   ]
  },
  {
   "cell_type": "code",
   "execution_count": 129,
   "metadata": {
    "id": "B68TIAPMu4bH"
   },
   "outputs": [],
   "source": [
    "l3 = [[[3,5,7],[1,9,12]],[[12,13,14],[15,16,17]]] #2,3,2"
   ]
  },
  {
   "cell_type": "code",
   "execution_count": 130,
   "metadata": {
    "colab": {
     "base_uri": "https://localhost:8080/"
    },
    "id": "8NFhN5APvbFb",
    "outputId": "b524064f-f44f-4d60-93ef-370ed391ad96"
   },
   "outputs": [
    {
     "data": {
      "text/plain": [
       "14"
      ]
     },
     "execution_count": 130,
     "metadata": {},
     "output_type": "execute_result"
    }
   ],
   "source": [
    "l3[1][0][2]"
   ]
  },
  {
   "cell_type": "markdown",
   "metadata": {
    "id": "NVSrOAELv_Jy"
   },
   "source": [
    "## List & Array"
   ]
  },
  {
   "cell_type": "code",
   "execution_count": 131,
   "metadata": {
    "id": "Q8pEAxPewDLF"
   },
   "outputs": [],
   "source": [
    "# list is collection of data which is mutable and ordered primary data type in python\n",
    "# Arrary is collectoin of same data type which we are defining with math, numpy and array module"
   ]
  },
  {
   "cell_type": "code",
   "execution_count": 132,
   "metadata": {
    "colab": {
     "base_uri": "https://localhost:8080/"
    },
    "id": "Tqa9eGvMwcBo",
    "outputId": "9d2044db-8093-43b3-8a28-79516cb9597a"
   },
   "outputs": [
    {
     "data": {
      "text/plain": [
       "list"
      ]
     },
     "execution_count": 132,
     "metadata": {},
     "output_type": "execute_result"
    }
   ],
   "source": [
    "ls1 = [3,5,7,8,9.8,\"hi\"]\n",
    "\n",
    "type(ls1)"
   ]
  },
  {
   "cell_type": "code",
   "execution_count": 133,
   "metadata": {
    "id": "r_vEJ4Svwoca"
   },
   "outputs": [],
   "source": [
    "import numpy as np\n",
    "\n",
    "ar1 = np.array([1,3,5,6.3,'h'])"
   ]
  },
  {
   "cell_type": "code",
   "execution_count": 134,
   "metadata": {
    "colab": {
     "base_uri": "https://localhost:8080/"
    },
    "id": "fg70aPmyxAGO",
    "outputId": "2e605ec9-ce0c-473e-acda-456bfdc5174d"
   },
   "outputs": [
    {
     "data": {
      "text/plain": [
       "array(['1', '3', '5', '6.3', 'h'], dtype='<U32')"
      ]
     },
     "execution_count": 134,
     "metadata": {},
     "output_type": "execute_result"
    }
   ],
   "source": [
    "ar1"
   ]
  },
  {
   "cell_type": "code",
   "execution_count": 135,
   "metadata": {
    "colab": {
     "base_uri": "https://localhost:8080/"
    },
    "id": "DUHh4C8nxBD3",
    "outputId": "fda10f5e-2e13-47d6-ba3d-6470bf0e790e"
   },
   "outputs": [
    {
     "data": {
      "text/plain": [
       "numpy.ndarray"
      ]
     },
     "execution_count": 135,
     "metadata": {},
     "output_type": "execute_result"
    }
   ],
   "source": [
    "type(ar1)"
   ]
  },
  {
   "cell_type": "markdown",
   "metadata": {
    "id": "Nvtx9kagxaD2"
   },
   "source": [
    "# Dictionary"
   ]
  },
  {
   "cell_type": "code",
   "execution_count": 136,
   "metadata": {
    "id": "EfZH1NsgxEmg"
   },
   "outputs": [],
   "source": [
    "d1 = {\"A\":15,\"B\":20,\"C\":18,\"M\":20}"
   ]
  },
  {
   "cell_type": "code",
   "execution_count": 137,
   "metadata": {
    "id": "F1PPTtXhxo9j"
   },
   "outputs": [],
   "source": [
    "d2 = {\"A\":16,\"Q\":23}"
   ]
  },
  {
   "cell_type": "code",
   "execution_count": 138,
   "metadata": {
    "colab": {
     "base_uri": "https://localhost:8080/"
    },
    "id": "K0S8-uDZxybz",
    "outputId": "fd65434f-736e-4e58-b05f-2844b369848e"
   },
   "outputs": [
    {
     "data": {
      "text/plain": [
       "20"
      ]
     },
     "execution_count": 138,
     "metadata": {},
     "output_type": "execute_result"
    }
   ],
   "source": [
    "d1[\"M\"]"
   ]
  },
  {
   "cell_type": "code",
   "execution_count": 139,
   "metadata": {
    "id": "yVs6vQLcx5MX"
   },
   "outputs": [],
   "source": [
    "d1.update(d2)"
   ]
  },
  {
   "cell_type": "code",
   "execution_count": 140,
   "metadata": {
    "colab": {
     "base_uri": "https://localhost:8080/"
    },
    "id": "SqNW436bx_s2",
    "outputId": "c02eb182-8e4d-4dd7-ab91-897afe6c602a"
   },
   "outputs": [
    {
     "data": {
      "text/plain": [
       "{'A': 16, 'B': 20, 'C': 18, 'M': 20, 'Q': 23}"
      ]
     },
     "execution_count": 140,
     "metadata": {},
     "output_type": "execute_result"
    }
   ],
   "source": [
    "d1"
   ]
  },
  {
   "cell_type": "code",
   "execution_count": 141,
   "metadata": {
    "colab": {
     "base_uri": "https://localhost:8080/"
    },
    "id": "lQeFRGVOyB1F",
    "outputId": "980951d5-21f3-4b0b-cc33-8068eddffcd4"
   },
   "outputs": [
    {
     "data": {
      "text/plain": [
       "{'A': 16, 'Q': 23}"
      ]
     },
     "execution_count": 141,
     "metadata": {},
     "output_type": "execute_result"
    }
   ],
   "source": [
    "d2"
   ]
  },
  {
   "cell_type": "code",
   "execution_count": 142,
   "metadata": {
    "colab": {
     "base_uri": "https://localhost:8080/"
    },
    "id": "17o_5VioyEy6",
    "outputId": "a1ec312d-d288-463d-93b2-fe700b006c6d"
   },
   "outputs": [
    {
     "data": {
      "text/plain": [
       "dict_keys(['A', 'B', 'C', 'M', 'Q'])"
      ]
     },
     "execution_count": 142,
     "metadata": {},
     "output_type": "execute_result"
    }
   ],
   "source": [
    "d1.keys()"
   ]
  },
  {
   "cell_type": "code",
   "execution_count": 143,
   "metadata": {
    "colab": {
     "base_uri": "https://localhost:8080/"
    },
    "id": "_4AYW1P2yKvP",
    "outputId": "cc9e782a-d084-46c2-ef78-8510f266ed6b"
   },
   "outputs": [
    {
     "data": {
      "text/plain": [
       "dict_values([16, 20, 18, 20, 23])"
      ]
     },
     "execution_count": 143,
     "metadata": {},
     "output_type": "execute_result"
    }
   ],
   "source": [
    "d1.values()"
   ]
  },
  {
   "cell_type": "code",
   "execution_count": 144,
   "metadata": {
    "colab": {
     "base_uri": "https://localhost:8080/"
    },
    "id": "mJwWAm5-yN8F",
    "outputId": "4a5c27d5-0032-44c3-c5b2-8df6d23ea7b2"
   },
   "outputs": [
    {
     "data": {
      "text/plain": [
       "dict_items([('A', 16), ('B', 20), ('C', 18), ('M', 20), ('Q', 23)])"
      ]
     },
     "execution_count": 144,
     "metadata": {},
     "output_type": "execute_result"
    }
   ],
   "source": [
    "d1.items()"
   ]
  },
  {
   "cell_type": "code",
   "execution_count": 145,
   "metadata": {
    "colab": {
     "base_uri": "https://localhost:8080/"
    },
    "id": "ZEeZ0tYPyTWv",
    "outputId": "fe01a125-4681-47ca-e2e7-027793a0fa84"
   },
   "outputs": [
    {
     "data": {
      "text/plain": [
       "16"
      ]
     },
     "execution_count": 145,
     "metadata": {},
     "output_type": "execute_result"
    }
   ],
   "source": [
    "d1.get(\"A\")"
   ]
  },
  {
   "cell_type": "code",
   "execution_count": 146,
   "metadata": {
    "colab": {
     "base_uri": "https://localhost:8080/"
    },
    "id": "EhjvKxkXyXHm",
    "outputId": "9b0dc866-5854-4917-a2c2-d57d9c0deabb"
   },
   "outputs": [
    {
     "data": {
      "text/plain": [
       "16"
      ]
     },
     "execution_count": 146,
     "metadata": {},
     "output_type": "execute_result"
    }
   ],
   "source": [
    "d1[\"A\"]"
   ]
  },
  {
   "cell_type": "code",
   "execution_count": 147,
   "metadata": {
    "colab": {
     "base_uri": "https://localhost:8080/"
    },
    "id": "dGYPyrLQyaXZ",
    "outputId": "92bfd0b1-2cb1-43b3-8bcc-fcebd4fb8896"
   },
   "outputs": [
    {
     "data": {
      "text/plain": [
       "20"
      ]
     },
     "execution_count": 147,
     "metadata": {},
     "output_type": "execute_result"
    }
   ],
   "source": [
    "d1.pop(\"M\")"
   ]
  },
  {
   "cell_type": "code",
   "execution_count": 148,
   "metadata": {
    "colab": {
     "base_uri": "https://localhost:8080/"
    },
    "id": "s3TFFAHxympi",
    "outputId": "394ad10f-1dd2-48b1-f07a-972ff5efc5c7"
   },
   "outputs": [
    {
     "data": {
      "text/plain": [
       "{'A': 16, 'B': 20, 'C': 18, 'Q': 23}"
      ]
     },
     "execution_count": 148,
     "metadata": {},
     "output_type": "execute_result"
    }
   ],
   "source": [
    "d1"
   ]
  },
  {
   "cell_type": "code",
   "execution_count": 149,
   "metadata": {
    "id": "ppSNUm7Kynx6"
   },
   "outputs": [],
   "source": [
    "d1.clear()"
   ]
  },
  {
   "cell_type": "code",
   "execution_count": 150,
   "metadata": {
    "colab": {
     "base_uri": "https://localhost:8080/"
    },
    "id": "uhDqPGPqysCY",
    "outputId": "c0f38555-0e35-4920-99cd-396fee5095ed"
   },
   "outputs": [
    {
     "data": {
      "text/plain": [
       "{}"
      ]
     },
     "execution_count": 150,
     "metadata": {},
     "output_type": "execute_result"
    }
   ],
   "source": [
    "d1"
   ]
  },
  {
   "cell_type": "code",
   "execution_count": 151,
   "metadata": {
    "colab": {
     "base_uri": "https://localhost:8080/"
    },
    "id": "dmCZ1gnbytHl",
    "outputId": "20a717eb-7d72-422c-d77b-af7f4eeeabe2"
   },
   "outputs": [
    {
     "data": {
      "text/plain": [
       "dict"
      ]
     },
     "execution_count": 151,
     "metadata": {},
     "output_type": "execute_result"
    }
   ],
   "source": [
    "type(d1)"
   ]
  },
  {
   "cell_type": "code",
   "execution_count": 152,
   "metadata": {
    "id": "Mkk2PN58yvt2"
   },
   "outputs": [],
   "source": [
    "d2[\"Q\"] = 15"
   ]
  },
  {
   "cell_type": "code",
   "execution_count": 153,
   "metadata": {
    "colab": {
     "base_uri": "https://localhost:8080/"
    },
    "id": "91JOEyEMzKgV",
    "outputId": "3a04c8cb-5fce-439d-db53-1cf28f5ddcc4"
   },
   "outputs": [
    {
     "data": {
      "text/plain": [
       "{'A': 16, 'Q': 15}"
      ]
     },
     "execution_count": 153,
     "metadata": {},
     "output_type": "execute_result"
    }
   ],
   "source": [
    "d2"
   ]
  },
  {
   "cell_type": "code",
   "execution_count": 154,
   "metadata": {
    "id": "P1ThLbkszUp3"
   },
   "outputs": [],
   "source": [
    "t1 = (\"A\",\"Q\",\"J\",\"K\")\n",
    "\n",
    "d3 = {}.fromkeys(t1,\"Data\")"
   ]
  },
  {
   "cell_type": "code",
   "execution_count": 155,
   "metadata": {
    "id": "MetWyhB3zpvh"
   },
   "outputs": [],
   "source": [
    "d3[\"A\"] = 100\n",
    "d3[\"Q\"] = 200\n",
    "d3[\"K\"] = 400\n",
    "d3[\"J\"] = 500"
   ]
  },
  {
   "cell_type": "code",
   "execution_count": 156,
   "metadata": {
    "colab": {
     "base_uri": "https://localhost:8080/"
    },
    "id": "Q8D0mI0Nzqgo",
    "outputId": "97585161-2397-4469-c2b3-c94814ea25a3"
   },
   "outputs": [
    {
     "data": {
      "text/plain": [
       "{'A': 100, 'Q': 200, 'J': 500, 'K': 400}"
      ]
     },
     "execution_count": 156,
     "metadata": {},
     "output_type": "execute_result"
    }
   ],
   "source": [
    "d3"
   ]
  },
  {
   "cell_type": "code",
   "execution_count": 157,
   "metadata": {
    "id": "M2Cnn_41z8t7"
   },
   "outputs": [],
   "source": [
    "t2 = (\"A\",\"B\",\"C\")\n",
    "\n",
    "d4 = {}.fromkeys(t2,[10,20,30])"
   ]
  },
  {
   "cell_type": "code",
   "execution_count": 158,
   "metadata": {
    "colab": {
     "base_uri": "https://localhost:8080/"
    },
    "id": "r39Csy0y0gd-",
    "outputId": "5f0f3802-8880-4fac-cd9e-820e8f5be6b2"
   },
   "outputs": [
    {
     "data": {
      "text/plain": [
       "{'A': [10, 20, 30], 'B': [10, 20, 30], 'C': [10, 20, 30]}"
      ]
     },
     "execution_count": 158,
     "metadata": {},
     "output_type": "execute_result"
    }
   ],
   "source": [
    "d4"
   ]
  },
  {
   "cell_type": "code",
   "execution_count": 159,
   "metadata": {
    "colab": {
     "base_uri": "https://localhost:8080/"
    },
    "id": "330LNrQt0hgM",
    "outputId": "35a596ce-349c-45ac-ff23-5484c90fa31c"
   },
   "outputs": [
    {
     "data": {
      "text/plain": [
       "4"
      ]
     },
     "execution_count": 159,
     "metadata": {},
     "output_type": "execute_result"
    }
   ],
   "source": [
    "len(d3)"
   ]
  },
  {
   "cell_type": "code",
   "execution_count": 160,
   "metadata": {
    "id": "kgWjrRZm0p2l"
   },
   "outputs": [],
   "source": [
    "#l1 = [4,5,6,7,87]"
   ]
  },
  {
   "cell_type": "code",
   "execution_count": 161,
   "metadata": {
    "id": "xJqqglwQ1L_I",
    "scrolled": true
   },
   "outputs": [],
   "source": [
    "#dict(l1)"
   ]
  },
  {
   "cell_type": "markdown",
   "metadata": {
    "id": "gcq1wskG1fPY"
   },
   "source": [
    "Data Frame creation"
   ]
  },
  {
   "cell_type": "code",
   "execution_count": 162,
   "metadata": {
    "id": "32BlmQBZ1NYG"
   },
   "outputs": [],
   "source": [
    "n = [\"Iron-Man\",\"Spiderman\",\"Avengers\",\"End Game\"]\n",
    "a = [\"RDJ\",\"abc\",[\"RDJ\",\"CA\"],\"RDJ\"]\n",
    "ac = [\"ABC\",\"abc\",\"SJ\",\"SJ\"]\n",
    "c = [200,150,300,400]\n",
    "\n",
    "\n",
    "Movies = {\"Name\":n,\"Actor\":a,\"Actress\":ac,\"Collection in M$\":c}"
   ]
  },
  {
   "cell_type": "code",
   "execution_count": 163,
   "metadata": {
    "colab": {
     "base_uri": "https://localhost:8080/"
    },
    "id": "kp-sN30g254Y",
    "outputId": "82b27556-9a8f-47d0-8a74-aa5fe84aa59b"
   },
   "outputs": [
    {
     "data": {
      "text/plain": [
       "{'Name': ['Iron-Man', 'Spiderman', 'Avengers', 'End Game'],\n",
       " 'Actor': ['RDJ', 'abc', ['RDJ', 'CA'], 'RDJ'],\n",
       " 'Actress': ['ABC', 'abc', 'SJ', 'SJ'],\n",
       " 'Collection in M$': [200, 150, 300, 400]}"
      ]
     },
     "execution_count": 163,
     "metadata": {},
     "output_type": "execute_result"
    }
   ],
   "source": [
    "Movies"
   ]
  },
  {
   "cell_type": "code",
   "execution_count": 164,
   "metadata": {
    "id": "ipgDdfCr27tU"
   },
   "outputs": [],
   "source": [
    "import pandas as pd"
   ]
  },
  {
   "cell_type": "code",
   "execution_count": 165,
   "metadata": {
    "id": "E4iX05eU3DGF"
   },
   "outputs": [],
   "source": [
    "dataset = pd.DataFrame(Movies)"
   ]
  },
  {
   "cell_type": "code",
   "execution_count": null,
   "metadata": {},
   "outputs": [],
   "source": []
  },
  {
   "cell_type": "code",
   "execution_count": 166,
   "metadata": {
    "colab": {
     "base_uri": "https://localhost:8080/",
     "height": 175
    },
    "id": "GF4zQeGI3Hrp",
    "outputId": "1244d40c-32e3-43c6-aae4-e29c1798eaf8"
   },
   "outputs": [
    {
     "data": {
      "text/html": [
       "<div>\n",
       "<style scoped>\n",
       "    .dataframe tbody tr th:only-of-type {\n",
       "        vertical-align: middle;\n",
       "    }\n",
       "\n",
       "    .dataframe tbody tr th {\n",
       "        vertical-align: top;\n",
       "    }\n",
       "\n",
       "    .dataframe thead th {\n",
       "        text-align: right;\n",
       "    }\n",
       "</style>\n",
       "<table border=\"1\" class=\"dataframe\">\n",
       "  <thead>\n",
       "    <tr style=\"text-align: right;\">\n",
       "      <th></th>\n",
       "      <th>Name</th>\n",
       "      <th>Actor</th>\n",
       "      <th>Actress</th>\n",
       "      <th>Collection in M$</th>\n",
       "    </tr>\n",
       "  </thead>\n",
       "  <tbody>\n",
       "    <tr>\n",
       "      <th>0</th>\n",
       "      <td>Iron-Man</td>\n",
       "      <td>RDJ</td>\n",
       "      <td>ABC</td>\n",
       "      <td>200</td>\n",
       "    </tr>\n",
       "    <tr>\n",
       "      <th>1</th>\n",
       "      <td>Spiderman</td>\n",
       "      <td>abc</td>\n",
       "      <td>abc</td>\n",
       "      <td>150</td>\n",
       "    </tr>\n",
       "    <tr>\n",
       "      <th>2</th>\n",
       "      <td>Avengers</td>\n",
       "      <td>[RDJ, CA]</td>\n",
       "      <td>SJ</td>\n",
       "      <td>300</td>\n",
       "    </tr>\n",
       "    <tr>\n",
       "      <th>3</th>\n",
       "      <td>End Game</td>\n",
       "      <td>RDJ</td>\n",
       "      <td>SJ</td>\n",
       "      <td>400</td>\n",
       "    </tr>\n",
       "  </tbody>\n",
       "</table>\n",
       "</div>"
      ],
      "text/plain": [
       "        Name      Actor Actress  Collection in M$\n",
       "0   Iron-Man        RDJ     ABC               200\n",
       "1  Spiderman        abc     abc               150\n",
       "2   Avengers  [RDJ, CA]      SJ               300\n",
       "3   End Game        RDJ      SJ               400"
      ]
     },
     "execution_count": 166,
     "metadata": {},
     "output_type": "execute_result"
    }
   ],
   "source": [
    "dataset"
   ]
  },
  {
   "cell_type": "code",
   "execution_count": null,
   "metadata": {},
   "outputs": [],
   "source": []
  },
  {
   "cell_type": "code",
   "execution_count": null,
   "metadata": {},
   "outputs": [],
   "source": []
  },
  {
   "cell_type": "code",
   "execution_count": 167,
   "metadata": {
    "id": "3CZzRFvn3Ijq"
   },
   "outputs": [],
   "source": [
    "dataset.to_csv(\"Movies.csv\")"
   ]
  },
  {
   "cell_type": "code",
   "execution_count": null,
   "metadata": {},
   "outputs": [],
   "source": []
  },
  {
   "cell_type": "markdown",
   "metadata": {
    "id": "kQeMANjb-PYi"
   },
   "source": [
    "# **Set**"
   ]
  },
  {
   "cell_type": "code",
   "execution_count": 168,
   "metadata": {
    "id": "oIhOosiZ3dyt"
   },
   "outputs": [],
   "source": [
    "s1 = {4,5,6,7,8,9,0.3,\"h\"}"
   ]
  },
  {
   "cell_type": "code",
   "execution_count": 169,
   "metadata": {
    "id": "nyRHpFjx-VAN"
   },
   "outputs": [],
   "source": [
    "s2 = {4,5,6,6,54,4,5,76,7} #it never takes any duplicate values"
   ]
  },
  {
   "cell_type": "code",
   "execution_count": 170,
   "metadata": {
    "colab": {
     "base_uri": "https://localhost:8080/"
    },
    "id": "KOhHvgEe-h7c",
    "outputId": "1b725f21-adb3-4d64-eb26-658c3d6d4f41"
   },
   "outputs": [
    {
     "data": {
      "text/plain": [
       "{4, 5, 6, 7, 54, 76}"
      ]
     },
     "execution_count": 170,
     "metadata": {},
     "output_type": "execute_result"
    }
   ],
   "source": [
    "s2"
   ]
  },
  {
   "cell_type": "code",
   "execution_count": 171,
   "metadata": {
    "colab": {
     "base_uri": "https://localhost:8080/"
    },
    "id": "lsPM58ut-3UG",
    "outputId": "43b483b7-c410-43cd-8af2-fa6156068021"
   },
   "outputs": [
    {
     "data": {
      "text/plain": [
       "{0.3, 4, 5, 6, 7, 8, 9, 'h'}"
      ]
     },
     "execution_count": 171,
     "metadata": {},
     "output_type": "execute_result"
    }
   ],
   "source": [
    "s1"
   ]
  },
  {
   "cell_type": "code",
   "execution_count": 172,
   "metadata": {
    "colab": {
     "base_uri": "https://localhost:8080/"
    },
    "id": "kUsEO8TY-qhO",
    "outputId": "8decc0c2-8677-4a26-ec67-e8ee33f70822"
   },
   "outputs": [
    {
     "name": "stdout",
     "output_type": "stream",
     "text": [
      "0.3\n",
      "4\n",
      "5\n",
      "6\n",
      "7\n",
      "8\n",
      "9\n",
      "h\n"
     ]
    }
   ],
   "source": [
    "for i in s1:\n",
    "  print(i)"
   ]
  },
  {
   "cell_type": "code",
   "execution_count": 173,
   "metadata": {
    "id": "dmyRgAmH-1UV"
   },
   "outputs": [],
   "source": [
    "s1.add(100)"
   ]
  },
  {
   "cell_type": "code",
   "execution_count": 174,
   "metadata": {
    "colab": {
     "base_uri": "https://localhost:8080/"
    },
    "id": "zTaz1kNR-9XV",
    "outputId": "e68b2222-1aab-44f4-e2b2-71f6263b8c69"
   },
   "outputs": [
    {
     "data": {
      "text/plain": [
       "{0.3, 100, 4, 5, 6, 7, 8, 9, 'h'}"
      ]
     },
     "execution_count": 174,
     "metadata": {},
     "output_type": "execute_result"
    }
   ],
   "source": [
    "s1"
   ]
  },
  {
   "cell_type": "code",
   "execution_count": 175,
   "metadata": {
    "id": "5zuDvV-g--BN"
   },
   "outputs": [],
   "source": [
    "s1.remove(7)"
   ]
  },
  {
   "cell_type": "code",
   "execution_count": 176,
   "metadata": {
    "colab": {
     "base_uri": "https://localhost:8080/"
    },
    "id": "LkDDpFZz_C-N",
    "outputId": "bdec8224-3e4f-4000-a00c-bff33fc41cd1"
   },
   "outputs": [
    {
     "data": {
      "text/plain": [
       "{0.3, 100, 4, 5, 6, 8, 9, 'h'}"
      ]
     },
     "execution_count": 176,
     "metadata": {},
     "output_type": "execute_result"
    }
   ],
   "source": [
    "s1"
   ]
  },
  {
   "cell_type": "code",
   "execution_count": 177,
   "metadata": {
    "id": "UMSvBIPg_DyM"
   },
   "outputs": [],
   "source": [
    "s3 = {}"
   ]
  },
  {
   "cell_type": "code",
   "execution_count": 178,
   "metadata": {
    "colab": {
     "base_uri": "https://localhost:8080/"
    },
    "id": "LziQ04Ie_Ivk",
    "outputId": "767e8f08-d8a8-4cdc-c53a-75225b8edb03"
   },
   "outputs": [
    {
     "data": {
      "text/plain": [
       "dict"
      ]
     },
     "execution_count": 178,
     "metadata": {},
     "output_type": "execute_result"
    }
   ],
   "source": [
    "type(s3)"
   ]
  },
  {
   "cell_type": "code",
   "execution_count": 179,
   "metadata": {
    "id": "5wxh12vq_Q8b"
   },
   "outputs": [],
   "source": [
    "s1.clear()"
   ]
  },
  {
   "cell_type": "code",
   "execution_count": 180,
   "metadata": {
    "colab": {
     "base_uri": "https://localhost:8080/"
    },
    "id": "gKeGPFVH_WIO",
    "outputId": "7f6b35ee-8722-4cbd-cbe7-dae5e2bdfc47"
   },
   "outputs": [
    {
     "data": {
      "text/plain": [
       "set()"
      ]
     },
     "execution_count": 180,
     "metadata": {},
     "output_type": "execute_result"
    }
   ],
   "source": [
    "s1"
   ]
  },
  {
   "cell_type": "code",
   "execution_count": 181,
   "metadata": {
    "colab": {
     "base_uri": "https://localhost:8080/"
    },
    "id": "kfM_5VkB_W-_",
    "outputId": "b2b19f3d-746d-44f3-9d1e-19956b808e0b"
   },
   "outputs": [
    {
     "data": {
      "text/plain": [
       "{4, 5, 6, 7, 54, 76}"
      ]
     },
     "execution_count": 181,
     "metadata": {},
     "output_type": "execute_result"
    }
   ],
   "source": [
    "s2"
   ]
  },
  {
   "cell_type": "code",
   "execution_count": 182,
   "metadata": {
    "id": "tOJL9HpT_cnR"
   },
   "outputs": [],
   "source": [
    "s3 = {4,10,15,7}"
   ]
  },
  {
   "cell_type": "code",
   "execution_count": 183,
   "metadata": {
    "colab": {
     "base_uri": "https://localhost:8080/"
    },
    "id": "V4ckyIWP_gFl",
    "outputId": "98718595-9ea4-4d41-934e-2dd103bc94dc"
   },
   "outputs": [
    {
     "data": {
      "text/plain": [
       "{4, 5, 6, 7, 10, 15, 54, 76}"
      ]
     },
     "execution_count": 183,
     "metadata": {},
     "output_type": "execute_result"
    }
   ],
   "source": [
    "s2.union(s3)"
   ]
  },
  {
   "cell_type": "code",
   "execution_count": 184,
   "metadata": {
    "colab": {
     "base_uri": "https://localhost:8080/"
    },
    "id": "MOx2YvM9_7qW",
    "outputId": "4cef990b-dea8-4451-d6ff-11540c27be80"
   },
   "outputs": [
    {
     "data": {
      "text/plain": [
       "{4, 7}"
      ]
     },
     "execution_count": 184,
     "metadata": {},
     "output_type": "execute_result"
    }
   ],
   "source": [
    "s2.intersection(s3)"
   ]
  },
  {
   "cell_type": "code",
   "execution_count": 185,
   "metadata": {
    "colab": {
     "base_uri": "https://localhost:8080/"
    },
    "id": "lPKbA-zcAH2y",
    "outputId": "fa9b0c98-cbac-41c5-f398-3764d5d280cd"
   },
   "outputs": [
    {
     "data": {
      "text/plain": [
       "{10, 15}"
      ]
     },
     "execution_count": 185,
     "metadata": {},
     "output_type": "execute_result"
    }
   ],
   "source": [
    "s3.difference(s2)"
   ]
  },
  {
   "cell_type": "code",
   "execution_count": 186,
   "metadata": {
    "colab": {
     "base_uri": "https://localhost:8080/"
    },
    "id": "yDbDBSr3ATAb",
    "outputId": "1f08fdae-6837-4a94-ecc5-e26608c38ca2"
   },
   "outputs": [
    {
     "data": {
      "text/plain": [
       "{5, 6, 54, 76}"
      ]
     },
     "execution_count": 186,
     "metadata": {},
     "output_type": "execute_result"
    }
   ],
   "source": [
    "s2.difference(s3)"
   ]
  },
  {
   "cell_type": "code",
   "execution_count": 187,
   "metadata": {
    "colab": {
     "base_uri": "https://localhost:8080/"
    },
    "id": "iJ5ssJzlAhAq",
    "outputId": "05ae3c03-51ce-4cfe-c795-7c71f9201459"
   },
   "outputs": [
    {
     "data": {
      "text/plain": [
       "{4, 5, 6, 7, 54, 76}"
      ]
     },
     "execution_count": 187,
     "metadata": {},
     "output_type": "execute_result"
    }
   ],
   "source": [
    "s2"
   ]
  },
  {
   "cell_type": "code",
   "execution_count": 188,
   "metadata": {
    "id": "CgGOaA7zAYmD"
   },
   "outputs": [],
   "source": [
    "s2.difference_update(s3)"
   ]
  },
  {
   "cell_type": "code",
   "execution_count": 189,
   "metadata": {
    "colab": {
     "base_uri": "https://localhost:8080/"
    },
    "id": "cUepn-JRAkun",
    "outputId": "57f4e431-9e8d-4c19-aeac-6cc811c5f46e"
   },
   "outputs": [
    {
     "data": {
      "text/plain": [
       "{5, 6, 54, 76}"
      ]
     },
     "execution_count": 189,
     "metadata": {},
     "output_type": "execute_result"
    }
   ],
   "source": [
    "s2"
   ]
  },
  {
   "cell_type": "code",
   "execution_count": 190,
   "metadata": {
    "colab": {
     "base_uri": "https://localhost:8080/"
    },
    "id": "FVa_BUHwAmHF",
    "outputId": "e72f93ba-0f7a-4931-a703-d204ec03fdd1"
   },
   "outputs": [
    {
     "data": {
      "text/plain": [
       "5"
      ]
     },
     "execution_count": 190,
     "metadata": {},
     "output_type": "execute_result"
    }
   ],
   "source": [
    "min(s2)"
   ]
  },
  {
   "cell_type": "code",
   "execution_count": 191,
   "metadata": {
    "colab": {
     "base_uri": "https://localhost:8080/"
    },
    "id": "N2o_43AkAuN6",
    "outputId": "7888f00b-4665-4c3c-a90f-6917b5bf4f12"
   },
   "outputs": [
    {
     "data": {
      "text/plain": [
       "76"
      ]
     },
     "execution_count": 191,
     "metadata": {},
     "output_type": "execute_result"
    }
   ],
   "source": [
    "max(s2)"
   ]
  },
  {
   "cell_type": "code",
   "execution_count": 192,
   "metadata": {
    "colab": {
     "base_uri": "https://localhost:8080/"
    },
    "id": "3UQT-KFaAvZr",
    "outputId": "3be6cb74-fbf4-4092-ecf7-db74ad2baced"
   },
   "outputs": [
    {
     "data": {
      "text/plain": [
       "4"
      ]
     },
     "execution_count": 192,
     "metadata": {},
     "output_type": "execute_result"
    }
   ],
   "source": [
    "len(s2)"
   ]
  },
  {
   "cell_type": "code",
   "execution_count": 193,
   "metadata": {
    "colab": {
     "base_uri": "https://localhost:8080/"
    },
    "id": "_mK4ENy-AxMM",
    "outputId": "600f3d15-82c6-43ef-ff38-a0d19c24a700"
   },
   "outputs": [
    {
     "data": {
      "text/plain": [
       "[3, 3, 5, 6, 7, 8, 9, 8, 5, 5, 6, 8, 8, 9]"
      ]
     },
     "execution_count": 193,
     "metadata": {},
     "output_type": "execute_result"
    }
   ],
   "source": [
    "ls = [3,3,5,6,7,8,9,8,5,5,6,8,8,9]\n",
    "\n",
    "ls"
   ]
  },
  {
   "cell_type": "code",
   "execution_count": 194,
   "metadata": {
    "colab": {
     "base_uri": "https://localhost:8080/"
    },
    "id": "RBfPBjEkA9Ap",
    "outputId": "95a2e4f2-7805-4876-ec67-548956a6b0be"
   },
   "outputs": [
    {
     "data": {
      "text/plain": [
       "{3, 5, 6, 7, 8, 9}"
      ]
     },
     "execution_count": 194,
     "metadata": {},
     "output_type": "execute_result"
    }
   ],
   "source": [
    "set(ls)"
   ]
  },
  {
   "cell_type": "code",
   "execution_count": null,
   "metadata": {
    "id": "9jzIPk4EBD7r"
   },
   "outputs": [],
   "source": []
  }
 ],
 "metadata": {
  "colab": {
   "collapsed_sections": [],
   "name": "Data-Type.ipynb",
   "provenance": []
  },
  "kernelspec": {
   "display_name": "Python 3 (ipykernel)",
   "language": "python",
   "name": "python3"
  },
  "language_info": {
   "codemirror_mode": {
    "name": "ipython",
    "version": 3
   },
   "file_extension": ".py",
   "mimetype": "text/x-python",
   "name": "python",
   "nbconvert_exporter": "python",
   "pygments_lexer": "ipython3",
   "version": "3.9.7"
  }
 },
 "nbformat": 4,
 "nbformat_minor": 1
}
