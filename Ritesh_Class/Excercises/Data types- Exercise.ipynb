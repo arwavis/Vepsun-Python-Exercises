{
 "cells": [
  {
   "cell_type": "markdown",
   "id": "7867ea8d",
   "metadata": {},
   "source": [
    "Write a Python program to get a single string from two given strings, separated by a space and swap the first two characters of each string.\n",
    "a. Sample String : 'abc', 'xyz'\n",
    "Expected Result : 'xyc abz'"
   ]
  },
  {
   "cell_type": "code",
   "execution_count": 1,
   "id": "42b251e9",
   "metadata": {},
   "outputs": [
    {
     "name": "stdout",
     "output_type": "stream",
     "text": [
      "Enter the first String: abc\n",
      "Enter the Second String: xyz\n",
      "xyc abz\n"
     ]
    }
   ],
   "source": [
    "string1 = input(\"Enter the first String: \")\n",
    "string2 = input(\"Enter the Second String: \")\n",
    "\n",
    "def char(x,y):\n",
    "    string_x = y[:2]+x[2:]\n",
    "    string_y = x[:2]+y[2:]\n",
    "    return string_x + \" \" + string_y\n",
    "    \n",
    "print(char(string1, string2))"
   ]
  },
  {
   "cell_type": "markdown",
   "id": "f1906909",
   "metadata": {},
   "source": [
    "Write a Python script that takes input from the user and displays that input back \n",
    "in upper and lower cases"
   ]
  },
  {
   "cell_type": "code",
   "execution_count": 3,
   "id": "42588d9e",
   "metadata": {},
   "outputs": [
    {
     "name": "stdout",
     "output_type": "stream",
     "text": [
      "Enter a Sentence: This is me\n",
      "Sentence printed in lower case: this is me\n",
      "Sentence printed in Upper Case: THIS IS ME\n"
     ]
    }
   ],
   "source": [
    "string1 = input (\"Enter a Sentence: \")\n",
    "print(f\"Sentence printed in lower case: {string1.lower()}\")\n",
    "print(f\"Sentence printed in Upper Case: {string1.upper()}\")"
   ]
  },
  {
   "cell_type": "markdown",
   "id": "bedac055",
   "metadata": {},
   "source": [
    "Write a Python program that accepts a comma separated sequence of words as \n",
    "input and prints the unique words in sorted form (alphanumerically).\n",
    "a. Sample Words : red, white, black, red, green, black\n",
    "Expected Result : black, green, red, white"
   ]
  },
  {
   "cell_type": "code",
   "execution_count": 18,
   "id": "d7ab1e23",
   "metadata": {},
   "outputs": [
    {
     "name": "stdout",
     "output_type": "stream",
     "text": [
      "['black', 'green', 'red', 'white']\n"
     ]
    }
   ],
   "source": [
    "color = [\"red\", \"white\", \"black\", \"red\", \"green\", \"black\"]\n",
    "\n",
    "set_unique = set(color)\n",
    "set_list = list(set_unique)\n",
    "list_assign = set_list\n",
    "list_assign.sort()\n",
    "print(list_assign)\n"
   ]
  },
  {
   "cell_type": "markdown",
   "id": "262d4861",
   "metadata": {},
   "source": [
    "Write a Python function to reverses a string if it's length is a multiple of 4"
   ]
  },
  {
   "cell_type": "code",
   "execution_count": 12,
   "id": "9d7e0cb7",
   "metadata": {},
   "outputs": [
    {
     "name": "stdout",
     "output_type": "stream",
     "text": [
      "Enter a String: true\n",
      "eurt\n"
     ]
    }
   ],
   "source": [
    "def txt_function(x):\n",
    "    \n",
    "    if (len(x)%4 ==0):\n",
    "        return x[::-1]\n",
    "    else:\n",
    "        return x\n",
    "\n",
    "ordered_string = txt_function(input(\"Enter a String: \"))\n",
    "\n",
    "print (ordered_string)\n"
   ]
  },
  {
   "cell_type": "markdown",
   "id": "60d5a665",
   "metadata": {},
   "source": [
    "Write a Python program to count the number of characters (character \n",
    "frequency) in a string.\n",
    "i. Sample String : google.com'\n",
    "Expected Result : {'o': 3, 'g': 2, '.': 1, 'e': 1, 'l': 1, 'm': 1, 'c': 1}\n"
   ]
  },
  {
   "cell_type": "code",
   "execution_count": 16,
   "id": "5c0c1a28",
   "metadata": {},
   "outputs": [
    {
     "name": "stdout",
     "output_type": "stream",
     "text": [
      "Enter a String: google.com\n",
      "The total character in the the string1 is :  {'g': 2, 'o': 3, 'l': 1, 'e': 1, '.': 1, 'c': 1, 'm': 1}\n"
     ]
    }
   ],
   "source": [
    "string1 = input(\"Enter a String: \")\n",
    "lowered_string = string1.lower()\n",
    "\n",
    "tot = {}\n",
    "\n",
    "for string in lowered_string:\n",
    "    tot[string] = tot.get(string, 0) + 1\n",
    "\n",
    "print(f\"The total character in the the string1 is :  {str(tot)}\")\n",
    "    "
   ]
  },
  {
   "cell_type": "markdown",
   "id": "05096706",
   "metadata": {},
   "source": [
    "Write a Python program to remove duplicates from a list."
   ]
  },
  {
   "cell_type": "code",
   "execution_count": 19,
   "id": "d16a5a59",
   "metadata": {},
   "outputs": [
    {
     "name": "stdout",
     "output_type": "stream",
     "text": [
      "['Tiger', 'Lion', 'Elephant', 'Deer', 'Tiger', 'Lion']\n",
      "['Lion', 'Elephant', 'Deer', 'Tiger']\n"
     ]
    }
   ],
   "source": [
    "animals = [\"Tiger\", \"Lion\", \"Elephant\", \"Deer\", \"Tiger\", \"Lion\"]\n",
    "print(animals)\n",
    "animals_unique = set(animals)\n",
    "print(list(animals_unique))"
   ]
  },
  {
   "cell_type": "markdown",
   "id": "25ece9c6",
   "metadata": {},
   "source": [
    "Write a Python program to print a specified list after removing the 0th, 4th and \n",
    "5th elements.\n",
    "Sample List : ['Red', 'Green', 'White', 'Black', 'Pink', 'Yellow']\n",
    "Expected Output : ['Green', 'White', 'Black']\n"
   ]
  },
  {
   "cell_type": "code",
   "execution_count": 21,
   "id": "06f0fef3",
   "metadata": {},
   "outputs": [
    {
     "name": "stdout",
     "output_type": "stream",
     "text": [
      "['Green', 'White', 'Black']\n"
     ]
    }
   ],
   "source": [
    "color =  ['Red', 'Green', 'White', 'Black', 'Pink', 'Yellow']\n",
    "print(color[1:4])"
   ]
  },
  {
   "cell_type": "markdown",
   "id": "6afbace5",
   "metadata": {},
   "source": [
    "Write a Python program to generate all permutations of a list in Python."
   ]
  },
  {
   "cell_type": "code",
   "execution_count": 23,
   "id": "9a0b3c47",
   "metadata": {},
   "outputs": [
    {
     "name": "stdout",
     "output_type": "stream",
     "text": [
      "[(1, 2, 3, 4, 5), (1, 2, 3, 5, 4), (1, 2, 4, 3, 5), (1, 2, 4, 5, 3), (1, 2, 5, 3, 4), (1, 2, 5, 4, 3), (1, 3, 2, 4, 5), (1, 3, 2, 5, 4), (1, 3, 4, 2, 5), (1, 3, 4, 5, 2), (1, 3, 5, 2, 4), (1, 3, 5, 4, 2), (1, 4, 2, 3, 5), (1, 4, 2, 5, 3), (1, 4, 3, 2, 5), (1, 4, 3, 5, 2), (1, 4, 5, 2, 3), (1, 4, 5, 3, 2), (1, 5, 2, 3, 4), (1, 5, 2, 4, 3), (1, 5, 3, 2, 4), (1, 5, 3, 4, 2), (1, 5, 4, 2, 3), (1, 5, 4, 3, 2), (2, 1, 3, 4, 5), (2, 1, 3, 5, 4), (2, 1, 4, 3, 5), (2, 1, 4, 5, 3), (2, 1, 5, 3, 4), (2, 1, 5, 4, 3), (2, 3, 1, 4, 5), (2, 3, 1, 5, 4), (2, 3, 4, 1, 5), (2, 3, 4, 5, 1), (2, 3, 5, 1, 4), (2, 3, 5, 4, 1), (2, 4, 1, 3, 5), (2, 4, 1, 5, 3), (2, 4, 3, 1, 5), (2, 4, 3, 5, 1), (2, 4, 5, 1, 3), (2, 4, 5, 3, 1), (2, 5, 1, 3, 4), (2, 5, 1, 4, 3), (2, 5, 3, 1, 4), (2, 5, 3, 4, 1), (2, 5, 4, 1, 3), (2, 5, 4, 3, 1), (3, 1, 2, 4, 5), (3, 1, 2, 5, 4), (3, 1, 4, 2, 5), (3, 1, 4, 5, 2), (3, 1, 5, 2, 4), (3, 1, 5, 4, 2), (3, 2, 1, 4, 5), (3, 2, 1, 5, 4), (3, 2, 4, 1, 5), (3, 2, 4, 5, 1), (3, 2, 5, 1, 4), (3, 2, 5, 4, 1), (3, 4, 1, 2, 5), (3, 4, 1, 5, 2), (3, 4, 2, 1, 5), (3, 4, 2, 5, 1), (3, 4, 5, 1, 2), (3, 4, 5, 2, 1), (3, 5, 1, 2, 4), (3, 5, 1, 4, 2), (3, 5, 2, 1, 4), (3, 5, 2, 4, 1), (3, 5, 4, 1, 2), (3, 5, 4, 2, 1), (4, 1, 2, 3, 5), (4, 1, 2, 5, 3), (4, 1, 3, 2, 5), (4, 1, 3, 5, 2), (4, 1, 5, 2, 3), (4, 1, 5, 3, 2), (4, 2, 1, 3, 5), (4, 2, 1, 5, 3), (4, 2, 3, 1, 5), (4, 2, 3, 5, 1), (4, 2, 5, 1, 3), (4, 2, 5, 3, 1), (4, 3, 1, 2, 5), (4, 3, 1, 5, 2), (4, 3, 2, 1, 5), (4, 3, 2, 5, 1), (4, 3, 5, 1, 2), (4, 3, 5, 2, 1), (4, 5, 1, 2, 3), (4, 5, 1, 3, 2), (4, 5, 2, 1, 3), (4, 5, 2, 3, 1), (4, 5, 3, 1, 2), (4, 5, 3, 2, 1), (5, 1, 2, 3, 4), (5, 1, 2, 4, 3), (5, 1, 3, 2, 4), (5, 1, 3, 4, 2), (5, 1, 4, 2, 3), (5, 1, 4, 3, 2), (5, 2, 1, 3, 4), (5, 2, 1, 4, 3), (5, 2, 3, 1, 4), (5, 2, 3, 4, 1), (5, 2, 4, 1, 3), (5, 2, 4, 3, 1), (5, 3, 1, 2, 4), (5, 3, 1, 4, 2), (5, 3, 2, 1, 4), (5, 3, 2, 4, 1), (5, 3, 4, 1, 2), (5, 3, 4, 2, 1), (5, 4, 1, 2, 3), (5, 4, 1, 3, 2), (5, 4, 2, 1, 3), (5, 4, 2, 3, 1), (5, 4, 3, 1, 2), (5, 4, 3, 2, 1)]\n"
     ]
    }
   ],
   "source": [
    "import itertools\n",
    "\n",
    "num_list= [1,2,3,4,5]\n",
    "permutations_object = itertools.permutations(num_list)\n",
    "permutations_list = list(permutations_object)\n",
    "\n",
    "print (permutations_list)"
   ]
  },
  {
   "cell_type": "markdown",
   "id": "25d91970",
   "metadata": {},
   "source": [
    "Write a Python program to convert a list of characters into a string"
   ]
  },
  {
   "cell_type": "code",
   "execution_count": 25,
   "id": "921fe53e",
   "metadata": {},
   "outputs": [
    {
     "name": "stdout",
     "output_type": "stream",
     "text": [
      " ARAVIND\n"
     ]
    }
   ],
   "source": [
    "def add(a):\n",
    "    str=\" \"\n",
    "    \n",
    "    for x in a:\n",
    "        str+=x;\n",
    "    return str\n",
    "    \n",
    "\n",
    "char_list= ['A', 'R','A','V','I','N','D']\n",
    "print(add(char_list))"
   ]
  },
  {
   "cell_type": "markdown",
   "id": "5dd367eb",
   "metadata": {},
   "source": [
    "Write a Python program to select an item randomly from a list."
   ]
  },
  {
   "cell_type": "code",
   "execution_count": 29,
   "id": "d83c0500",
   "metadata": {},
   "outputs": [
    {
     "name": "stdout",
     "output_type": "stream",
     "text": [
      "Tiger\n"
     ]
    }
   ],
   "source": [
    "import random\n",
    "\n",
    "animals = [\"Tiger\", \"Lion\", \"Elephant\", \"Deer\", \"Snake\", \"Wolf\"]\n",
    "rand_animals = random.choice(animals)\n",
    "\n",
    "print(rand_animals)"
   ]
  },
  {
   "cell_type": "markdown",
   "id": "85a32427",
   "metadata": {},
   "source": [
    "Write a Python program to get the frequency of the elements in a list."
   ]
  },
  {
   "cell_type": "code",
   "execution_count": 32,
   "id": "00fb4f07",
   "metadata": {},
   "outputs": [
    {
     "name": "stdout",
     "output_type": "stream",
     "text": [
      "{'A': 3, 'B': 3, 'C': 1, 'D': 2}\n"
     ]
    }
   ],
   "source": [
    "a_list = ['A', 'A', 'B', 'C', 'B', 'D', 'D', 'A', 'B']\n",
    "f = {}\n",
    "\n",
    "for item in a_list:\n",
    "   \n",
    "   if item in f:\n",
    "      f[item] += 1\n",
    "   else:\n",
    "      f[item] = 1\n",
    "\n",
    "print(f)"
   ]
  },
  {
   "cell_type": "markdown",
   "id": "6e9a25d3",
   "metadata": {},
   "source": [
    "Write a Python program to shuffle and print a specified list"
   ]
  },
  {
   "cell_type": "code",
   "execution_count": 40,
   "id": "6f5bbfc3",
   "metadata": {},
   "outputs": [
    {
     "name": "stdout",
     "output_type": "stream",
     "text": [
      "['D', 'E', 'B', 'C', 'F', 'A']\n"
     ]
    }
   ],
   "source": [
    "a_list = ['A', 'B', 'C', 'D', 'E', 'F']\n",
    "shuffle_list = list(set(a_list))\n",
    "print(shuffle_list)"
   ]
  },
  {
   "cell_type": "markdown",
   "id": "aa1a9047",
   "metadata": {},
   "source": [
    "Write a Python program to convert a list of multiple integers into a single \n",
    "integer.\n",
    "Sample list: [11, 33, 50]\n",
    "Expected Output: 113350"
   ]
  },
  {
   "cell_type": "code",
   "execution_count": 41,
   "id": "f48c4832",
   "metadata": {},
   "outputs": [
    {
     "name": "stdout",
     "output_type": "stream",
     "text": [
      "113350"
     ]
    }
   ],
   "source": [
    "b_list = [11,33,50]\n",
    "l = \"\"\n",
    "\n",
    "for a in b_list:\n",
    "    print(a, end=\"\")"
   ]
  },
  {
   "cell_type": "markdown",
   "id": "aba44b97",
   "metadata": {},
   "source": [
    "Write a Python program to multiplies all the items in a list"
   ]
  },
  {
   "cell_type": "code",
   "execution_count": 43,
   "id": "dd5d4deb",
   "metadata": {},
   "outputs": [
    {
     "name": "stdout",
     "output_type": "stream",
     "text": [
      "16\n"
     ]
    }
   ],
   "source": [
    "def multiplyList(myList) :\n",
    "     \n",
    "    \n",
    "    result = 1\n",
    "    for x in myList:\n",
    "         result = result * x\n",
    "    return result\n",
    "\n",
    "list1 = [2,2,4]\n",
    "print(multiplyList(list1))"
   ]
  }
 ],
 "metadata": {
  "kernelspec": {
   "display_name": "Python 3 (ipykernel)",
   "language": "python",
   "name": "python3"
  },
  "language_info": {
   "codemirror_mode": {
    "name": "ipython",
    "version": 3
   },
   "file_extension": ".py",
   "mimetype": "text/x-python",
   "name": "python",
   "nbconvert_exporter": "python",
   "pygments_lexer": "ipython3",
   "version": "3.9.7"
  }
 },
 "nbformat": 4,
 "nbformat_minor": 5
}
