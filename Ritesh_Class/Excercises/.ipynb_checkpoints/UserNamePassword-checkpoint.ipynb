{
 "cells": [
  {
   "cell_type": "code",
   "execution_count": 1,
   "id": "af1ee8e8",
   "metadata": {},
   "outputs": [
    {
     "name": "stdout",
     "output_type": "stream",
     "text": [
      "Enter a user Name:\n",
      " aravindv\n",
      "Wrong UserName, try again\n",
      "Attempt1\n",
      "Enter a user Name:\n",
      " aravind\n",
      "Enter the password:\n",
      "aravind123\n",
      "Login Successfully !!!\n"
     ]
    }
   ],
   "source": [
    "user_name = {\"aravind\": \"aravind123\", \"rajesh\": \"rajesh123\", \"ramesh\": \"ramesh123\", \"kiran\": \"kiran123\"}\n",
    "user_count = 0\n",
    "password_count = 0\n",
    "\n",
    "while user_count < 5:\n",
    "    user = input(\"Enter a user Name:\\n \")\n",
    "    if user in user_name:\n",
    "        while password_count < 5:\n",
    "            password = input(\"Enter the password:\\n\")\n",
    "            if password == user_name[user]:\n",
    "                print(\"Login Successfully !!!\")\n",
    "                break\n",
    "\n",
    "            else:\n",
    "                print(\"Wrong password, try again\")\n",
    "                password_count += 1\n",
    "                print(f\"Attempt{password_count}\")\n",
    "        else:\n",
    "            print(\"Account locked because of wrong password, Please try after an hour\")\n",
    "        break\n",
    "\n",
    "    else:\n",
    "        print(\"Wrong UserName, try again\")\n",
    "        user_count += 1\n",
    "        print(f\"Attempt{user_count}\")\n",
    "else:\n",
    "    print(\"Account locked because of wrong userName, Please try after an hour\")"
   ]
  },
  {
   "cell_type": "code",
   "execution_count": null,
   "id": "5111b2a1",
   "metadata": {},
   "outputs": [],
   "source": []
  }
 ],
 "metadata": {
  "kernelspec": {
   "display_name": "Python 3 (ipykernel)",
   "language": "python",
   "name": "python3"
  },
  "language_info": {
   "codemirror_mode": {
    "name": "ipython",
    "version": 3
   },
   "file_extension": ".py",
   "mimetype": "text/x-python",
   "name": "python",
   "nbconvert_exporter": "python",
   "pygments_lexer": "ipython3",
   "version": "3.9.7"
  }
 },
 "nbformat": 4,
 "nbformat_minor": 5
}
