{
 "cells": [
  {
   "cell_type": "code",
   "execution_count": null,
   "id": "7214a486",
   "metadata": {},
   "outputs": [],
   "source": [
    "import pandas as pd\n",
    "import numpy as np"
   ]
  },
  {
   "cell_type": "code",
   "execution_count": null,
   "id": "63f68fcc",
   "metadata": {},
   "outputs": [],
   "source": [
    "df = pd.read_csv(\"Social_Network_Ads.csv\")\n",
    "df"
   ]
  },
  {
   "cell_type": "code",
   "execution_count": null,
   "id": "09561a7c",
   "metadata": {},
   "outputs": [],
   "source": [
    "X = df.iloc[:,1:4]\n",
    "y = df.iloc[:,[-1]]"
   ]
  },
  {
   "cell_type": "code",
   "execution_count": null,
   "id": "8a5252d1",
   "metadata": {},
   "outputs": [],
   "source": [
    "y"
   ]
  },
  {
   "cell_type": "code",
   "execution_count": null,
   "id": "3cfaf034",
   "metadata": {},
   "outputs": [],
   "source": [
    "from sklearn.preprocessing import StandardScaler,LabelEncoder\n",
    "from sklearn.ensemble import RandomForestClassifier"
   ]
  },
  {
   "cell_type": "code",
   "execution_count": null,
   "id": "3629e5dc",
   "metadata": {},
   "outputs": [],
   "source": [
    "#!pip install sklearn_pandas"
   ]
  },
  {
   "cell_type": "code",
   "execution_count": null,
   "id": "197a243d",
   "metadata": {},
   "outputs": [],
   "source": [
    "from sklearn import pipeline\n",
    "from sklearn_pandas import DataFrameMapper"
   ]
  },
  {
   "cell_type": "code",
   "execution_count": null,
   "id": "0095ee69",
   "metadata": {},
   "outputs": [],
   "source": [
    "m=DataFrameMapper([([\"Age\",\"EstimatedSalary\"],StandardScaler())])"
   ]
  },
  {
   "cell_type": "code",
   "execution_count": null,
   "id": "84e48123",
   "metadata": {},
   "outputs": [],
   "source": [
    "m = DataFrameMapper([([\"Gender\"],LabelEncoder()),([\"Age\",\"EstimatedSalary\"],StandardScaler())])"
   ]
  },
  {
   "cell_type": "code",
   "execution_count": null,
   "id": "9519cb44",
   "metadata": {},
   "outputs": [],
   "source": [
    "main_model = pipeline.Pipeline([('mapper',m),('model',RandomForestClassifier(n_estimators=10,random_state=0,ccp_alpha=0.00723))])\n",
    "main_model.fit(X,y)"
   ]
  },
  {
   "cell_type": "markdown",
   "id": "13d3b068",
   "metadata": {},
   "source": [
    "# Model Saving"
   ]
  },
  {
   "cell_type": "code",
   "execution_count": null,
   "id": "8bd699d6",
   "metadata": {},
   "outputs": [],
   "source": [
    "import pickle"
   ]
  },
  {
   "cell_type": "code",
   "execution_count": null,
   "id": "7b9078a8",
   "metadata": {},
   "outputs": [],
   "source": [
    "f1 = open(file=\"main_model_pipeline.pkl\",mode=\"wb\")\n",
    "pickle.dump(main_model,f1)\n",
    "f1.close()"
   ]
  },
  {
   "cell_type": "code",
   "execution_count": null,
   "id": "67b2318c",
   "metadata": {},
   "outputs": [],
   "source": []
  },
  {
   "cell_type": "code",
   "execution_count": null,
   "id": "5ec3153d",
   "metadata": {},
   "outputs": [],
   "source": []
  },
  {
   "cell_type": "markdown",
   "id": "8d324370",
   "metadata": {},
   "source": [
    "# Load model"
   ]
  },
  {
   "cell_type": "code",
   "execution_count": 5,
   "id": "3d43ec45",
   "metadata": {},
   "outputs": [],
   "source": [
    "import pickle\n",
    "import numpy as np\n",
    "import pandas as pd"
   ]
  },
  {
   "cell_type": "code",
   "execution_count": 6,
   "id": "3182ad2e",
   "metadata": {},
   "outputs": [
    {
     "name": "stdout",
     "output_type": "stream",
     "text": [
      "Model loaded\n"
     ]
    }
   ],
   "source": [
    "f1 = open(file=\"main_model_pipeline.pkl\",mode=\"rb\")\n",
    "model = pickle.load(f1)\n",
    "f1.close()\n",
    "\n",
    "print(\"Model loaded\")"
   ]
  },
  {
   "cell_type": "code",
   "execution_count": 7,
   "id": "8b271f9f",
   "metadata": {},
   "outputs": [],
   "source": [
    "user = np.array([[\"Male\",30,60000]])"
   ]
  },
  {
   "cell_type": "code",
   "execution_count": 8,
   "id": "da5fb9d2",
   "metadata": {},
   "outputs": [
    {
     "data": {
      "text/plain": [
       "(1, 3)"
      ]
     },
     "execution_count": 8,
     "metadata": {},
     "output_type": "execute_result"
    }
   ],
   "source": [
    "user.shape"
   ]
  },
  {
   "cell_type": "code",
   "execution_count": 16,
   "id": "9d96051a",
   "metadata": {},
   "outputs": [],
   "source": [
    "def prediction(gender,age,salary):\n",
    "    user = np.array([[\"Male\",30,60000]])\n",
    "    new = pd.DataFrame(user,columns=[\"Gender\",\"Age\",\"EstimatedSalary\"])\n",
    "    result = model.predict(new)\n",
    "    \n",
    "    if result==0:\n",
    "        return \"Person don't have a car\"\n",
    "    else:\n",
    "        return \"Person have a car\""
   ]
  },
  {
   "cell_type": "code",
   "execution_count": 17,
   "id": "8d38f10c",
   "metadata": {},
   "outputs": [
    {
     "name": "stderr",
     "output_type": "stream",
     "text": [
      "C:\\Users\\Admin\\anaconda3\\lib\\site-packages\\sklearn\\utils\\validation.py:63: DataConversionWarning: A column-vector y was passed when a 1d array was expected. Please change the shape of y to (n_samples, ), for example using ravel().\n",
      "  return f(*args, **kwargs)\n"
     ]
    },
    {
     "data": {
      "text/plain": [
       "\"Person don't have a car\""
      ]
     },
     "execution_count": 17,
     "metadata": {},
     "output_type": "execute_result"
    }
   ],
   "source": [
    "prediction(\"Male\",40,100000)"
   ]
  },
  {
   "cell_type": "code",
   "execution_count": null,
   "id": "c23c1956",
   "metadata": {},
   "outputs": [],
   "source": []
  }
 ],
 "metadata": {
  "kernelspec": {
   "display_name": "Python 3 (ipykernel)",
   "language": "python",
   "name": "python3"
  },
  "language_info": {
   "codemirror_mode": {
    "name": "ipython",
    "version": 3
   },
   "file_extension": ".py",
   "mimetype": "text/x-python",
   "name": "python",
   "nbconvert_exporter": "python",
   "pygments_lexer": "ipython3",
   "version": "3.9.7"
  }
 },
 "nbformat": 4,
 "nbformat_minor": 5
}
