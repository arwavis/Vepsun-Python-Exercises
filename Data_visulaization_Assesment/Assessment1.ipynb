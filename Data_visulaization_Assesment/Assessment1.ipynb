{
 "cells": [
  {
   "cell_type": "code",
   "execution_count": 1,
   "id": "2db02659-e3fe-4a01-9f03-b9071c895d3e",
   "metadata": {},
   "outputs": [],
   "source": [
    "import pandas as pd\n",
    "import numpy as np\n",
    "import matplotlib.pyplot as plt\n",
    "%matplotlib inline"
   ]
  },
  {
   "cell_type": "markdown",
   "id": "5f8fafef-0eb5-41b6-80fd-ab1c40ccdf4d",
   "metadata": {},
   "source": [
    "# My DataSet"
   ]
  },
  {
   "cell_type": "code",
   "execution_count": 2,
   "id": "e128d6f3-aab8-4fd4-a012-8975519d5d86",
   "metadata": {},
   "outputs": [
    {
     "data": {
      "text/html": [
       "<div>\n",
       "<style scoped>\n",
       "    .dataframe tbody tr th:only-of-type {\n",
       "        vertical-align: middle;\n",
       "    }\n",
       "\n",
       "    .dataframe tbody tr th {\n",
       "        vertical-align: top;\n",
       "    }\n",
       "\n",
       "    .dataframe thead th {\n",
       "        text-align: right;\n",
       "    }\n",
       "</style>\n",
       "<table border=\"1\" class=\"dataframe\">\n",
       "  <thead>\n",
       "    <tr style=\"text-align: right;\">\n",
       "      <th></th>\n",
       "      <th>Student_Name</th>\n",
       "      <th>Engish</th>\n",
       "      <th>Science</th>\n",
       "      <th>Maths</th>\n",
       "      <th>French</th>\n",
       "      <th>Geography</th>\n",
       "    </tr>\n",
       "  </thead>\n",
       "  <tbody>\n",
       "    <tr>\n",
       "      <th>0</th>\n",
       "      <td>Ram</td>\n",
       "      <td>48</td>\n",
       "      <td>38</td>\n",
       "      <td>47</td>\n",
       "      <td>56</td>\n",
       "      <td>57</td>\n",
       "    </tr>\n",
       "    <tr>\n",
       "      <th>1</th>\n",
       "      <td>Rajesh</td>\n",
       "      <td>28</td>\n",
       "      <td>16</td>\n",
       "      <td>78</td>\n",
       "      <td>87</td>\n",
       "      <td>59</td>\n",
       "    </tr>\n",
       "    <tr>\n",
       "      <th>2</th>\n",
       "      <td>Sam</td>\n",
       "      <td>49</td>\n",
       "      <td>58</td>\n",
       "      <td>37</td>\n",
       "      <td>25</td>\n",
       "      <td>40</td>\n",
       "    </tr>\n",
       "    <tr>\n",
       "      <th>3</th>\n",
       "      <td>Sandy</td>\n",
       "      <td>90</td>\n",
       "      <td>89</td>\n",
       "      <td>30</td>\n",
       "      <td>61</td>\n",
       "      <td>95</td>\n",
       "    </tr>\n",
       "    <tr>\n",
       "      <th>4</th>\n",
       "      <td>Anil</td>\n",
       "      <td>100</td>\n",
       "      <td>96</td>\n",
       "      <td>95</td>\n",
       "      <td>90</td>\n",
       "      <td>94</td>\n",
       "    </tr>\n",
       "  </tbody>\n",
       "</table>\n",
       "</div>"
      ],
      "text/plain": [
       "  Student_Name  Engish  Science  Maths  French  Geography \n",
       "0          Ram      48       38     47      56          57\n",
       "1       Rajesh      28       16     78      87          59\n",
       "2          Sam      49       58     37      25          40\n",
       "3        Sandy      90       89     30      61          95\n",
       "4         Anil     100       96     95      90          94"
      ]
     },
     "execution_count": 2,
     "metadata": {},
     "output_type": "execute_result"
    }
   ],
   "source": [
    "data = ({\n",
    "        'Student_Name':[\"Ram\",\"Rajesh\",\"Sam\",\"Sandy\",\"Anil\"],\n",
    "        'Engish':[48,28,49,90,100],\n",
    "        'Science':[38,16,58,89,96],\n",
    "        'Maths':[47,78,37,30,95],\n",
    "        'French':[56,87,25,61,90],\n",
    "        'Geography ':[57,59,40,95,94]\n",
    "        })\n",
    "\n",
    "df = pd.DataFrame(data)\n",
    "df"
   ]
  },
  {
   "cell_type": "code",
   "execution_count": 3,
   "id": "fd83b26c-d5a3-48fb-9640-b70c9da2a942",
   "metadata": {},
   "outputs": [
    {
     "data": {
      "text/html": [
       "<div>\n",
       "<style scoped>\n",
       "    .dataframe tbody tr th:only-of-type {\n",
       "        vertical-align: middle;\n",
       "    }\n",
       "\n",
       "    .dataframe tbody tr th {\n",
       "        vertical-align: top;\n",
       "    }\n",
       "\n",
       "    .dataframe thead th {\n",
       "        text-align: right;\n",
       "    }\n",
       "</style>\n",
       "<table border=\"1\" class=\"dataframe\">\n",
       "  <thead>\n",
       "    <tr style=\"text-align: right;\">\n",
       "      <th></th>\n",
       "      <th>Student_Name</th>\n",
       "      <th>Engish</th>\n",
       "      <th>Science</th>\n",
       "      <th>Maths</th>\n",
       "      <th>French</th>\n",
       "      <th>Geography</th>\n",
       "    </tr>\n",
       "  </thead>\n",
       "  <tbody>\n",
       "    <tr>\n",
       "      <th>0</th>\n",
       "      <td>Ram</td>\n",
       "      <td>48</td>\n",
       "      <td>38</td>\n",
       "      <td>47</td>\n",
       "      <td>56</td>\n",
       "      <td>57</td>\n",
       "    </tr>\n",
       "    <tr>\n",
       "      <th>1</th>\n",
       "      <td>Rajesh</td>\n",
       "      <td>28</td>\n",
       "      <td>16</td>\n",
       "      <td>78</td>\n",
       "      <td>87</td>\n",
       "      <td>59</td>\n",
       "    </tr>\n",
       "    <tr>\n",
       "      <th>2</th>\n",
       "      <td>Sam</td>\n",
       "      <td>49</td>\n",
       "      <td>58</td>\n",
       "      <td>37</td>\n",
       "      <td>25</td>\n",
       "      <td>40</td>\n",
       "    </tr>\n",
       "    <tr>\n",
       "      <th>3</th>\n",
       "      <td>Sandy</td>\n",
       "      <td>90</td>\n",
       "      <td>89</td>\n",
       "      <td>30</td>\n",
       "      <td>61</td>\n",
       "      <td>95</td>\n",
       "    </tr>\n",
       "    <tr>\n",
       "      <th>4</th>\n",
       "      <td>Anil</td>\n",
       "      <td>100</td>\n",
       "      <td>96</td>\n",
       "      <td>95</td>\n",
       "      <td>90</td>\n",
       "      <td>94</td>\n",
       "    </tr>\n",
       "  </tbody>\n",
       "</table>\n",
       "</div>"
      ],
      "text/plain": [
       "  Student_Name  Engish  Science  Maths  French  Geography \n",
       "0          Ram      48       38     47      56          57\n",
       "1       Rajesh      28       16     78      87          59\n",
       "2          Sam      49       58     37      25          40\n",
       "3        Sandy      90       89     30      61          95\n",
       "4         Anil     100       96     95      90          94"
      ]
     },
     "execution_count": 3,
     "metadata": {},
     "output_type": "execute_result"
    }
   ],
   "source": [
    "df.to_csv('marks.csv', header=True, index=False)\n",
    "df1 = pd.read_csv('marks.csv')\n",
    "df1\n"
   ]
  },
  {
   "cell_type": "markdown",
   "id": "8f343466-da87-4e17-9448-6368a2dbef0b",
   "metadata": {
    "tags": []
   },
   "source": [
    "# Calculated Average of the marks"
   ]
  },
  {
   "cell_type": "code",
   "execution_count": 4,
   "id": "438a68f7-a856-46a1-93dd-c6baf3c5c7a2",
   "metadata": {},
   "outputs": [
    {
     "data": {
      "text/html": [
       "<div>\n",
       "<style scoped>\n",
       "    .dataframe tbody tr th:only-of-type {\n",
       "        vertical-align: middle;\n",
       "    }\n",
       "\n",
       "    .dataframe tbody tr th {\n",
       "        vertical-align: top;\n",
       "    }\n",
       "\n",
       "    .dataframe thead th {\n",
       "        text-align: right;\n",
       "    }\n",
       "</style>\n",
       "<table border=\"1\" class=\"dataframe\">\n",
       "  <thead>\n",
       "    <tr style=\"text-align: right;\">\n",
       "      <th></th>\n",
       "      <th>Student_Name</th>\n",
       "      <th>Engish</th>\n",
       "      <th>Science</th>\n",
       "      <th>Maths</th>\n",
       "      <th>French</th>\n",
       "      <th>Geography</th>\n",
       "      <th>Avg</th>\n",
       "    </tr>\n",
       "  </thead>\n",
       "  <tbody>\n",
       "    <tr>\n",
       "      <th>0</th>\n",
       "      <td>Ram</td>\n",
       "      <td>48</td>\n",
       "      <td>38</td>\n",
       "      <td>47</td>\n",
       "      <td>56</td>\n",
       "      <td>57</td>\n",
       "      <td>49.2</td>\n",
       "    </tr>\n",
       "    <tr>\n",
       "      <th>1</th>\n",
       "      <td>Rajesh</td>\n",
       "      <td>28</td>\n",
       "      <td>16</td>\n",
       "      <td>78</td>\n",
       "      <td>87</td>\n",
       "      <td>59</td>\n",
       "      <td>53.6</td>\n",
       "    </tr>\n",
       "    <tr>\n",
       "      <th>2</th>\n",
       "      <td>Sam</td>\n",
       "      <td>49</td>\n",
       "      <td>58</td>\n",
       "      <td>37</td>\n",
       "      <td>25</td>\n",
       "      <td>40</td>\n",
       "      <td>41.8</td>\n",
       "    </tr>\n",
       "    <tr>\n",
       "      <th>3</th>\n",
       "      <td>Sandy</td>\n",
       "      <td>90</td>\n",
       "      <td>89</td>\n",
       "      <td>30</td>\n",
       "      <td>61</td>\n",
       "      <td>95</td>\n",
       "      <td>73.0</td>\n",
       "    </tr>\n",
       "    <tr>\n",
       "      <th>4</th>\n",
       "      <td>Anil</td>\n",
       "      <td>100</td>\n",
       "      <td>96</td>\n",
       "      <td>95</td>\n",
       "      <td>90</td>\n",
       "      <td>94</td>\n",
       "      <td>95.0</td>\n",
       "    </tr>\n",
       "  </tbody>\n",
       "</table>\n",
       "</div>"
      ],
      "text/plain": [
       "  Student_Name  Engish  Science  Maths  French  Geography    Avg\n",
       "0          Ram      48       38     47      56          57  49.2\n",
       "1       Rajesh      28       16     78      87          59  53.6\n",
       "2          Sam      49       58     37      25          40  41.8\n",
       "3        Sandy      90       89     30      61          95  73.0\n",
       "4         Anil     100       96     95      90          94  95.0"
      ]
     },
     "execution_count": 4,
     "metadata": {},
     "output_type": "execute_result"
    }
   ],
   "source": [
    "df1['Avg'] = df1.mean(numeric_only=True,axis=1)\n",
    "df1"
   ]
  },
  {
   "cell_type": "markdown",
   "id": "213c3fbb-faf6-43bd-b9c9-67fdf51f25fb",
   "metadata": {},
   "source": [
    "# Bar Chart\n",
    "\n",
    "### Student Name Vs Avg"
   ]
  },
  {
   "cell_type": "code",
   "execution_count": 5,
   "id": "7ee44d64-dc7d-4960-8df5-eff540f622c1",
   "metadata": {},
   "outputs": [
    {
     "data": {
      "image/png": "[encoded data removed]",
      "text/plain": [
       "<Figure size 432x288 with 1 Axes>"
      ]
     },
     "metadata": {
      "needs_background": "light"
     },
     "output_type": "display_data"
    }
   ],
   "source": [
    "ax = df1.plot.bar(x='Student_Name', y='Avg', rot=0)"
   ]
  },
  {
   "cell_type": "code",
   "execution_count": 6,
   "id": "e631d8b9-148b-47ea-9ff6-d9d36d3308f8",
   "metadata": {},
   "outputs": [
    {
     "data": {
      "text/html": [
       "<div>\n",
       "<style scoped>\n",
       "    .dataframe tbody tr th:only-of-type {\n",
       "        vertical-align: middle;\n",
       "    }\n",
       "\n",
       "    .dataframe tbody tr th {\n",
       "        vertical-align: top;\n",
       "    }\n",
       "\n",
       "    .dataframe thead th {\n",
       "        text-align: right;\n",
       "    }\n",
       "</style>\n",
       "<table border=\"1\" class=\"dataframe\">\n",
       "  <thead>\n",
       "    <tr style=\"text-align: right;\">\n",
       "      <th></th>\n",
       "      <th>Student_Name</th>\n",
       "      <th>Engish</th>\n",
       "      <th>Science</th>\n",
       "      <th>Maths</th>\n",
       "      <th>French</th>\n",
       "      <th>Geography</th>\n",
       "      <th>Avg</th>\n",
       "    </tr>\n",
       "  </thead>\n",
       "  <tbody>\n",
       "    <tr>\n",
       "      <th>0</th>\n",
       "      <td>Ram</td>\n",
       "      <td>48</td>\n",
       "      <td>38</td>\n",
       "      <td>47</td>\n",
       "      <td>56</td>\n",
       "      <td>57</td>\n",
       "      <td>49.2</td>\n",
       "    </tr>\n",
       "    <tr>\n",
       "      <th>1</th>\n",
       "      <td>Rajesh</td>\n",
       "      <td>28</td>\n",
       "      <td>16</td>\n",
       "      <td>78</td>\n",
       "      <td>87</td>\n",
       "      <td>59</td>\n",
       "      <td>53.6</td>\n",
       "    </tr>\n",
       "    <tr>\n",
       "      <th>2</th>\n",
       "      <td>Sam</td>\n",
       "      <td>49</td>\n",
       "      <td>58</td>\n",
       "      <td>37</td>\n",
       "      <td>25</td>\n",
       "      <td>40</td>\n",
       "      <td>41.8</td>\n",
       "    </tr>\n",
       "    <tr>\n",
       "      <th>3</th>\n",
       "      <td>Sandy</td>\n",
       "      <td>90</td>\n",
       "      <td>89</td>\n",
       "      <td>30</td>\n",
       "      <td>61</td>\n",
       "      <td>95</td>\n",
       "      <td>73.0</td>\n",
       "    </tr>\n",
       "    <tr>\n",
       "      <th>4</th>\n",
       "      <td>Anil</td>\n",
       "      <td>100</td>\n",
       "      <td>96</td>\n",
       "      <td>95</td>\n",
       "      <td>90</td>\n",
       "      <td>94</td>\n",
       "      <td>95.0</td>\n",
       "    </tr>\n",
       "  </tbody>\n",
       "</table>\n",
       "</div>"
      ],
      "text/plain": [
       "  Student_Name  Engish  Science  Maths  French  Geography    Avg\n",
       "0          Ram      48       38     47      56          57  49.2\n",
       "1       Rajesh      28       16     78      87          59  53.6\n",
       "2          Sam      49       58     37      25          40  41.8\n",
       "3        Sandy      90       89     30      61          95  73.0\n",
       "4         Anil     100       96     95      90          94  95.0"
      ]
     },
     "execution_count": 6,
     "metadata": {},
     "output_type": "execute_result"
    }
   ],
   "source": [
    "df1"
   ]
  },
  {
   "cell_type": "code",
   "execution_count": 7,
   "id": "6e299ce3-d28c-4e4a-b64b-767ee353e19f",
   "metadata": {},
   "outputs": [
    {
     "data": {
      "text/plain": [
       "<AxesSubplot:ylabel='Avg'>"
      ]
     },
     "execution_count": 7,
     "metadata": {},
     "output_type": "execute_result"
    },
    {
     "data": {
      "image/png": "[encoded data removed]",
      "text/plain": [
       "<Figure size 432x288 with 1 Axes>"
      ]
     },
     "metadata": {},
     "output_type": "display_data"
    }
   ],
   "source": [
    "df1.groupby(['Student_Name']).sum().plot(kind='pie', y='Avg',autopct='%1.0f%%')"
   ]
  },
  {
   "cell_type": "code",
   "execution_count": 8,
   "id": "41265a17-e289-48d9-8c4b-61bebf6a3d97",
   "metadata": {},
   "outputs": [
    {
     "data": {
      "text/plain": [
       "array([[<AxesSubplot:title={'center':'Engish'}>,\n",
       "        <AxesSubplot:title={'center':'Science'}>],\n",
       "       [<AxesSubplot:title={'center':'Maths'}>,\n",
       "        <AxesSubplot:title={'center':'French'}>],\n",
       "       [<AxesSubplot:title={'center':'Geography '}>,\n",
       "        <AxesSubplot:title={'center':'Avg'}>]], dtype=object)"
      ]
     },
     "execution_count": 8,
     "metadata": {},
     "output_type": "execute_result"
    },
    {
     "data": {
      "image/png": "[encoded data removed]",
      "text/plain": [
       "<Figure size 432x288 with 6 Axes>"
      ]
     },
     "metadata": {
      "needs_background": "light"
     },
     "output_type": "display_data"
    }
   ],
   "source": [
    "df1.hist()"
   ]
  },
  {
   "cell_type": "code",
   "execution_count": null,
   "id": "f7dae583-63da-4caa-895d-f620b90d03dd",
   "metadata": {},
   "outputs": [],
   "source": []
  }
 ],
 "metadata": {
  "kernelspec": {
   "display_name": "Python 3 (ipykernel)",
   "language": "python",
   "name": "python3"
  },
  "language_info": {
   "codemirror_mode": {
    "name": "ipython",
    "version": 3
   },
   "file_extension": ".py",
   "mimetype": "text/x-python",
   "name": "python",
   "nbconvert_exporter": "python",
   "pygments_lexer": "ipython3",
   "version": "3.8.8"
  }
 },
 "nbformat": 4,
 "nbformat_minor": 5
}
